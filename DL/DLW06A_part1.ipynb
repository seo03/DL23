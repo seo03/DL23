{
  "nbformat": 4,
  "nbformat_minor": 0,
  "metadata": {
    "colab": {
      "provenance": [],
      "include_colab_link": true
    },
    "kernelspec": {
      "name": "python3",
      "display_name": "Python 3"
    },
    "language_info": {
      "name": "python"
    }
  },
  "cells": [
    {
      "cell_type": "markdown",
      "metadata": {
        "id": "view-in-github",
        "colab_type": "text"
      },
      "source": [
        "<a href=\"https://colab.research.google.com/github/seo03/DL23/blob/main/DL/DLW06A_part1.ipynb\" target=\"_parent\"><img src=\"https://colab.research.google.com/assets/colab-badge.svg\" alt=\"Open In Colab\"/></a>"
      ]
    },
    {
      "cell_type": "markdown",
      "source": [
        "# 🌀**DLW06A Part I (4/12)** Coding and Language games"
      ],
      "metadata": {
        "id": "_mbT_YJKGkm-"
      }
    },
    {
      "cell_type": "markdown",
      "source": [
        "# 💕 Goal: Creating an app similar to **_Word Guessing Game from Hints_**\n",
        "\n",
        "We will be spending 2 weeks to get this go."
      ],
      "metadata": {
        "id": "ppmHMRdisMiv"
      }
    },
    {
      "cell_type": "markdown",
      "source": [
        "##💦 **Demo 1: Making a word quiz.**"
      ],
      "metadata": {
        "id": "MWpQZGE5wZgt"
      }
    },
    {
      "cell_type": "code",
      "source": [
        "#@markdown Run this code to see guesiong game\n",
        "import random\n",
        "\n",
        "# Define a dictionary of words and their hints\n",
        "word_hints = {\n",
        "    \"suprasegmental\": [\n",
        "        \"This term is related to the features of speech that go beyond individual sounds.\",\n",
        "        \"It is often associated with intonation, stress, and timing.\",\n",
        "        \"Examples include pitch, tone, and stress patterns.\",\n",
        "        \"The answer begins with 's'.\"\n",
        "    ],\n",
        "    \"geminate\": [\n",
        "        \"This term is related to a specific type of consonant.\",\n",
        "        \"It refers to a consonant that is pronounced for a longer duration than its regular counterpart.\",\n",
        "        \"In some languages, it can be represented by doubling the consonant in writing.\",\n",
        "        \"The answer begins with 'g'.\"\n",
        "    ],\n",
        "    \"syllable\": [\n",
        "        \"This term is related to a unit of speech.\",\n",
        "        \"It is a sequence of speech sounds, typically consisting of a vowel and any surrounding consonants.\",\n",
        "        \"A word can have one or multiple of these units.\",\n",
        "        \"The answer begins with 's'.\"\n",
        "    ]\n",
        "}\n",
        "\n",
        "# Define guessing game\n",
        "\n",
        "def guessing_game(word_hints):\n",
        "    words = list(word_hints.keys())\n",
        "    random.shuffle(words)\n",
        "\n",
        "    for word in words:\n",
        "        print(\"\\nGuess the word based on the following hints:\")\n",
        "        hints = word_hints[word]\n",
        "        attempts = 0\n",
        "\n",
        "        while attempts < len(hints):\n",
        "            print(f\"Hint {attempts + 1}: {hints[attempts]}\")\n",
        "            guess = input(\"Your guess: \").strip().lower()\n",
        "\n",
        "            if guess == word.lower():\n",
        "                print(\"Congratulations! You guessed the correct word!\\n\")\n",
        "                break\n",
        "            else:\n",
        "                print(\"Incorrect. Try again with another hint.\\n\")\n",
        "                attempts += 1\n",
        "\n",
        "        if attempts == len(hints):\n",
        "            print(f\"Sorry, you've run out of hints. The correct word was: {word}\\n\")\n",
        "\n",
        "# Using this conditional structure is a common practice in Python to allow a script to be both executed as a standalone program and imported as a module in other scripts without immediately running the code within the script.\n",
        "if __name__ == \"__main__\":\n",
        "  guessing_game(word_hints)"
      ],
      "metadata": {
        "cellView": "form",
        "id": "68fDLUnZs8KF",
        "outputId": "0dbffdc2-50be-48e6-a2dd-367f69aadacf",
        "colab": {
          "base_uri": "https://localhost:8080/"
        }
      },
      "execution_count": 1,
      "outputs": [
        {
          "output_type": "stream",
          "name": "stdout",
          "text": [
            "\n",
            "Guess the word based on the following hints:\n",
            "Hint 1: This term is related to a unit of speech.\n",
            "Your guess: phoneme\n",
            "Incorrect. Try again with another hint.\n",
            "\n",
            "Hint 2: It is a sequence of speech sounds, typically consisting of a vowel and any surrounding consonants.\n",
            "Your guess: segment\n",
            "Incorrect. Try again with another hint.\n",
            "\n",
            "Hint 3: A word can have one or multiple of these units.\n",
            "Your guess: syllable\n",
            "Congratulations! You guessed the correct word!\n",
            "\n",
            "\n",
            "Guess the word based on the following hints:\n",
            "Hint 1: This term is related to the features of speech that go beyond individual sounds.\n",
            "Your guess: phoneme\n",
            "Incorrect. Try again with another hint.\n",
            "\n",
            "Hint 2: It is often associated with intonation, stress, and timing.\n",
            "Your guess: suprasegmental\n",
            "Congratulations! You guessed the correct word!\n",
            "\n",
            "\n",
            "Guess the word based on the following hints:\n",
            "Hint 1: This term is related to a specific type of consonant.\n",
            "Your guess: \n",
            "Incorrect. Try again with another hint.\n",
            "\n",
            "Hint 2: It refers to a consonant that is pronounced for a longer duration than its regular counterpart.\n",
            "Your guess: \n",
            "Incorrect. Try again with another hint.\n",
            "\n",
            "Hint 3: In some languages, it can be represented by doubling the consonant in writing.\n",
            "Your guess: \n",
            "Incorrect. Try again with another hint.\n",
            "\n",
            "Hint 4: The answer begins with 'g'.\n",
            "Your guess: glide\n",
            "Incorrect. Try again with another hint.\n",
            "\n",
            "Sorry, you've run out of hints. The correct word was: geminate\n",
            "\n"
          ]
        }
      ]
    },
    {
      "cell_type": "markdown",
      "source": [
        "##💦**Demo 2: Convert a statement to a yes-no question**"
      ],
      "metadata": {
        "id": "DKwjeU8pW-iu"
      }
    },
    {
      "cell_type": "code",
      "source": [
        "#@markdown Install and import libraries\n",
        "%%capture\n",
        "!pip install gtts\n",
        "!pip install IPython\n",
        "from gtts import gTTS\n",
        "from IPython.display import Audio, display\n",
        "\n",
        "#@markdown etts(), ktts()\n",
        "def etts(text):\n",
        "  text_to_say = text\n",
        "\n",
        "  gtts_object = gTTS(text = text_to_say,\n",
        "                     lang = \"en\",\n",
        "                    slow = False)\n",
        "  \n",
        "  gtts_object.save(\"E-audio.mp3\")\n",
        "  return Audio(\"E-audio.mp3\")\n",
        "\n",
        "def ktts(text):\n",
        "  text_to_say = text\n",
        "\n",
        "  gtts_object = gTTS(text = text_to_say,\n",
        "                     lang = \"ko\",\n",
        "                    slow = False)\n",
        "  \n",
        "  gtts_object.save(\"K-audio.mp3\")\n",
        "  return Audio(\"K-audio.mp3\")"
      ],
      "metadata": {
        "cellView": "form",
        "id": "TajMEehr8_7D"
      },
      "execution_count": 2,
      "outputs": []
    },
    {
      "cell_type": "markdown",
      "source": [
        "---\n",
        "### Complete version with some restriction \n",
        "\n",
        "1. The statement you're entering must contain a be-verb.\n",
        "2. If you use a proper noun as a subject, restrict it to one of the followings: \n",
        "\n",
        "> **Male: Tom, Thomas, Bill**\n",
        "\n",
        "> **Female: Mary, Jane, Jessica**\n",
        "\n",
        "2. Must contain a punctuation(.)\n",
        "---"
      ],
      "metadata": {
        "id": "5XYJaX2IDrOu"
      }
    },
    {
      "cell_type": "code",
      "source": [
        "#@markdown Statment to a Yes-No question (Audio autoplay)\n",
        "sentence = input(\"Type a sentence containing a be verb: e.g., I am a students.\\n\")\n",
        "beverbs = [\"is\", \"was\", \"are\", \"were\"]\n",
        "pronouns = [\"I\",\"You\",\"He\",\"She\",\"They\",\"It\"]\n",
        "names = [\"Mary\", \"Jane\", \"Tom\",\"Thomas\",\"Jessica\", \"Bill\"]\n",
        "\n",
        "def check_word(list_A, list_B):\n",
        "    for a in list_A:\n",
        "        for b in list_B:\n",
        "            if b in a:\n",
        "                mword = a\n",
        "                return True, mword\n",
        "    return False, None\n",
        "\n",
        "\n",
        "cat1 = sentence.split()\n",
        "\n",
        "result = check_word(cat1,beverbs)\n",
        "\n",
        "if result[0] == True:\n",
        "  if cat1[0] in pronouns:\n",
        "      b = result[1]\n",
        "      be = \" \"+b+\" \"\n",
        "      ss = sentence.split(be)\n",
        "      subj = ss[0]\n",
        "      nsubj = subj[0].lower()+subj[1:]\n",
        "      pred = ss[1]\n",
        "      w1 = b[0].upper() + b[1:] # Capitalized be verb\n",
        "      newsent = w1 + \" \" + nsubj + \" \" + pred[:-1] + \"?\"\n",
        "      mytext = \"I'll make it to a yes-no question: \" + newsent\n",
        "      print(\"Yes-no question: \", newsent)\n",
        "  elif cat1[0] not in pronouns and cat1[0] in names:\n",
        "        b = result[1]\n",
        "        be = \" \"+b+\" \"\n",
        "        ss = sentence.split(be)\n",
        "        subj = ss[0]\n",
        "        pred = ss[1]\n",
        "        w1 = b[0].upper() + b[1:] # Capitalized be verb\n",
        "        newsent = w1 + \" \" + subj + \" \" + pred[:-1] + \"?\"\n",
        "        mytext = \"I'll make it to a yes-no question: \" + newsent\n",
        "        print(\"Yes-no question: \", newsent)\n",
        "  elif cat1[0] not in pronouns and cat1[0] not in names:\n",
        "        b = result[1]\n",
        "        be = \" \"+b+\" \"\n",
        "        ss = sentence.split(be)\n",
        "        subj = ss[0]\n",
        "        nsubj = subj[0].lower()+subj[1:]\n",
        "        pred = ss[1]\n",
        "        w1 = b[0].upper() + b[1:] # Capitalized be verb\n",
        "        newsent = w1 + \" \" + nsubj + \" \" + pred[:-1] + \"?\"\n",
        "        mytext = \"I'll make it to a yes-no question: \" + newsent\n",
        "        print(\"Yes-no question: \", newsent)\n",
        "\n",
        "else:\n",
        "    mytext = \"The sentence you\\' provided does not contain a 'Be' verb. Try again.\"\n",
        "    print(\"Type a sentence that contains a be verb.\")\n",
        "\n",
        "etts(mytext)\n",
        "Audio(\"E-audio.mp3\",autoplay=True)"
      ],
      "metadata": {
        "cellView": "form",
        "id": "ZjPSWFub-55P",
        "outputId": "953e729c-39a9-42c3-b79f-f8cc6fedd346",
        "colab": {
          "base_uri": "https://localhost:8080/",
          "height": 129
        }
      },
      "execution_count": 6,
      "outputs": [
        {
          "output_type": "stream",
          "name": "stdout",
          "text": [
            "Type a sentence containing a be verb: e.g., I am a students.\n",
            "The boy is eating lunch.\n",
            "Yes-no question:  Is the boy eating lunch?\n"
          ]
        },
        {
          "output_type": "execute_result",
          "data": {
            "text/plain": [
              "<IPython.lib.display.Audio object>"
            ],
            "text/html": [
              "\n",
              "                <audio  controls=\"controls\" autoplay=\"autoplay\">\n",
              "                    <source src=\"data:audio/mpeg;base64,//NExAARuIXQAU8QAFBFP8g4m49Zc1HHze8N+/fv36sZHjymve4AAAAAAAAIOlAQBAHwfB+CYPg+D4fOYPg4CAIOxACAIeUB8Hw/+CHKAgGP0/g+/4fyQeCgP/kbSsN5//NExAwUQlqQAZiIAf/jdsvmpzzo55XBGAuYH15oUyfYMbj5E2CC/9BpF0ycQb9P5u7szf0GsrL5NplwuMb//TT9i+bGrpWm////5mXzRTH3iGUWfQ/MC3JxdHMDUPcz//NExA4WIaa8AY+QANFqNPjWXQuYc8UANEMYCghaw0oTcC5hqwc8ZM3DkA+guQvhk5AiCjkpVvSU6p9bIdt3Uz0U19S7V3miqmspD7or71In2vzq+30hesreNQVJJhIZ//NExAgUqUKoAdmYAH1oxEojFEpdbJCpitNOyYjIGjp27rJEFheByBZIX9BVgbWSJFSOC0YWQdMSZJwr1mJg9SS/UrpK1t0W6S3pLPJBpL0b7Ag1+z9QvaXuOQweEqRm//NExAgTqU6kAM5ElF8PCFA/y2+1ilsZ4sKhqJMJONRflBJRUw1YVJvC8QqkP14RrtKwmxnzUNXv/WPfyv7cpOZei9DMWGIBn1abT6hZ2WAp/sxytc5PpiB8WDnEbUdG//NExAwVMaaYANaKlJy2TO+TTxlhxM406f5stLbww0Fs4cIGpa826vQFhLu2M6Vnsvy5+Uj///n8R0o3+v398zMDVcBH6tzjpJBN9Kgy0vklMeoRr66TXtSsULDHgGOR//NExAoTyaKYAN6KlJZyTAIHFF6wqdRkNYfcy/SQCY+gmdhF3tEcxOqiilGzOj53kli3f+va//7f/m6nb///8zyqEneitu7VqLLuln3ela3v9VWavd6IqCTWabz/AWAe//NExA0RaKqUANakTCIw5A0fCpgHDoXLKdZZtDaeBLwtQBpoe4RAcQr5AitWcIK+mewg9QK31O/9BwNFBE8rLqH3//GA0pBS1oyYnsWCJcpXBcYCTz7Ugx4XFVhUikHl//NExBoSGPKIANPQcGO0NSbRpwcCfA0jUaZ0SYpO0PCMaDolD89TWMRoeOpj6p0IUNnHf48ytSbRCPG1jsOS9/BCBTlY8VOkY4KCpiMskzMfOkp1IsY3uMwWz3rc5Wo+//NExCQSQY6EAOPKlF8DKJePrERH3z8Nc/+hGfQUSQwWLvUaTw+LqQy//+nMHTHlf+vCznHCoDTrRPDgUmrn4AS5sALNZ1ehF6iaxg7nX+cPd/NHxNr7pYqPnXwl4nso//NExC4SkXqAAOPOlIo3dnHhW508JQDy71ImOaazf/9G0GoXEQ/M/1qVs81Np+GbjCRh36kADAsYfga0iJMiYC7D5xoaZYJxq2Iubp6NtH05HYdxYWIAAQhbOAJXERnq//NExDYQSR6oANUMcPfvLogABYEDn9cQKk9R0S4C7C48vBgUHiw6dCZjmiBTiC2lVPWXTJD/G535SvY9CKWNfqoVDYEChBCQyaQI7jVztVVdRTBQML5M/jh6XmkQvTtV//NExEcRmS60AJ0Scdf/3YIBod27skY2aEjTnkPsTA8DQaHK91m5/rbvvmom+Z+If1sY2iNCEgBcnMHyaON1kK3pSe3DWYCcevjloQ0qNSrff/DNGU6EbSpu5RoCQ5IG//NExFMQmUq4AMLSlO/lInE0/9TR45X8NP/7ac9//52KZjjyBMWicAiYQDk00tOPMIFGErQUm8DEgdaoWF2DDpgbZ////9Uw9MnAsmAnhDikukRwCx/NkQhiT6kr+o9R//NExGMSeU60AMLMlL6H//+LWf+kREbRtwqSFwuSbHrCo2OEbdXFmgscg27RcXCtv/6f/+KdvXpUlb2fedvK6My85lUFoXZ5OQeABFgm9xVHpvzn//95//5NS+xyhCAE//NExGwRYVqwAJKSlEsaRIyUHgAgjmNKsyV0zH86vh1Z4kHf/6P/9mVO5Y9lQVUmGrji1tlT7hAQzMIebPq+UPUEPR2p3WH7yz5/f36Wo5jU/b3d9WsZ6lcRAEOiQGUg//NExHkR4UqUAMqSlPMPes6YEUks6dLG/rO+GoaYs6ed7v/3/dyyUFBWZUM0vd7OQBPx77Mdk6CEZZcR+pBMFYFoF7CU+nTTcOWF/C4CYDAflxBy4XDQC7CRkqIsKwEY//NExIQSqUJYAVooAP5wuMX03TCrBFCABfg2xOgun/TdBqCFMFsGAPD+MOSiRKDB//p003Q0NMpnzyBKG6B0lEVEv///XZXp+S5uaGiBu54uFyPcpmGT1rGVSmRANkB4//NExIwgeyqEAY9oAIW0U4d+WQ5GLGevs8y1hhlkvK3d/W0a/tb98rUREdQPGBG4VEWTCbGUwsLkABgFguDYHRFNgVMYWmyVNHzq20xMXMnEgYRjJ4yREiHoPNpUwexS//NExF0a2bqcAdhAAENnSsY5Ljt+MbatBJhZSqD/5vj4miuchqgTlRq12TgaLX9oHBq/6Gt/yWcv/wsf+0bSK8nhc2GAaFT5LitESkW7kcY3GvHwjKfvwzc//rcr5UHL//NExEQUIcaoAMoSlNuliju3///6KWWfHIpP3GMAtFNTIxUmkQQHM/kgSLegMR/maH5g3rL57XJALoDpHiY0XOjvPIsuouD6UVai4bkq3XZvW6PqZ0VLrTOI6xFoflsn//NExEYTGcasAKNalP//X1cPqTXCnzz7Eyq5OeJSuNUAyg5oBaHcnzoyxt1sblX+w7X8uNa/3nZ+T42CZA2v7Om118Juh2rnCdiwldnq01oBUNQZ/81///9W8kVVgS5b//NExEwSEUKoAMRWcJTdBCM6CNHJNFocCuEFUALiLcFdaExTsNJ/mDaDNv+yX0UqOrI4iKsUOuAIgPFU9H8yqyGOHSKFf/LOK//////+hRoUteXuwo2FBxtZxFSlr1PC//NExFYRITqAANPKcPpF8eV/v5XdmSCiAXF23IhYPNCKBGs+J3uVUCZKPeIBSf3epyVj8EIgBDA6yj98m3L9Go40pUR9tKrEjPAFBGUUZkkYFH9RLx9vni+5gme3m6DF//NExGQSiFZYAVoQAMMEUn22N0U1JGZoYkp+hL5KE9zA0L5Kt/m6aboJolwOWOwpG5fJL/pq0zYwZMKoTxzDhH4C/DnlwTB/q+cWyd0EFNXHORRPBMCETTYZwq48xN/7//NExGwheyqIAY9oALt1b1IVp9jRnwn43k0tjSJ2YjLC0GJ0LuJXP9kaW//////7XPoRap2ulGOYAKHQlG/7K96mq6bCWIVCoVWRJ1YispSGHZZLCi8ax81+9S69zB3S//NExDkQ2ha4AcEQAa5KbX50GoNyKeEqn6aIQWi6//0//ZXVzc5ykFnD07o2qXK44RFBIPGOOKirdET6bFPSVzmAIqrM5blYwwMhIDhseGQAYEq3GHfX9jTw5d8RIewk//NExEgSIeasABCKmKqJX/oAoQ0CYpDcvkj+lpwVZcQRTsykFX6/b9++dmMjsZFgZZEFEnO5E+4rD5aj3kjx4iQInanxkAi5FSGkjYdOknEpD/Pf/7vrsZ2qUAgZu41J//NExFISQSacAMNMcCH5gwkdMxgwUACswhC5ZpPxC5mCigoQiAMCg8ThcAYGyU0VagXLTQyfFClK7hV3KtzLzlnyDpn/6wxO6l2J3Nx4xDsiJKRQEg0eeBSddM11rjSC//NExFwRaRKYANpScKBnbNhLdST9S+nQmLlibkKeKFMtitLeCgjOdJu1rF/MM11xd03DMzQxTmg+//goREVWLrWdlEZQaMQUBoWnYKMOJTPeozYDXK8DHzeB24cjIhKi//NExGkSYRqQANYQcJT9pDEuaAwJD0cATLAHkldUHbHuNG3H+jdfMb3xwyg4OM7/rPn0ew4px72wYcEtynghIsxEUoAyKkaQA1LufCwDa5uYYbIaaq7aNy4mWv83UDzE//NExHIR8SKMAN4OcJBgC+O4gGZuTyXdkDD2fU+ouayTHnpGCNP+o65H+tXvfrihOOs3kDzpFSKpnOoZWxXlDSr/NQBPf92M4/ubml0KWgBAySlBskJlRQI1nEYJz2kb//NExH0SER6kANZacF6tLYpPJESSAkC73f5a06c/pDDDPUlEJp/8Eqg8UOzQaKC3EgJxQoQiOoklZHvWmVWmYOnKPTNGWrbvZt1YNjuywPYrmZWihw4Oyy/dZFizg6Qb//NExIcRuRa0AM4ScOubhIo1/5sttczdAIpk3wGFe+2XZKoIdLWUoBd8KEuSXItq2nv2/k9OweR9cVGomfI7yachQmndFI1W1C2eXXT4/f/dR7zVIe/i/////QqI6qpv//NExJMR+TKwAMUYcAKnjVlWcLdQZLJWIi1+5KJgbQP8IPmbv36dP7vzzraUDqNrIokO2kjHmrahct3pFFPttzy/556bs0Fr+o670I///3W01W4ZygZCm/EP3eayaa6+//NExJ4RmZasAMnWlLjWQ9e/hwFAlohxdtm6dv//X8+pQ+EB0B5jwctcXzVcFDSGcoRoXHrKjbpCkB0Ef4iNU8DgFaqHq88jydg4tyPqHEOwIXuVLXjGgeqgV0G74709//NExKoSCZ6kAMlWlHp//6vZi5YcHQgFpjo96NROy2Hi56SiMg8tDCjIXAlP7fSgAL///8q1FZbcup3GJmsqjb+BAkcuSsqkKHMSH2/Mc97wlBffIof4kET89Pd74p/r//NExLQRCZKUANFQlK72S+JPsAAGhSz47DnCb6hE3fCg7DjDFQ5yZPfpNmNdlUUv1ZDFlNNTrLUmSql//91vQr//TDiBzKkNr1PmqTNgZuKRoCTjuNVwMOp7AT3eQBZ+//NExMIRWZ6QANHOlDsrlWPakc4o3v2a2e/cjkcIJ8k+GJCV7M9V+oMRjnpBXkImhQ1xEg7y/rX5kxr5j2z4ebZs6osQPT7rOtP//7UdTxPjKrP/xE9Wi1dTKOYWX5Zy//NExM8W6aaUANoWlJJahoyv1Q53Icx60Z3LGeUGxf/yrv9tj3+mFRx8+E4fR+jjdsCHLnDCy0g3pS07z3o595GbQIIg0BQWcCoDeHHlT48VnuJnUf////7aqsv/aSr2//NExMYZEaKkANLelHbsrELpRRZVX+GqSz5UW6REhzG5ImWTmtwFZ/8XHi/2Twlk+zpWCslrySkxdrDrd9dt279bzLMFW4JcfFxMMY70+RFPXemTIDYEQMEhagpY8YvA//NExLQW0TKwAM5ecCKCUTdcAmiUue67OFUbsxKpkpLSId9y5SCvalUilpR2LgJBQ+oKC4lFWFWCVIrZ/6GI1OZihAObFgLp2wFNpQ3M6dRUFFhH26xe4pq4kP4ltvmt//NExKsSaTK8AMYYcN7XeEijY27KUXGBNmKRlg1Ep2zDSywNxUz/9TnSr/////9OXq3zEBZA/jRVMM3i9Ia6jZexYJw6AorVLiQ86VXSnQxzXla3Vmr/+vmp5S4/v4m5//NExLQQONK8AJPYcK+v7n73V5gbdK10j/vp0lpOnN1UtwnSORknwWP4UgYZJVSXjISVKaRhIdA1FjD2GBAaAcwXo4OAnBeCsRwVi1Uhtwrdf5f+f//1/z5f/6EpT//c//NExMYQ8MKsAJYeTP///xfFzEfTqids1XN0zunLdxuSWUWQ3QhTIfq3cvXPGahTCbj5+zTTizBMnZW62ksAkbgShuHoRyYcDyCNY/0B/DED4fy8/aof//////+X//////NExNUbqxagAHlQuPr////trp2de9U1sa2tk2mUdlMU6aSSznKUnD6nIQNMKOKiwsGglA+IjoSg/PGwuBcREgSxHJi9yhEiOnUH///////2v7///S/////s/6o3zL3V//NExLkWyyagABBWvNj92dp7taXLDxAww1DSYvITzXYusy0dFQ1UbDQahscNLkhcNBEGQmHR4bDw3Fojjw3VdV/7//f///F////2M9P//v/fNX6L3c9HfeRdRiu6vElK//NExLARqx6wAAhOvIqCyyjkMpxAqGVimUpGYRYRMLB0EDwGCYioqHQVhEVqQeURFBadSmHoIPOUhdfc//////v7///8pS////lv9P612q5ZSyyqVjOFEhgbmCsZHQMU//NExLwSIxq0AAhOvcdFEo7BQwp1zFVBQUSUt6kMZQEBZDBhQUSTBmQsQi9KbbsaReMjC45gDB34YMKI3hoD7DnNCOzkHJe55vfe8Xf3xuGB3RWXOHz8lzV0Ql0Tbbo7//NExMYRcxa0AAhKuSiYu+7/8v/9v9HvPO/9WhWZisSHAOajCLKqRDMwcTg8KmBAS4kyM5beE0MQLeM2o/iL9d/ss7uq4dlvAIlrgNTFsUl7B6bWOqTwGFfDFy7238Vi//NExNMSAw6oADBEuYgQA8BFH/nzAj7KHJSKq////0qHasua4bUARiLtWMVEjmDExsIKwgVDDJjxEWLIIDdCmtyVIdp1PUlDiYYxNd9TtVy6C9buuXFIbVvQDsqe+cmi//NExN4R0TaIANPKcMWYEAfHuOy3VdC/R587frGVzdyMeAo1po8+Zs5PNHm0udtOZC+ow8+BhdmJ5R3/////TSnLCugUWfmN0gWqajRxk15z2Bg60KGYjlflCJG/ycOz//NExOkVaT6AAOYMcLuO5Iu7fe9ybWmya1xmb0QNjXib8joEAVXgRfQabTq3i5sOoRRMjG4pahL+Wnpx1Gzqf93/////qp3VmByKlR10OBhCb906ThyEasNM1gCJ5AsO//NExOYdAYKQAN4YlDErjCsPL3Ug1rUYytrMKaTKPAhIbF14u/wb8itXIs2grtBNZYNwhmXWo2uO/6udDg4Si3XVdQ//////1ZreAyuLpT+Y6AR9SVyxkwXrsuqyUSS0//NExMUV8YKoAM4QlFWgAMMyG5XYNW49Zbpqc20oFDRCmKBKLLRKJnlX1JWqdqnfnOhQamlkdPRFJQRgk8C/+7/////4sntnY2OqYGWoBYUBggMzlihQONGfDlw536sE//NExMAVeXakANPQlCPvZklKZf8rQnokQwn6FLxaG5KXsh6/u7Lsv1S8/eH/4C1U5Wwxko9hRau0xW0bvmeoI6iVFP2////9T/4ZVYw1FEM1QMumJBTEtDjrDQjiIFMF//NExL0T6SacAM6UcEw4NyNJElDfii7o0wFrilz+sBBARYMLBg2POLlVsX8SpWwq7/qDoKlUf/JeS/////9X1rUAnUuWkGtgGzHIbGDIIYsCLqjLDmBAMXam39pZgdVB//NExMAWKXqMAN5ElOj57oLDtRc7E/jThsXc7XSplXp+XxdLQMdgZYlOqr3pX////auhIioUAKTLds7C/R7SmyyHQW8mQKhDU8CYNUCcIg+wbBDEeF4ah1qeekqjjPJZ//NExLoR4Ip4ANbwTN/inv/9/6/P+v//////dFAwYAYfW/R////7UCwLgcCFDgfqRQcaOxp4Xnirbx5AgmSzUqULcuSzxT4cFE4RHEJgoQGPLZF/wS9P59mcMvitC40U//NExMUR+IJMANYYSJTKrEbt1beefM8bdPT65+H4YfrmeedTLCxzRGqx+TVUFDrQ7o1RNyHPV3AcQMBxQVOYpxAiMyItLVQn//3//9KcXc5LKquRGlOaJCggWU5A+KT1//NExNATEaZoAHvElDeu5St0sDCzCXydiSDbc1KqksodLkthupETUUSdD/R5iRlhga4LZhkjySwXKJj63i+KuencS+KQK+NXfh2reWsH1rvUxg0BD14tKE3IHgmRF2mB//NExNYgmxZ4AMYKuQCfQz/fr/3uvOizpZQJEWJQh/iiM8SjG9NYh2VvOAvFL27UbiSZkjsjhOEHKH6QMCuF+JQgYIJOiBLB7G2olCiFc5xVhkaE63RV7MOM+ctafRUs//NExKYY+T6IAU94AOSic4smWHTOw1e1t4rm+hOc0C8lp/T7xn316wdRoeLyzS6s2yXhWjYzrXrXNdTGSwNrHz7qU/3haAQ0F3Vqk6P2okiQ5bkplia2AGpwcsm3HBgK//NExJUg8eZ8AZl4ANmihZgR2c6GCMDXIZmvmWiYUOStRAwiYBgaAwTAz5kA1iEI4DBHgSMgeoGMgXHSEFS6PBkBqlADAAQaM+hfPJqdIxLxw2NXpqMKNAvmikSobEoO//NExGQiAdqQAZugANMH7Vp7LTTN3XZBJ2X+butJA2Tybc0QUU2b////9JhC/SKCiKarqAjCjRIy7MVQnGqHAYE70BtNEWQODJxQOShAFwUId2PJHjSCq7UcEMAgHBRr//NExC8coY6cAdrIAcEnViNJISEhc6lQ2krypZizY+almH6pqTP/ordj5tyIHv1GtNpSWO50/f3r9fvff/Lff1Zt8zxqV7f9Pf3rJECR55j6q/+yAK9N5y8RoeWxnxlQ//NExA8VARq0AMYecGMjFpsQFMNMjFmGWUvpIMICZdAmXqUlIxFpyyX0eg31XVSq1D3O2YGv7Q77fbiQ96jNqvdu6irH397Jhg4KNdyUoBUzitf+4iUNqYWniBIEBjrb//NExA4SQSa4AMPYcGAmgyWlTtwQ4NWwZvKfraz9uUTX9UxJLic/PgFAaHER2Fh0vWUy23zncvBmMwXl2j1Y9aaalG79356O3n/ygE8SA3yhdAQtezChoAuYmvA1qmgF//NExBgSoTasAMYecB5bS1urlKIP//esMl8PpV5zpHP0fRd2S+vbP1X5pvXtSNWuqxbZ+dQuxzf/wZADXI/xWoONWhgwR021MT4yoevh9OplgIC2ZDW5Xm+ZHX/+3/9L//NExCARwu6wAHiEub7//9f/oT0I//X/+fciEz50OrtRnZCN0OhDnQhCBCABQMWjvzPgEH6ARv//////r////1///7/W3s7tdbZGvMZ3ORndkK7EmU9IuYtGFDotmGiY//NExCwSOx6wABBKvOFiEIcXCIfOLHElIgQFBISDgkKiAocCB0PgOcUJ////4//f74purq+tEqXt3ttnuooi+Hm0Z5QpQ7H1jpS7gUgQzW6m3oyDxZSQjGo4uIAlGOLQ//NExDYP+x6wAAAQvGqLWJRCYUEiucoL//////+f/v//x4vPvuvlypIy+Vrmzmdq3nEkpCRKJySRH5a9n/+QWjkpLlDTiPn1JxKpaYLML0k1GmkYLLnSISRRvNBkagYO//NExEkRkx6oAAgMvG//////////y69WXy3XNU1UpZnMjvyiL1GipijBZxJzlURbM5WVUdHS1jFKzXmMYq0GgUYHjUO2xLWNKHlDtA8YYUFzBUOqehuBV////yX//99z//NExFUSYuaEAFBKuXVS2I95UQtgRPHdNHgihEGIeAqKHCE1MYcisSKQKZkavEVuoh6jonM74jlf91OWk9uTwNbrUoBjwAJN0OH1Et////////rv/Oz/ve+MfHveZnbc//NExF4SGkp0ADhGubbJJp4xhCbWQk5ItOwRSZC083kDVshxOEc09wYKIKAmXn19gtlGUXVrpLl0HxcCKi///////8/////7t/9eE3F3andpz1DMMYRTSiSMfD6EJrIC//NExGgRCdqgABBMmC1nP5e7i71u7GDbGB4SiGINF2t8+6LYs2xSSIpAc3VhxICAUMmeVJCl9ZV/+Rc///3MV3/96GVHDOZSghTsb/o5gJ0OMKCgMMKcpSClDGCmToVa//NExHYQWfKwAAhMmOKjAMeztOqRRX/y3qWNVoeNFN5EqiFxRFazWDc9L9J6kIqUe8COUxFLmFA0xZovMnPnlNfo0uilVqIaDiwiZ2mZSuE9u7Tf4OfIQFyum6gxOpZv//NExIcQIb6wAGBElPn8Lu/kGJ4pMXDho4KxAeMIR9NCarQOiaJVDK+BHOEiDNi+Z60SB6tgZVDm0reEethBbKsrzpRWpQvd25ANn8J792O4STGpm6tNSM9a7GFFIfqU//NExJkWaZqUAMrSlBFtVyu7ChvfSlpSbiYx9oOx+RnCP2Mt93a6xmda2X1puntszDZ5pjGFzsUNLc7H8AFIawyBA8a////YLvXVfynIABhiLsN3MynR9uEh8WNLxRvA//NExJIfCeqEANYYmG2WtKD4QSvBno2l0Jw1H7GqiI3eOV4bLF8sXM7jFYziZ8FrEu+e9rhaWgtlTytxt/InaJBtPCl47u+P83a/au0/owxvaNVly+msWWHRbiwi//////NExGgaWdqMANPMmKUKa9SrDDZ95nAN8ajqyzKFiI210uyB4odqNVuVVaJ+lbHzKSQruEZ1uHr6OcLtVIyA2ALbSIPzVTLhDzXrr6++6c51mricEskS1sYgBJEQNRhF//NExFEWMT6EANZWcNA1Pkv///+qXi+xIREDylKgI571HFSsApgc0boWyI1w7k8WtLBQ59WRcrUfa0a/dVBqn8p8NQFAFVUc+PmOa1M7z/8//3KaiK7Y3/6/0ZepeMBh//NExEsReT58ANYMcNAlrdQBmdNocTsIBoYY8HxRHBqIMZrRmC/HXCfq3XretI8XDDnSyOw8goQxKO6OtDlTR29MpREpB4alv/irnelgDZwqHFPUVhKQoqdExM1oRihg//NExFgRQT5wANvKcOALXHYCWfZSKajqV8551FpXXv68YajnMQaHnKLEMZzPY1kUaYzv/z1MBXf/8levFlBdHgJTogFT5kh/yQDJSoWKmLIMDSOztcADtloivJsNVlK///NExGYRMT5oANvKcJ+XveHy3fMJnoGoU1382mbrJlHZn/+//s5cA0f/wbe92aU66hVDikSDHR45quEOoheERunaWZMQ+ZOMjJYzV0HDd6Os/Tp689rTjT0CIoVbPq/V//NExHQRUTZgANsMcMdcpuCnqpv/n13zPZC0f/cLIQ7qcxSEKoaHRDn4EzjOVDiSEA0Ug4ZCaWthwGwNh2XIYIgkAMA5UtMVq2la9vTY3K1gwEQCFGM5QEBMBPhRJZS///NExIERSTZYANMMcC6gIkoU7/+d/1uI1RyA8DYEjYqoujQok4VSVYzhTA1olMBMPCUMLUKnCZQi4mKET5MUTeKJQMYB0DWGzC7zC7zC91SXVJe9ib6bqUb0KjFQkrhU//NExI4RiTpAAMsEcCxYOGxcmzouTZoqFiwaFYsHDYuTZwqE2aKhYsGjYuRw2Lk28VCxNNlx44bFyedNl15sLFxsuPPOm577775sv///ykxBTUUzLjEwMKqqTEFNRTMu//NExJoQSFnsAGGGJDEwMKqqqqqqqqqqqqqqqqqqqqqqqqqqqqqqqqqqqqqqqqqqqqqqqqqqqqqqqqqqqqqqqqqqqqqqqqqqqqqqqqqqqqqqqqqqqqqqqqqqTEFNRTMu//NExKsRoAXUAAgAATEwMKqqqqqqqqqqqqqqqqqqqqqqqqqqqqqqqqqqqqqqqqqqqqqqqqqqqqqqqqqqqqqqqqqqqqqqqqqqqqqqqqqqqqqqqqqqqqqqqqqqTEFNRTMu//NExKwAAANIAAAAADEwMKqqqqqqqqqqqqqqqqqqqqqqqqqqqqqqqqqqqqqqqqqqqqqqqqqqqqqqqqqqqqqqqqqqqqqqqqqqqqqqqqqqqqqqqqqqqqqqqqqqaZe7YrEo//NExKwAAANIAAAAALj4kJ4Thubufs9IrTQvNy4eazZpFIYMJw/8PSSk4v1K1oJ5s0iHDjE82Ugw8HFD90VnIqLZ/1MzOToqGZ2MUwqDg4ocjs5Dq7HT+qK7HV2fUw4c//NExKwAAANIAAAAAC4odnZ2Y5P/1Mw4ezs7OKEqBMD4liOvEt8zjYh9t9t8P8PD86J551RxYtUTCVlkmedJhh6TDCmmDBChaqpj///9znc5xVRIGVVQQkYsuY7///eu//NExKwAAANIAAAAAKqo86qr3////97/73t1qj1uOc1rHrGXNSiLnPtpw7X/3LAc7GRBHUhDtBYQI09+GJCiT5P/bxzyYHeMYMh/3wMIGAoLAzYEDTkwuaC0z+y3fgLB//NExP8aUx2MAEmKvICxQLZjYDL4sYZb//VQ2D5x3giFg3UGIFsCGkTGf//Tp2QW6fJM4M2RYkCJClFCyCmQcm////0/5FyfN2k2RwlANWEBGbHLJ4tKeSHGXRE9/Szq//NExOgTuEHwAUwYAW8JHmxAChD3VDVTvCOI5cOqsSg+pjTRSk5jT4iUh4+fl5EgS3veSaBWNFfs7e5MifJWOsthLFkzCkZlYiDobY9jTfRHaLFjsyRFZNHrArnGcazW//NExOwj2yokAZugAEZKbq/n3EVeZ5YzIyfET61fFNZ3SJjUd/6ZvvOPnFngZCL//+9KC70Q2NTVgKXe7YYyiSHKWQGHgJ+QgHESrZdAQcMNtZCUL+/Ib991UyLd7qww//NExK8h+iaIAdl4AD5hLve6vVw4Yq9XDzVSMHiiD9Mgl6gyQwREh62JULjkqnCU5EEsG46MPvuc09ek1rTMncuzXINMVrS1c/e9Gv/trX++u5vT9tmZm1/ykYHf//gi//NExHogSi6MANvYmJLvFAGoYwcqllq7MGDtQ8NU8pAJ6cyYDQJF+rsDgme5bPQm3tqa2sabo2t5g6vRrm9PbP3RfRkG0bU1cQ1bTXxa+Pmu84hYtaGy03/O/f3tt/+///NExEshWxqQANvMvb69NHoyMzO0f/P/bQ3+/w/e7dNrTTbe+99/z3ttDps5Ahh+lQfSdpk0jAQITsmTpzvdjAswgoHTKQEVkfevoYDvZlJUTXTdW1dd3nf1nyWiP/+p//NExBgXAxagAMBQuUhZEfS///j//++f/++r/vuu/+fSvn7n9Ir6x32jXejrLUnpLqxblE2LysERY9TR1OKw8GA6hpBpQSEh4HBoeA4MlsjkJRo1BmN0ZkpNFG9CS9qr//NExA8UWxqkAGiKvX9yP/1d+ntutv/wRGv/t/9q/mdSv/r0LQ3Kz3W8qNlXOSaJo63qZ3Uo5UZ0VRAWEhcVAMPDhAWQBxcYLGBQMKBYvOpx2EwcDW+SU59czUZWrM8u//NExBAVKxqQAFiOvJN2r1YxisrOGdey6lRHt0MhlI/9Dl2qbU1W/o6NVv0Of1O/TzUzv9a35ppqPo+dmso1McqNhsVGpY4eGyuh44A4JhGJtUOLtvixoLQUvYAuiPhw//NExA4R8L58AMLGTIo1oExqTUDfvQQiQ4iIiKcCAAAIphwMAQ4D58SNvPt1hesD4fn1LPo0f/09f1a9PPtugPIBZJQVPk19pyu3U0iHkN/GbZp6TWZKMhHNsdBEVpGQ//NExBkX2TKYAMZecCsdT/hueu34YfuX1qVncXjsiTHArIh/krLmzvHp0RfLauNXvTNK2zul96zd/DgTRGONoXCyHPv2b+z/yhcexP/+3+IHH6FKx7u2YpPL8bKBYLdL//NExAwVCSqkANaecDo4wE4rMHRYpdaMREsstJoVvu1muXsr87I7tS+kW+64AJWa0ZvPWv+Zv++p/jf9In/h7vJMrcoB6vdZoMFHnv3tM3ej///0SVXWeDdzLWb68quY//NExAoSWRaoAM5acGKC0oFiZgqnwG4OOanUavajj1yy5GJM4uFJHXGlxYOIE9GCNkTIYYpKc6Xn0W1ItpOqtLc9CImet38kq+7+sepNCy5QUKzsBhLVopgByawJoJww//NExBMSiJ6AAN6eTIhYib6mTKS40fXJQwDJo0sMhVkOLkJMnBJgG4GMxsr1Wt1NxhK4CiUY8JqA2PHAUiAm//h3/xFVMGiMLAIoAJjBVH4FaIg4mqYiAZto+mFQEoGH//NExBsSOJ5UAVx4AALM2mISCTew+JB91JNGl0YTETUSu0uRyl5zlre23IzbGAZzVva7PGiIXOMkX9AQPx+fWZYUnS1hjB6dovhDsYiChVXDjEwYcFAcMIS7CIregYDU//NExCUbgwJUAZtQAZgFxZBBGI9IghBbEOKx7HbuIQjPJHYzdVsPB4czTH++8fqf9119Y/H55Ip4sL0/680nYjJzGV0////Y/9/fX0/+9/+TmOAGU5dm4cPZwYgi/hhY//NExAoUUSKQAZqIAIme8gOZogiFaHs5/wEXX+aIkIgBu6YWVk0SAb2AbR3FxB0B33NCcOmdDXNtKuyq0/Uya6n2OHRxmhdDq+oMxuUc1Lfl//76KmXxOUS8ylzMGA0K//NExAsVOcaIAdtoAGdIFQ0+wMHBgEBA0CCrcZADtBl7vGDII0VP+8KIJhYE/VNtIUFs4/vRc29+m3X79vXqMkVskTDyef6251J3OEn1N/qvWaf////RbNavQ+DmUrE5//NExAkSOXqMAN0KlDNYMPCD8kEDBkzWAqIDQEcoU0g4ENQYEDeCXFPBzQghokdE4GidiffPf6/T/T/Q7sgkIi9WP2fu5VCg+hvW2Cy/UqyoKpg8B1n8C46ajbG6Eyls//NExBMS4XaUAN5ElKyECMdMjWAZYvYGwHiGAmFWzQXAVjcS39yGYvf+tasd1l////3///RP9GVlMKdnQ/d+cew2794umpB+VKKmgdDn2pI5CNkYSGptIb7GjhjS7uZL//NExBoTkSqcANZKcCTKna/UlVUldM8MFIQm3OWrGE3I0b6v7dSN1P2O+AYcICoDPqP0xYLnwHV9DjB//////0oq73erYaahwiyaRkYAYEk1rZfUePxvlJ6pjgxGJiAC//NExB4RmLKsAMaeTEBVNV9hPEjFzMuztniZvWsckJQYcPxYUKsgyBTwbYlvqF1BtL/4TRNV/u9SUGJVHTYzKjwhuuOzagsGHa9WpcaV0an5Wn2iee+3U6WSCVTDVDVE//NExCoRwNa0AMYecE4Ohwi5gRM7+oZ8Oid5UBg0Di2921ilDBWz+kYWbnEwG1lZkCaBJAHvTXsoJLyuHnr6sMyjD9bpdYf6RJVVocQzjVqhkJMbNI8CYbFewNkiAnWI//NExDYRSRq0AJ4ScIusQIDLqf31ioVaz9TFiipLWcH8EPERVOBhIDIqhUGzEmhpN2TNPo+p29Fe5iSJ43pJjhLBXIC2MjQcw8HMVHSRMkl1rMG1n7GZAmoVPr9+jXXf//NExEMQWTq0AJUacP8zWAO03su7uPiuIiLaaygi3iEj6HfVup538xfzj2BKPsZLBEAuQsXcl4D27QJhYev6YjX9Pv45i+oY+F0KEthXLY13////WIkK7repkdAH54ex//NExFQSmaasAMHWlN0CaAG9dXJkUQkeYNCXjj+Y/2+f/6b4QHwFQVBEgNA9D4RrcUDwPzZuZhZ94ZvmLj4e09KOsVYe1+n//+7+laUqw5q7BRisC7UurjCxrS/bW4mA//NExFwSga6oAMnQlGBnyC7aCCt//tb+9zfc9xE1tNmERsTiciQwHCC3u62TuoVk6uNZf3I7VSZcrIJf/t////8d/n6bCdq0ik2VQLqk3s7l6AV6yCz8Xb39PdvFf71///NExGURuaaoAMFSlLmm8hGCAKj0AQD0QUaQfDgPmgsY9bi4CkAoBwaNiIBWf2f///+1SRZCvc5m+gLEyCklromBroK1MdQ2fkT8gfqd5G3lvv/j/VJVvsrDODtwgEoh//NExHERqWKkAMlQlMoNB6dQdhNbHnHe8+d/ztdKjvLYEJ/+nd5z//p3qvWB6ru9XRwYfjVw12VoTDwZFn69PmEwNyCPiT9W9vO3VvehhgzLMYMQQQGuoLw2ZTxkXVWI//NExH0SkaakANKWlAbXzTeveQt2JizP9n///+6ApnVVlkurtfMHwmWMIeAHLMEAxQlCx0p0/n2aSQ9Wxr1g0p/+71R91XdS0ASL2QSdhgwweKPBU08Ysm+xSwiltdbW//NExIURSZ6kAMlUlEQLKOxBl1ZI1fbmaDUaAm1sLCETQoyPdOAwiMIKL7fPJjpbFRTMisrmZ7mBvcB5vwtNUSWHI4RHtOnLJ8upuNwuCMEgiJC4YFhWZ+i2bHR8O9g7//NExJIRQQKQAMvKcBetM7r11XrWm8ss71rd+16l/hccVzWsH6to09Weptl3u9WWREoCoDoaAqyzWf1D0qeRE4xyccYVjd6YKgGZ2cJXLGYyZKxmTTpvRGCgkVAR4SDB//NExKAhEgaIANPYmJs2Sw7EVEYFhV2MHy2JYy19Mceh1hnI3to1jvqwmqK9PZCipLYTU0kIRzAiHFrUjgdDVEjEAW0ywXbI+LeP9Uzu/3j/O9U34kPZs4pNKHfZ//9w//NExG4d8aaUANselNdQBWBF5ZxQSGHVmVMkK5De5jAA5Tdk8vZ2AcQgmE/kpbqw+kZ5+G8f1KJd2oST82/7n/ef/+41dIlk1FQyZYDU6g0rhYYApZ8ouLEZH86GYqQb//NExEkSgT6gANZScOuZs2gtKPUDfiASCEH4mkprCFOd8zU6j0IAZNx0xIKmzibrd7ckt75t83auEH9JDvkrfwgf8Uf+0SxZ1mXXr1NmORJqJhVyP/yP/rV2L8OBV0Ir//NExFISoTKQANZScNaenoYtHGihiuUJZhMuA2kc5kijTpIB1Z3SYGrvth1M2Mqy+THIXYFNamTSgQJ5Smypslim8lQzfLc3P9jSmLGkotu///Qqci46pnxZGtY8s055//NExFoTST6IANvScMQUch4jfWBUirHSs2JoF0VmEQGA8fRvWM+jGAK1AhgSvkRrsYb+b9vsIj7p6N+3bq8A3o1ifY7EFZQDQgYhfZ1zNldn7xsSMvSVI1rtRNtlaByn//NExF8QgUKIANRQcYpcisxs/8UlRHvAM8gfew6/Durg2vHcCTphdalv79FWJhjysRV94OhZ2Xj3b80xw3FA7xjK58wFr3mYg4tZ3BAitR1F21Z1gbr7pG5y2lrgcMnD//NExHAQWUaIANvQceYfQukbjbL5xuhtGJbanaLo+VCIhe31qkBD/kIAMVgCFnfXIasRuYX2KjGbsSRKFKHxLUPBXL2Sl6R4VqVFhZE6A7DgSfK2AFVSwpOM+zVrT83x//NExIERST6MAM4OcC0rHfj/LMQKqbqbYZ/+Zl033dM3DR4VdZ2DXQNt3nHSc7QKIAoRkAy/b+OoDBQbFyULNX7jxCUau1uIoVwqxNgk8fNy/fHzc/tlf/yiQfTrLqP///NExI4ScPaAAN4QcP88mr0sfcxT1WOkkRqAEhbmYwUfB6NJUAQwJJrqrAxGy41dCeTEadpWgHFRMdEOAQFFw/m39Tczf3T1ufh+9YvVOyo2v/10ahprjRSsIy7njd2R//NExJcRoO6EAN4OcJXVnMXH3n1S7Uyn////+Uk6t4yQRUlVdJRDW9OCMSME9GRmDzXH8I/RqJiOMpuuGRWkWAMs057oYCjKC5WebvZvf7tf9TuN4rkfL20752ZTIUOA//NExKMYIa6QANZOlMZBw+iZmaR1UfBmhArctiXf////6qXuJZ+i9fQ0ftURne21MBjampcRX5sLAt1W4uFKZIgGXRIp4KBntTcL58xz96/63N9GzvTr/fZakwIhkO8z//NExJUVwZ6kAMYKlNm1JgnAeqTqrfbGiufSQGHGp64pVt+wYDnQjOWDWqswlUmZuZLwz+K+Rpk7cFQJJ2pS7U5nTXv+rnz8T1PgV9WLn8Ll+fHMwqVQF+MWp7MXjOKf//NExJERUZasAMYElP/6P///oru5oZk4nx0iTa6h6lRIacYCeEM9gjJJ7SCSnHILsHWlKJ8lkRTBqlZEgiwiZoWroMf0gUw5GL0PVn/bSRJGZyFFZ1dms5xIB7XVtZYq//NExJ4UMY6oAMYGlBwtScuF9lB4rMhaIEAzRuq5VMG0cZL545OohvG+tMxfU49a1a8lZmeO2RDeVaIbHzhBhyjwuI3HzJ+xiWAQ686TPJp/KuduvQHDV5nEi8wHQ1hr//NExKASSUqsAMPElaCBg6LjSaUT67oEzlNFIpyGX5iMsyl0uupZSqmky6EiIhcDhOSRafEkUCg9LGMUqsNlQmpLf+3rRZVfmroILj+QBE2uJnmVfGzAmSPFDZ6rLasr//NExKkR+MKsAMYeTJS3JiUvtSm9TZ5VI1GpVbjJEhxpUhQqImhCDopWaOhANnUFVyKJYGBEkM//Oi8NKkfa05HywGGt/R4K2Bh9uDxDgeYopneMPxnfuVmWQ5OV+faw//NExLQRqNKoAMYScP+tGruf1qTc81cq4KRMFjJ+bRy1Vpn///rUaOe3//Z//////VUmFXGgNDHgKYlMR9fJDx/g1UA6BSYaAUIdxp07F40ksqeBc9WaWpv+au0tM7kc//NExMASSMqMANYScCgK3qxmYKQCFczxan/NAqHHKf////////rWDSoHCWpPwzNDkQFTqNyYCw9rrPEihgiI7cHCc3kFfEOPvGNavv9zPqdiF9NKVyxjJlxZoqoautI2//NExMkR2Tp4AN6QcEKBYBkO6Qre6f6qqlG+WGVWsqeRbi+HUujRyonl2xoBD04MtyQzwEGHoEIraeQJrqU+PdhAmRo00QoNChC8oeIxWJ4I5preM6jJdGRpTEAsJDpM//NExNQSSO5gAOYEcIBQVF7JNTUWVWDC4JmBAZXC7YKAYBATCgkmQJkCb7RMo11oOIzGUw2nMja2snVzr56hOdXP1Dzn//DIo6yewtSFzhUcb/6ZOpakW7bPIRYrvvcN//NExN0QkOZkANPGcF1w9MsllLJSyNPy287VeTMlQFaZg/DfQTeJIoV3J9yUYjnVUmQ0RcIntFRsdC+Bstol9CQYDoPJ88Ojr58SRHKxZM1r7F2FqFVeS7mJ91oY21jz//NExO0lOwZsAHpSud1IoHWNY+f6t36T1u37zfMpDA7HDm1+m3Ym0XdG3ZDSQy/fn7ASBF/VVI33p+y/8qNt3Z7OzPdQSgiIZiEOHUNeYehokN5coYOkzGHhm8ZnQkCG//NExKsfawaQABDYuREHJsCA+JDkSCojHY4WHpKBhQ9DwS2hSrdo6hIZbxn9paxzCrfY6sb1L5T9m1fc7VtMnOtPRUtGzFA3BD6TnorwU//v057Ovu5rCz+fnn////////NExIAesxKYACiYuf5fNf62dX9r5KM1vKEo6Ya3IWtaZI2gPMREQpSes9G3mombiu48vKbB+5RhKry47P1FLQyVEphSdovFlEe5bhkDOra9VABTP///////vv///7/M//NExFgS+hKsAAhSmP3Z++7nNUQMM+ZZSpaQM7NIJ2AwHdhLatZk7iMW7mHqwPE7w+MB9TcyhDg417PFt7FqWtY/rWLElQn//////L/////7v+O57l6p3Ltz1SBBOsxI//NExF8REc6sAAhMlMLrLkKMcIuBRkaNWi9XPqxtBEypNixyi4PFmS5UqEFqUsyqHfzjHtrzKTTj4GHMUq/8v////vM/7mz5WXnfGxZZbyDE+ePiTZmYNGgVuIoJCukq//NExG0SacqoABBSlONx9+9F000MqXc+mwtgSDSaRC0+XW/R7a/eqQE6VKMUVQ///////////E11/z/A/6mHRZokz3GHrduVE5QZFXFYDwe544cHZTFnaPTUkuSizBKL//NExHYQyeqoAAhMmBMdahNsaFTss11OhWonQ95rAooSHODyAsytmGeMkpum5NVo83Ui9v0CYIYT5N0kkjH5RFfHYLPIAJWkYkVMS6RX8G8QY2GcHyDckDSw/UmSInFo//NExIUSKd6kAUFAAKL/xrh0QX2IGHFB7wjELfA9EmRlTEipATEirL/4rxOFEQFE+jqIOMgThsT6ZdOeiZJJL//lwej5QIkiYD2VkiGC5URnf7fysxRLHX/ldv////////NExI8heqpwAYeQAf81dTP/X3r837XdHGjBsjBVmv1Wy4GjwdI5FHeDD1JSD5xqfVXfcMtisgE0WrcVFU7nOyn5FYrcZqPI5VYISjol/Mb81JhLKfyI9ngrMKh/+p6m//NExFwReeosAcJAABCTB84sK21xtM1QquYeLA6KqaeC0hqHsscNzOqrrSxyprHWc7aoC0U9Snva1b9+hioBIGxamqvrIwo5hFA2U6w+ojIRNyEvK/tM57HAwEwEBAQF//NExGkRse4YAFBQmJVtVVQpqpdEkOCoCBWHREp+IgoWF3BoAp8SgrkAnrPeq6JXNI4lO7V1AGB0kK3LuRxLWvCjASoDBjAUrGXtmpNDlGFLL+1JlkNYa//2OTBQYzLA//NExHUSmWX8AEBGlESDQjBbWk6FXtCsg8kFQEoClkBQ1//60hL0hIP0hLlSKjRREOEA4ERWnAmMhE2ESAEJgQWMhE2c9AskYTCJALICxMIp//SBGgMVNhFD/CxgLEwG//NExH0SmS38AGCGcEAGz2ARpoW/iqBYzSEQ4fjqPASm4tRf7/rEYnLIg+kB1pRH5q9XmgpAskNuhofUxi5MJoUUe3k6W1JGrQXJVrkq1UXC0jTNROfKp83P8ea81Lap//NExIUQoC3IADGMAFVxeMW3pFKYWpJk0FvF4zPub4WpzE1HHmaaWV3qbbwe3LKf0Sn0jXxPca41zD3covnGlc4id0SSPWORZNW4FwqJStWhXTWYhB7+x6WRaU2JdVwp//NExJUgQw3cAMGMuaq4ljKHSWGsNYbA0FBUFBUEhnEhnEhgY4DBwEEOAgiAgYwEDICBmJBGJBGJBEKpNSamsNYawmpMDIUDcSGcSGcSGQUFQUFQUFowajNSaGsNYa1W//NExGciMsnEAMDGuXVnEhoKCoKChBQCDGAgYwEDGAgwsSGcSGDQQJAgRMllJJYkOShNERYJK1DkoTREWCStQ5YJoiLJStQ5YJoiLJStUywTRUslpqusVo/0tP/pu3////NExDERYAFIAAjGAf//////////////9s7+Uqu5XKryqkxBTUUzLjEwMKqqqqqqqqqqqqqqqqqqqqqqqqqqqqqqqqqqqqqqqqqqqqqqqqqqqqqqqqqqqqqqbLg8jsLA//NExD4AAANIAAAAAKxAKZ8rPF5wnaARQgADgldKxI8s////yszSwidLCMuwjSxRxYSsTpWHR0rKaIHYnQGGGEAYSsTpSMnSso4sJWJ0UxaFp1aJwOkYBwUhZQMq3/7p//NExJEAAANIAAAAAPXt/7f//uoMSPPREbehdB95RWj0Rpvsz1nLMWIOy7EWaHyw5TSmj/KfTLJ07L1l8jKI5Sy7MuZGSO5QHLWVdhJkTiCjo/AcOKxZjHuj6B5wGxVh//NExKwAAANIAAAAAJ4EPgmwXICYygyg+tn6uh4DAnhvkcA4cThGepkFBUFAiWYq7Vm91JZiu7tTFdktzN7uxr0UrGv77GiurMTFFqVaspispNFUls3KSSlEspJLUlho//NExP8X0gGwAGDGma5JayKVj/////////+mOTIihWIBTPkT7edfJmZ+zOUzSwnSmLCU0did4TwnhI8J4Vz7ktuRXZUYiuRXIruRXZf/9bOl3/86FcgNxYRXIHGB8hZG//NExPIXQjnoAMDGuGK///osjAUdKSpS//6pEYWIVT2LD5xZheBd9nDwMLiUNvtCZXPRSvPyhEgVPoHE6BQomuWQtoh17AnMKCthIbUVIlbRIe0zHHxhsYbL5L5vg7zY//NExOgT8DnIAHsGBfOFL25luUXzjvNZNZ8tstsetyV5ieRF3D7GXtxpplonFLIij1AwkxEGNQHIsmhJh7MXWSGXZBMsQTkSVzSUylni+ztuSVcnG4SmRQaZH9JFh0Pu//NExOsVijXAAGDEueySRQyuJSz0MGk8VGCk1EhkFUBA6RCoLAUiEwWApEZ/qS19rR//UVJBUYg8PT//a+RCQFAREJAUidCQFT/xikxBTUUzLjEwMKqqqqqqTEFNRTMu//NExOci4xnUAMpMvTEwMKqqqqqqqqqqqqqqqqqqqqqqqqqqqqqqqqqqqqqqqqqqqqqqqqqqqqqqqqqqqqqqqqqqqqqqqqqqqqqqqqqqqqqqqqqqqqqqqqqqTEFNRTMu//NExK4RmHnIAMJGSDEwMKqqqqqqqqqqqqqqqqqqqqqqqqqqqqqqqqqqqqqqqqqqqqqqqqqqqqqqqqqqqqqqqqqqqqqqqqqqqqqqqqqqqqqqqqqqqqqqqqqqTEFNRTMu//NExKwAAANIAAAAADEwMKqqqqqqqqqqqqqqqqqqqqqqqqqqqqqqqqqqqqqqqqqqqqqqqqqqqqqqqqqqqqqqqqqqqqqqqqqqqqqqqqqqqqqqqqqqqqqqqqqqTEFNRTMu//NExKwAAANIAAAAADEwMKqqqqqqqqqqqqqqqqqqqqqqqqqqqqqqqqqqqqqqqqqqqqqqqqqqqqqqqqqqqqqqqqqqqqqqqqqqqqqqqqqqqqqqqqqqqqqqqqqqTEFNRTMu//NExKwAAANIAAAAADEwMKqqqqqqqqqqqqqqqqqqqqqqqqqqqqqqqqqqqqqqqqqqqqqqqqqqqqqqqqqqqqqqqqqqqqqqqqqqqqqqqqqqqqqqqqqqqqqqqqqqTEFNRTMu//NExKwAAANIAAAAADEwMKqqqqqqqqqqqqqqqqqqqqqqqqqqqqqqqqqqqqqqqqqqqqqqqqqqqqqqqqqqqqqqqqqqqqqqqqqqqqqqqqqqqqqqqqqqqqqqqqqqTEFNRTMu//NExKwAAANIAAAAADEwMKqqqqqqqqqqqqqqqqqqqqqqqqqqqqqqqqqqqqqqqqqqqqqqqqqqqqqqqqqqqqqqqqqqqqqqqqqqqqqqqqqqqqqqqqqqqqqqqqqqTEFNRTMu//NExKwAAANIAAAAADEwMKqqqqqqqqqqqqqqqqqqqqqqqqqqqqqqqqqqqqqqqqqqqqqqqqqqqqqqqqqqqqqqqqqqqqqqqqqqqqqqqqqqqqqqqqqqqqqqqqqqTEFNRTMu//NExKwAAANIAAAAADEwMKqqqqqqqqqqqqqqqqqqqqqqqqqqqqqqqqqqqqqqqqqqqqqqqqqqqqqqqqqqqqqqqqqqqqqqqqqqqqqqqqqqqqqqqqqqqqqqqqqqTEFNRTMu//NExKwAAANIAAAAADEwMKqqqqqqqqqqqqqqqqqqqqqqqqqqqqqqqqqqqqqqqqqqqqqqqqqqqqqqqqqqqqqqqqqqqqqqqqqqqqqqqqqqqqqqqqqqqqqqqqqqTEFNRTMu//NExKwAAANIAAAAADEwMKqqqqqqqqqqqqqqqqqqqqqqqqqqqqqqqqqqqqqqqqqqqqqqqqqqqqqqqqqqqqqqqqqqqqqqqqqqqqqqqqqqqqqqqqqqqqqqqqqqTEFNRTMu//NExKwAAANIAAAAADEwMKqqqqqqqqqqqqqqqqqqqqqqqqqqqqqqqqqqqqqqqqqqqqqqqqqqqqqqqqqqqqqqqqqqqqqqqqqqqqqqqqqqqqqqqqqqqqqqqqqqTEFNRTMu//NExKwAAANIAAAAADEwMKqqqqqqqqqqqqqqqqqqqqqqqqqqqqqqqqqqqqqqqqqqqqqqqqqqqqqqqqqqqqqqqqqqqqqqqqqqqqqqqqqqqqqqqqqqqqqqqqqqTEFNRTMu//NExKwAAANIAAAAADEwMKqqqqqqqqqqqqqqqqqqqqqqqqqqqqqqqqqqqqqqqqqqqqqqqqqqqqqqqqqqqqqqqqqqqqqqqqqqqqqqqqqqqqqqqqqqqqqqqqqqA4Qfc6aI//NExKwAAANIAAAAACI18CCVCWXXcW/WwrxTN1liQCuuDANhIPoEy8FA9j+SDYSEo7lQ0Ja4wTHhXVkhaT0I8OERm8YMn5wiMFpm0eJ1Zw6YMn6RwHSAEhB6ZBEmcQLQ//NExKwAAANIAAAAAD0iBqZiB6idIHrMlN0zED6IFpn6ZJNkD1k6IOmYo/SbIFrMwnSZSB+xKbJmZbIPcbD22XsND7GW0Rl7D3GGTbQ+mYg5ZGkYPqc7RCgAuSgs8CaL//NExKwAAANIAAAAAOzYmqX3jdyXQ/CdSITIhTIiKxOI1kbKh+LjUyaKFFJDSytJwSXio3beOfBl8mYKypOAg9co6odJSYy2VV2WgupUOoZlCzIj1OsgNkBsECEBgBCx//NExP8oAv2kAMMMuQot2GDhiDgkCPoeR7dm6bvBnglwSoDYIHNHMWIWF91tCkoy4jBJInQUMmi1xtnBgiQQ9HaKNTNiXSk8aSLUSLUSOTROtE60ZypynwkyzWWaUkRL//NExLIgItXUAMpGuUSR6JI9EkUkRhZrJGujT43xu3ltn7T5T5Vy+bP18ptfKfKfZZZpSyJ0Ei1Ei1EhNkTkyJ1onQlMbP//+U8UbaJ1onWiSKSIws1lkXUVRf+6glFV//NExIQgytmwAMmMuUxBTUUzLjEwMFVVVVVVVVVVVVVVVVVVVVVVVVVVVVVVVVVVVVVVVVVVVVVVVVVVVVVVVVVVVVVVVVVVVVVVVVVVVVVVVVVVVVVVVVVVVVVVVVVV//NExFMAAANIAAAAAFVVVVVVVVVVVVVVVVVVVVVVVVVVVVVVVVVVVVVVVVVVVVVVVVVVVVVVVVVVVVVVVVVVVVVVVVVVVVVVVVVVVVVVVVVVVVVVVVVVVVVVVVVVVVVV//NExKYAAANIAAAAAFVVVVVVVVVVVVVVVVVVVVVVVVVVVVVVVVVVVVVVVVVVVVVVVVVVVVVVVVVVVVVVVVVVVVVVVVVVVVVVVVVVVVVVVVVVVVVVVVVVVVVVVVVVVVVV\" type=\"audio/mpeg\" />\n",
              "                    Your browser does not support the audio element.\n",
              "                </audio>\n",
              "              "
            ]
          },
          "metadata": {},
          "execution_count": 6
        }
      ]
    },
    {
      "cell_type": "markdown",
      "source": [
        "## 💦**Demo 3: Story game**"
      ],
      "metadata": {
        "id": "UG0_f0gJQl1r"
      }
    },
    {
      "cell_type": "code",
      "source": [
        "#@markdown Adventure game with reading\n",
        "print(\"Welcome to the adventure game!\")\n",
        "print(\"=\"*50)\n",
        "print(\"You are a high school student who has been chosen to embark on a quest to save your town from a mysterious curse.\")\n",
        "print(\"You will face various challenges and choices along the way, and your decisions will determine the outcome of the story.\")\n",
        "print(\"=\"*50)\n",
        "name = input(\"What is your name? \")\n",
        "print(\"=\"*50)\n",
        "print(f\"Nice to meet you, {name}! Are you ready to begin?\")\n",
        "print(\"=\"*50)\n",
        "# Start of the story\n",
        "print(\"You wake up one morning to find that your town is covered in a thick fog.\")\n",
        "print(\"People are starting to get sick, and strange things are happening.\")\n",
        "print(\"You decide to investigate and find out that a curse has been cast upon the town.\")\n",
        "print(\"You meet a wise old sage who tells you that the only way to lift the curse is to find a magical artifact that is hidden in a dangerous dungeon.\")\n",
        "print(\"=\"*50)\n",
        "# First choice\n",
        "print(\"You have two options:\")\n",
        "print(\"Option 1: Search for clues in the town.\")\n",
        "print(\"Option 2: Go straight to the dungeon.\")\n",
        "print(\"=\"*50)\n",
        "choice = input(\"Which option do you choose? (1 or 2) \")\n",
        "print(\"=\"*50)\n",
        "if choice == \"1\":\n",
        "    print(\"You spend the day talking to townspeople and searching for clues.\")\n",
        "    print(\"You find a cryptic message that leads you to a hidden cave.\")\n",
        "elif choice == \"2\":\n",
        "    print(\"You journey to the dungeon and face many dangers along the way.\")\n",
        "    print(\"You eventually reach the entrance to the dungeon.\")\n",
        "print(\"=\"*50)\n",
        "# Second choice\n",
        "print(\"You have two options:\")\n",
        "print(\"Option 1: Enter the cave.\")\n",
        "print(\"Option 2: Enter the dungeon.\")\n",
        "print(\"=\"*50)\n",
        "choice = input(\"Which option do you choose? (1 or 2) \")\n",
        "print(\"=\"*50)\n",
        "if choice == \"1\":\n",
        "    print(\"=\"*50)\n",
        "    print(\"You enter the cave and find the magical artifact!\")\n",
        "    print(\"You bring it back to the town and the curse is lifted.\")\n",
        "    print(\"Congratulations! You have saved the town!\")\n",
        "    print(\"=\"*50)\n",
        "elif choice == \"2\":\n",
        "    print(\"=\"*50)\n",
        "    print(\"You enter the dungeon and face many challenges.\")\n",
        "    print(\"You eventually find the magical artifact, but it is guarded by a powerful monster.\")\n",
        "    print(\"You must defeat the monster to retrieve the artifact.\")\n",
        "    print(\"You engage in a fierce battle!\")\n",
        "    print(\"You lost the battle and the curse remains.\")\n",
        "    print(\"Brave You! Though the curse remains, people appreicate your effort.\")\n",
        "    print(\"=\"*50)\n"
      ],
      "metadata": {
        "cellView": "form",
        "id": "qBAUNW9qP75J",
        "outputId": "ee16d9cd-a26b-48ea-a164-bcd901c23c53",
        "colab": {
          "base_uri": "https://localhost:8080/"
        }
      },
      "execution_count": 8,
      "outputs": [
        {
          "output_type": "stream",
          "name": "stdout",
          "text": [
            "Welcome to the adventure game!\n",
            "==================================================\n",
            "You are a high school student who has been chosen to embark on a quest to save your town from a mysterious curse.\n",
            "You will face various challenges and choices along the way, and your decisions will determine the outcome of the story.\n",
            "==================================================\n",
            "What is your name? Mary\n",
            "==================================================\n",
            "Nice to meet you, Mary! Are you ready to begin?\n",
            "==================================================\n",
            "You wake up one morning to find that your town is covered in a thick fog.\n",
            "People are starting to get sick, and strange things are happening.\n",
            "You decide to investigate and find out that a curse has been cast upon the town.\n",
            "You meet a wise old sage who tells you that the only way to lift the curse is to find a magical artifact that is hidden in a dangerous dungeon.\n",
            "==================================================\n",
            "You have two options:\n",
            "Option 1: Search for clues in the town.\n",
            "Option 2: Go straight to the dungeon.\n",
            "==================================================\n",
            "Which option do you choose? (1 or 2) 1\n",
            "==================================================\n",
            "You spend the day talking to townspeople and searching for clues.\n",
            "You find a cryptic message that leads you to a hidden cave.\n",
            "==================================================\n",
            "You have two options:\n",
            "Option 1: Enter the cave.\n",
            "Option 2: Enter the dungeon.\n",
            "==================================================\n",
            "Which option do you choose? (1 or 2) 1\n",
            "==================================================\n",
            "==================================================\n",
            "You enter the cave and find the magical artifact!\n",
            "You bring it back to the town and the curse is lifted.\n",
            "Congratulations! You have saved the town!\n",
            "==================================================\n"
          ]
        }
      ]
    },
    {
      "cell_type": "code",
      "source": [
        "#@markdown Story game with listening (audio)\n",
        "from gtts import gTTS\n",
        "import IPython.display as ipd\n",
        "\n",
        "def play_audio(text):\n",
        "    language = 'en'\n",
        "    audio = gTTS(text=text, lang=language, slow=False)\n",
        "    audio.save(\"audio.mp3\")\n",
        "    ipd.display(ipd.Audio(\"audio.mp3\", autoplay=True))\n",
        "\n",
        "# Introduction\n",
        "play_audio(\"Welcome to the story game. You are walking home from school when you hear footsteps behind you. You look back and see a shady figure in the distance. What do you do?\")\n",
        "ipd.clear_output(wait=True)\n",
        "input(\"Press Enter to continue...\")\n",
        "\n",
        "# Stage 1\n",
        "play_audio(\"You decide to run. Do you run towards the park or towards the busy street?\")\n",
        "ipd.clear_output(wait=True)\n",
        "choice = input(\"Enter 1 to run towards the park, or 2 to run towards the busy street: \")\n",
        "if choice == \"1\":\n",
        "    play_audio(\"You run towards the park and manage to lose the shady figure. You continue walking home and make it back safely.\")\n",
        "elif choice == \"2\":\n",
        "    play_audio(\"You run towards the busy street, hoping to find someone to help you. As you get closer, you realize that the figure is a police officer. You stop and explain what happened, and the officer escorts you home safely.\")\n",
        "ipd.clear_output(wait=True)\n",
        "input(\"Press Enter to continue...\")\n",
        "\n",
        "# Stage 2\n",
        "play_audio(\"You arrive home and find that your front door is slightly open. Do you go inside or call the police?\")\n",
        "ipd.clear_output(wait=True)\n",
        "choice = input(\"Enter 1 to go inside, or 2 to call the police: \")\n",
        "if choice == \"1\":\n",
        "    play_audio(\"You cautiously enter your home and find that everything is as you left it. You breathe a sigh of relief and go about your evening.\")\n",
        "elif choice == \"2\":\n",
        "    play_audio(\"You call the police and they arrive shortly after. They search your home and find no one inside. You spend the night at a friend's house and return home the next day.\")\n",
        "ipd.clear_output(wait=True)\n",
        "input(\"Press Enter to continue...\")\n",
        "\n",
        "# Conclusion\n",
        "play_audio(\"Good choice! you have successfully made it home safely. Thanks for playing!\")\n",
        "ipd.clear_output(wait=True)\n"
      ],
      "metadata": {
        "cellView": "form",
        "id": "mx_BDEl-TqLe",
        "outputId": "8f0c6918-1284-4cb1-fba3-7411a40095c2",
        "colab": {
          "base_uri": "https://localhost:8080/",
          "height": 93
        }
      },
      "execution_count": 11,
      "outputs": [
        {
          "name": "stdout",
          "output_type": "stream",
          "text": [
            "Press Enter to continue...\n"
          ]
        },
        {
          "output_type": "display_data",
          "data": {
            "text/plain": [
              "<IPython.lib.display.Audio object>"
            ],
            "text/html": [
              "\n",
              "                <audio  controls=\"controls\" autoplay=\"autoplay\">\n",
              "                    <source src=\"data:audio/mpeg;base64,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\" type=\"audio/mpeg\" />\n",
              "                    Your browser does not support the audio element.\n",
              "                </audio>\n",
              "              "
            ]
          },
          "metadata": {}
        }
      ]
    },
    {
      "cell_type": "markdown",
      "source": [
        "---\n",
        "# 📙Concepts and elements to cover for our goal:\n",
        "\n",
        "0. Importing modules: Explain how to import a module (like random) and use its functions (like random.shuffle()).\n",
        "\n",
        "1. Python basics: Basic data types (strings, integers, lists, dictionaries), variables, and basic input/output functions (like print() and input()).\n",
        "\n",
        "2. String manipulation: Cover string methods like .strip() and .lower().\n",
        "3. Control structures: Introduce for loops, while loops, and conditional statements (if, elif, else).\n",
        "\n",
        "4. Functions: Explain how to define and use functions, including function parameters. \n",
        "\n",
        "5. F-strings: Introduce f-strings (formatted string literals) and how to embed expressions inside string literals using curly braces {}.\n",
        "---"
      ],
      "metadata": {
        "id": "2VMRdKbJwOsk"
      }
    },
    {
      "cell_type": "markdown",
      "source": [
        "# [0] Importing modules\n",
        "\n",
        "1. **function, (class), module, package, and library**\n",
        "\n",
        "> (class) > functions\n",
        "\n",
        "\n",
        "2. Let's use the analogy of a toolbox: \n",
        "\n",
        "+ **a module** is a single tool, (e.g., random) \n",
        "+ **a package** is a toolbox containing multiple tools (e.g., gTTS)\n",
        "+ **a library** is a set of toolboxes designed for a specific purpose. (e.g., nltk - Natural Language Tool Kit) _>> Next time_"
      ],
      "metadata": {
        "id": "wgZEzhkQwzc3"
      }
    },
    {
      "cell_type": "markdown",
      "source": [
        "##A. 'gTTS' package"
      ],
      "metadata": {
        "id": "298wKG9q7-rN"
      }
    },
    {
      "cell_type": "code",
      "source": [
        "!pip install gtts\n",
        "!pip install IPython\n",
        "from gtts import gTTS\n",
        "from IPython.display import Audio, display"
      ],
      "metadata": {
        "id": "YLCRqNbW8E9J",
        "outputId": "a757004c-4864-4d05-ec5c-29128d4fbd24",
        "colab": {
          "base_uri": "https://localhost:8080/"
        }
      },
      "execution_count": 12,
      "outputs": [
        {
          "output_type": "stream",
          "name": "stdout",
          "text": [
            "Looking in indexes: https://pypi.org/simple, https://us-python.pkg.dev/colab-wheels/public/simple/\n",
            "Requirement already satisfied: gtts in /usr/local/lib/python3.9/dist-packages (2.3.1)\n",
            "Requirement already satisfied: requests<3,>=2.27 in /usr/local/lib/python3.9/dist-packages (from gtts) (2.27.1)\n",
            "Requirement already satisfied: click<8.2,>=7.1 in /usr/local/lib/python3.9/dist-packages (from gtts) (8.1.3)\n",
            "Requirement already satisfied: idna<4,>=2.5 in /usr/local/lib/python3.9/dist-packages (from requests<3,>=2.27->gtts) (3.4)\n",
            "Requirement already satisfied: urllib3<1.27,>=1.21.1 in /usr/local/lib/python3.9/dist-packages (from requests<3,>=2.27->gtts) (1.26.15)\n",
            "Requirement already satisfied: certifi>=2017.4.17 in /usr/local/lib/python3.9/dist-packages (from requests<3,>=2.27->gtts) (2022.12.7)\n",
            "Requirement already satisfied: charset-normalizer~=2.0.0 in /usr/local/lib/python3.9/dist-packages (from requests<3,>=2.27->gtts) (2.0.12)\n",
            "Looking in indexes: https://pypi.org/simple, https://us-python.pkg.dev/colab-wheels/public/simple/\n",
            "Requirement already satisfied: IPython in /usr/local/lib/python3.9/dist-packages (7.34.0)\n",
            "Requirement already satisfied: backcall in /usr/local/lib/python3.9/dist-packages (from IPython) (0.2.0)\n",
            "Requirement already satisfied: jedi>=0.16 in /usr/local/lib/python3.9/dist-packages (from IPython) (0.18.2)\n",
            "Requirement already satisfied: prompt-toolkit!=3.0.0,!=3.0.1,<3.1.0,>=2.0.0 in /usr/local/lib/python3.9/dist-packages (from IPython) (3.0.38)\n",
            "Requirement already satisfied: pygments in /usr/local/lib/python3.9/dist-packages (from IPython) (2.14.0)\n",
            "Requirement already satisfied: decorator in /usr/local/lib/python3.9/dist-packages (from IPython) (4.4.2)\n",
            "Requirement already satisfied: pickleshare in /usr/local/lib/python3.9/dist-packages (from IPython) (0.7.5)\n",
            "Requirement already satisfied: traitlets>=4.2 in /usr/local/lib/python3.9/dist-packages (from IPython) (5.7.1)\n",
            "Requirement already satisfied: pexpect>4.3 in /usr/local/lib/python3.9/dist-packages (from IPython) (4.8.0)\n",
            "Requirement already satisfied: matplotlib-inline in /usr/local/lib/python3.9/dist-packages (from IPython) (0.1.6)\n",
            "Requirement already satisfied: setuptools>=18.5 in /usr/local/lib/python3.9/dist-packages (from IPython) (67.6.1)\n",
            "Requirement already satisfied: parso<0.9.0,>=0.8.0 in /usr/local/lib/python3.9/dist-packages (from jedi>=0.16->IPython) (0.8.3)\n",
            "Requirement already satisfied: ptyprocess>=0.5 in /usr/local/lib/python3.9/dist-packages (from pexpect>4.3->IPython) (0.7.0)\n",
            "Requirement already satisfied: wcwidth in /usr/local/lib/python3.9/dist-packages (from prompt-toolkit!=3.0.0,!=3.0.1,<3.1.0,>=2.0.0->IPython) (0.2.6)\n"
          ]
        }
      ]
    },
    {
      "cell_type": "code",
      "source": [
        "#@markdown etts(), ktts()\n",
        "def etts(text):\n",
        "  text_to_say = text\n",
        "\n",
        "  gtts_object = gTTS(text = text_to_say,\n",
        "                     lang = \"en\",\n",
        "                    slow = False)\n",
        "  \n",
        "  gtts_object.save(\"E-audio.mp3\")\n",
        "  return Audio(\"E-audio.mp3\")\n",
        "\n",
        "def ktts(text):\n",
        "  text_to_say = text\n",
        "\n",
        "  gtts_object = gTTS(text = text_to_say,\n",
        "                     lang = \"ko\",\n",
        "                    slow = False)\n",
        "  \n",
        "  gtts_object.save(\"K-audio.mp3\")\n",
        "  return Audio(\"K-audio.mp3\")"
      ],
      "metadata": {
        "id": "bYDfENzGRUFb"
      },
      "execution_count": 13,
      "outputs": []
    },
    {
      "cell_type": "markdown",
      "source": [
        "## B. 'random' module\n",
        "\n",
        "[Random Picker App using 'random'](https://github.com/MK316/Spring2023/blob/main/RandomPickerS23.ipynb)"
      ],
      "metadata": {
        "id": "vSFe_Umb68o9"
      }
    },
    {
      "cell_type": "code",
      "source": [
        "import random"
      ],
      "metadata": {
        "id": "t8tYICF_1Yx8"
      },
      "execution_count": 14,
      "outputs": []
    },
    {
      "cell_type": "markdown",
      "source": [
        "Return a number between 3 and 9 (both included):"
      ],
      "metadata": {
        "id": "RlWQ5dXark-r"
      }
    },
    {
      "cell_type": "code",
      "source": [
        "random.randint(1, 100) #random.randint(x,y)는 함수이므로 문법대로 사용해야 함."
      ],
      "metadata": {
        "colab": {
          "base_uri": "https://localhost:8080/"
        },
        "id": "sMf1Ow7W11EZ",
        "outputId": "41b3b9a8-dbf5-422f-bae0-b0d9f5765ea7"
      },
      "execution_count": 16,
      "outputs": [
        {
          "output_type": "execute_result",
          "data": {
            "text/plain": [
              "58"
            ]
          },
          "metadata": {},
          "execution_count": 16
        }
      ]
    },
    {
      "cell_type": "code",
      "source": [
        "a1 = random.randint(1, 100)\n",
        "a1*10  #변수를 이용하면 결과값을 이용한 다른 연산이나 작업이 가능하다."
      ],
      "metadata": {
        "colab": {
          "base_uri": "https://localhost:8080/"
        },
        "id": "WUVN9-Rs825s",
        "outputId": "01e50dc1-ac3f-46e3-a958-677ac91f559d"
      },
      "execution_count": 17,
      "outputs": [
        {
          "output_type": "execute_result",
          "data": {
            "text/plain": [
              "970"
            ]
          },
          "metadata": {},
          "execution_count": 17
        }
      ]
    },
    {
      "cell_type": "markdown",
      "source": [
        "# [1] Python basics: \n",
        "\n",
        "+ Basic data types (strings, integers, lists, dictionaries), \n",
        "+ variables, \n",
        "+ basic input/output functions (like print() and input()).\n",
        "\n"
      ],
      "metadata": {
        "id": "_vTm-kXl8qa_"
      }
    },
    {
      "cell_type": "markdown",
      "source": [
        "## [1-1] Basic data types"
      ],
      "metadata": {
        "id": "qaQ0_hkoENRX"
      }
    },
    {
      "cell_type": "markdown",
      "source": [
        "### A. strings"
      ],
      "metadata": {
        "id": "HB86s1k990Hh"
      }
    },
    {
      "cell_type": "code",
      "source": [
        "a2 = \"Welcome\"\n",
        "a3 = \"2023\""
      ],
      "metadata": {
        "id": "L_OImwSL94Kr"
      },
      "execution_count": 18,
      "outputs": []
    },
    {
      "cell_type": "markdown",
      "source": [
        "☺️ DIY: How to get \"Welcome, 2023!\""
      ],
      "metadata": {
        "id": "wkYUBwu1-IvG"
      }
    },
    {
      "cell_type": "code",
      "source": [],
      "metadata": {
        "id": "XZ2LHJcl9_u4"
      },
      "execution_count": 18,
      "outputs": []
    },
    {
      "cell_type": "markdown",
      "source": [
        "☺️ DIY: Let a4 = \"화이팅\", and get '화이팅화이팅화이팅화이팅화이팅화이팅화이팅화이팅화이팅화이팅'(10번)"
      ],
      "metadata": {
        "id": "WNaHBznU-yEd"
      }
    },
    {
      "cell_type": "code",
      "source": [],
      "metadata": {
        "id": "0vfPcih3-xg4"
      },
      "execution_count": 18,
      "outputs": []
    },
    {
      "cell_type": "code",
      "source": [
        "type(a2). # data type of the variable a2"
      ],
      "metadata": {
        "colab": {
          "base_uri": "https://localhost:8080/"
        },
        "id": "1XroWNyGADZU",
        "outputId": "05a0322b-a18c-401f-8aa2-ec8a7975d907"
      },
      "execution_count": null,
      "outputs": [
        {
          "output_type": "execute_result",
          "data": {
            "text/plain": [
              "str"
            ]
          },
          "metadata": {},
          "execution_count": 22
        }
      ]
    },
    {
      "cell_type": "markdown",
      "source": [
        "###B. Integers, float"
      ],
      "metadata": {
        "id": "kpNXrqZ2_9I2"
      }
    },
    {
      "cell_type": "code",
      "source": [
        "x1 = 45; y1 = 0.5\n",
        "x1 * y1"
      ],
      "metadata": {
        "colab": {
          "base_uri": "https://localhost:8080/"
        },
        "id": "CEs2BHNbAB1Q",
        "outputId": "e63af813-d7ca-422b-91d2-75a50ef4564e"
      },
      "execution_count": null,
      "outputs": [
        {
          "output_type": "execute_result",
          "data": {
            "text/plain": [
              "22.5"
            ]
          },
          "metadata": {},
          "execution_count": 23
        }
      ]
    },
    {
      "cell_type": "code",
      "source": [],
      "metadata": {
        "id": "2WarI3IQsRJX",
        "outputId": "8304e3e2-9753-45f0-adb6-b2da469a304a",
        "colab": {
          "base_uri": "https://localhost:8080/"
        }
      },
      "execution_count": null,
      "outputs": [
        {
          "output_type": "execute_result",
          "data": {
            "text/plain": [
              "float"
            ]
          },
          "metadata": {},
          "execution_count": 24
        }
      ]
    },
    {
      "cell_type": "markdown",
      "source": [
        "### C. List datatype"
      ],
      "metadata": {
        "id": "S7PJcJFkBO46"
      }
    },
    {
      "cell_type": "code",
      "source": [
        "x2 = [1,2,3]\n",
        "x2"
      ],
      "metadata": {
        "colab": {
          "base_uri": "https://localhost:8080/"
        },
        "id": "LjSEH6lABR98",
        "outputId": "eb284b7f-40ef-48c5-ea6f-926543a1ee7b"
      },
      "execution_count": null,
      "outputs": [
        {
          "output_type": "execute_result",
          "data": {
            "text/plain": [
              "[1, 2, 3]"
            ]
          },
          "metadata": {},
          "execution_count": 26
        }
      ]
    },
    {
      "cell_type": "markdown",
      "source": [
        "x2[index]: Python index starts from 0"
      ],
      "metadata": {
        "id": "xcPyj0Fesdiu"
      }
    },
    {
      "cell_type": "code",
      "source": [
        "x2[0]"
      ],
      "metadata": {
        "id": "VGWl1av6BYGu"
      },
      "execution_count": null,
      "outputs": []
    },
    {
      "cell_type": "code",
      "source": [
        "# range(x,y)\n",
        "x3 = range(1,10)\n",
        "list(x3)  #list(), range(1,10)"
      ],
      "metadata": {
        "colab": {
          "base_uri": "https://localhost:8080/"
        },
        "id": "WNmjoCQ1ANr4",
        "outputId": "9e1cf838-bd7f-47f5-def6-731599ef24a5"
      },
      "execution_count": null,
      "outputs": [
        {
          "output_type": "execute_result",
          "data": {
            "text/plain": [
              "[1, 2, 3, 4, 5, 6, 7, 8, 9]"
            ]
          },
          "metadata": {},
          "execution_count": 28
        }
      ]
    },
    {
      "cell_type": "code",
      "source": [
        "x4 = \"John\"\n",
        "list(x4)"
      ],
      "metadata": {
        "colab": {
          "base_uri": "https://localhost:8080/"
        },
        "id": "amRP-ytuBlO6",
        "outputId": "a8eeef49-a6aa-4452-f9e2-d933278c0bdc"
      },
      "execution_count": null,
      "outputs": [
        {
          "output_type": "execute_result",
          "data": {
            "text/plain": [
              "['J', 'o', 'h', 'n']"
            ]
          },
          "metadata": {},
          "execution_count": 29
        }
      ]
    },
    {
      "cell_type": "markdown",
      "source": [
        "###D. Dictionary datatype: {'key':'value'}\n",
        "\n",
        "In Python, a dictionary is a built-in data type that represents a collection of key-value pairs. Each key-value pair in a dictionary is separated by a colon (:), and each pair is separated by a comma. "
      ],
      "metadata": {
        "id": "ZoyOSN_QCCdO"
      }
    },
    {
      "cell_type": "code",
      "source": [
        "mydict = {\"API\":\"Application Programming Interface\", \"GPT\":\"Generative Pretrained Transformer\"}\n",
        "mydict['API']"
      ],
      "metadata": {
        "colab": {
          "base_uri": "https://localhost:8080/",
          "height": 35
        },
        "id": "PdRkfL3JBMWK",
        "outputId": "0e165aee-8079-4359-c38e-64e33c14c9ac"
      },
      "execution_count": null,
      "outputs": [
        {
          "output_type": "execute_result",
          "data": {
            "text/plain": [
              "'Application Programming Interface'"
            ],
            "application/vnd.google.colaboratory.intrinsic+json": {
              "type": "string"
            }
          },
          "metadata": {},
          "execution_count": 30
        }
      ]
    },
    {
      "cell_type": "code",
      "source": [
        "mydict['GPT']"
      ],
      "metadata": {
        "id": "muVfPouBs47b",
        "outputId": "1d08be3c-9e45-4a57-c0e4-1d7ff7368986",
        "colab": {
          "base_uri": "https://localhost:8080/",
          "height": 35
        }
      },
      "execution_count": null,
      "outputs": [
        {
          "output_type": "execute_result",
          "data": {
            "text/plain": [
              "'Generative Pretrained Transformer'"
            ],
            "application/vnd.google.colaboratory.intrinsic+json": {
              "type": "string"
            }
          },
          "metadata": {},
          "execution_count": 31
        }
      ]
    },
    {
      "cell_type": "code",
      "source": [
        "class_size = {\"Class A\": 25, \"Class B\": 30, \"Class C\": 32}\n",
        "class_size['Class C']"
      ],
      "metadata": {
        "colab": {
          "base_uri": "https://localhost:8080/"
        },
        "id": "WBs-NrEJDQRC",
        "outputId": "6c9a6b9f-6471-4424-a133-d47bb0d08f8c"
      },
      "execution_count": null,
      "outputs": [
        {
          "output_type": "execute_result",
          "data": {
            "text/plain": [
              "32"
            ]
          },
          "metadata": {},
          "execution_count": 32
        }
      ]
    },
    {
      "cell_type": "markdown",
      "source": [
        "## [1-2] Variables"
      ],
      "metadata": {
        "id": "0m_ux_SoEUos"
      }
    },
    {
      "cell_type": "markdown",
      "source": [
        "## [1-3] input/output functions"
      ],
      "metadata": {
        "id": "YUasz63dEYAX"
      }
    },
    {
      "cell_type": "code",
      "source": [
        "mynumber = 2\n",
        "mynumber"
      ],
      "metadata": {
        "colab": {
          "base_uri": "https://localhost:8080/"
        },
        "id": "BSp7TWkeEfmz",
        "outputId": "3bcd84d2-c721-4bc7-da68-a245706b8b5c"
      },
      "execution_count": null,
      "outputs": [
        {
          "output_type": "execute_result",
          "data": {
            "text/plain": [
              "2"
            ]
          },
          "metadata": {},
          "execution_count": 87
        }
      ]
    },
    {
      "cell_type": "code",
      "source": [
        "yournumber = input()  # In Python, input() is a built-in function that allows you to get user input from the keyboard. \n",
        "yournumber"
      ],
      "metadata": {
        "colab": {
          "base_uri": "https://localhost:8080/",
          "height": 53
        },
        "id": "6LZudH_0En_w",
        "outputId": "783d5cc3-75a8-465a-963e-b294e0816f0a"
      },
      "execution_count": null,
      "outputs": [
        {
          "name": "stdout",
          "output_type": "stream",
          "text": [
            "4\n"
          ]
        },
        {
          "output_type": "execute_result",
          "data": {
            "text/plain": [
              "'4'"
            ],
            "application/vnd.google.colaboratory.intrinsic+json": {
              "type": "string"
            }
          },
          "metadata": {},
          "execution_count": 33
        }
      ]
    },
    {
      "cell_type": "markdown",
      "source": [
        "☺️ After running the code below, can you tell what the resulting output means?"
      ],
      "metadata": {
        "id": "-Z1mQqzlH4k5"
      }
    },
    {
      "cell_type": "code",
      "source": [
        "yournumber*5"
      ],
      "metadata": {
        "colab": {
          "base_uri": "https://localhost:8080/",
          "height": 35
        },
        "id": "5cGgSs3qHxG_",
        "outputId": "61f4269a-ed03-4cae-f717-7f70b0c34f76"
      },
      "execution_count": null,
      "outputs": [
        {
          "output_type": "execute_result",
          "data": {
            "text/plain": [
              "'44444'"
            ],
            "application/vnd.google.colaboratory.intrinsic+json": {
              "type": "string"
            }
          },
          "metadata": {},
          "execution_count": 34
        }
      ]
    },
    {
      "cell_type": "code",
      "source": [
        "type(yournumber)"
      ],
      "metadata": {
        "colab": {
          "base_uri": "https://localhost:8080/"
        },
        "id": "664rKEalISSY",
        "outputId": "5314bd92-1d93-4d40-d399-b18d7d3b8930"
      },
      "execution_count": null,
      "outputs": [
        {
          "output_type": "execute_result",
          "data": {
            "text/plain": [
              "str"
            ]
          },
          "metadata": {},
          "execution_count": 35
        }
      ]
    },
    {
      "cell_type": "code",
      "source": [
        "yournumber = int(yournumber) # changing the type of the value to integer\n",
        "type(yournumber)"
      ],
      "metadata": {
        "colab": {
          "base_uri": "https://localhost:8080/"
        },
        "id": "u_ocEyoAIVC4",
        "outputId": "cae55304-aabb-4b25-bf49-c0c051815f76"
      },
      "execution_count": null,
      "outputs": [
        {
          "output_type": "execute_result",
          "data": {
            "text/plain": [
              "int"
            ]
          },
          "metadata": {},
          "execution_count": 36
        }
      ]
    },
    {
      "cell_type": "markdown",
      "source": [
        "Getting output:"
      ],
      "metadata": {
        "id": "Z9Kzd8ZW7Bri"
      }
    },
    {
      "cell_type": "code",
      "source": [
        "# print() 함수 배우기\n",
        "print(\"대한민국\")\n",
        "\n",
        "a2 = \"화이팅!\"  # a1: variable(변수)\n",
        "print(a2)\n",
        "print(a2*10)\n",
        "print(\"화이팅 10번 합시다: \", a2*10)\n",
        "a2"
      ],
      "metadata": {
        "id": "aQXDo7u-4-18",
        "outputId": "d02c1b36-7980-4293-8168-c3d350b08205",
        "colab": {
          "base_uri": "https://localhost:8080/",
          "height": 105
        }
      },
      "execution_count": null,
      "outputs": [
        {
          "output_type": "stream",
          "name": "stdout",
          "text": [
            "대한민국\n",
            "화이팅!\n",
            "화이팅!화이팅!화이팅!화이팅!화이팅!화이팅!화이팅!화이팅!화이팅!화이팅!\n",
            "화이팅 10번 합시다:  화이팅!화이팅!화이팅!화이팅!화이팅!화이팅!화이팅!화이팅!화이팅!화이팅!\n"
          ]
        },
        {
          "output_type": "execute_result",
          "data": {
            "text/plain": [
              "'화이팅!'"
            ],
            "application/vnd.google.colaboratory.intrinsic+json": {
              "type": "string"
            }
          },
          "metadata": {},
          "execution_count": 37
        }
      ]
    },
    {
      "cell_type": "code",
      "source": [
        "print(a2)\n",
        "print(\"=\"*30)\n",
        "a1=random.randint(1,10)\n",
        "print(\"Random integer between 1 and 10:\", a1)"
      ],
      "metadata": {
        "colab": {
          "base_uri": "https://localhost:8080/"
        },
        "id": "0jdQu65F2ZWw",
        "outputId": "3a5d1c38-1e5a-4df4-8b8a-e7d3b08ce48b"
      },
      "execution_count": null,
      "outputs": [
        {
          "output_type": "stream",
          "name": "stdout",
          "text": [
            "화이팅!\n",
            "==============================\n",
            "Random integer between 1 and 10: 7\n"
          ]
        }
      ]
    },
    {
      "cell_type": "markdown",
      "source": [
        "☺️DIY: \n",
        "**Q: John and Mary have been together for many days. Ask Mary how many days it has been since she met John. Then you tell Mary how many hours it has been since she met John.**\n",
        "\n",
        "1. Set the variable 'day' to 24\n",
        "2. Set the variable 'num_day' for the input from the user. Get a number (number of days) from the user using input() function\n",
        "2. Calculate days to hours: set the variable 'hours' to the final result."
      ],
      "metadata": {
        "id": "cvkWAvetFtSP"
      }
    },
    {
      "cell_type": "code",
      "source": [
        "day = \n",
        "num_day = \n",
        "hours = \n",
        "print(\"The total hours passed since Mary met John are: \", hours, \"hours.\")"
      ],
      "metadata": {
        "id": "Fdezo9WD1zju",
        "outputId": "174b66de-637f-420b-f218-3dbcf86e8f5b",
        "colab": {
          "base_uri": "https://localhost:8080/"
        }
      },
      "execution_count": null,
      "outputs": [
        {
          "output_type": "stream",
          "name": "stdout",
          "text": [
            "How many days? 23\n",
            "The total hours passed since Mary met John are:  552 hours.\n"
          ]
        }
      ]
    },
    {
      "cell_type": "markdown",
      "source": [
        "#[2] String manipulation: strip() and .lower().\n",
        "\n"
      ],
      "metadata": {
        "id": "zzkVAfU61HDk"
      }
    },
    {
      "cell_type": "markdown",
      "source": [
        "### **data.strip()**\n",
        "\n",
        "+ In Python, strip() is a built-in string method that returns a copy of the string with leading and trailing characters removed. \n",
        "+ By default, strip() removes whitespace characters such as spaces, tabs, and newlines from the beginning and end of the string."
      ],
      "metadata": {
        "id": "sSi_PvE5LTeC"
      }
    },
    {
      "cell_type": "code",
      "source": [
        "w1 = \" Mary is friendly. \"\n",
        "w1"
      ],
      "metadata": {
        "colab": {
          "base_uri": "https://localhost:8080/",
          "height": 35
        },
        "id": "IUtU-qG81XIt",
        "outputId": "e220311b-615a-4482-fcf3-989e2bcf0a26"
      },
      "execution_count": null,
      "outputs": [
        {
          "output_type": "execute_result",
          "data": {
            "text/plain": [
              "' Mary is friendly. '"
            ],
            "application/vnd.google.colaboratory.intrinsic+json": {
              "type": "string"
            }
          },
          "metadata": {},
          "execution_count": 46
        }
      ]
    },
    {
      "cell_type": "code",
      "source": [
        "w1.strip()"
      ],
      "metadata": {
        "colab": {
          "base_uri": "https://localhost:8080/",
          "height": 35
        },
        "id": "ZAhdPbqVKr6e",
        "outputId": "cd233fa9-fd66-4f89-da29-02e5f8e8ddf7"
      },
      "execution_count": null,
      "outputs": [
        {
          "output_type": "execute_result",
          "data": {
            "text/plain": [
              "'Mary is friendly.'"
            ],
            "application/vnd.google.colaboratory.intrinsic+json": {
              "type": "string"
            }
          },
          "metadata": {},
          "execution_count": 47
        }
      ]
    },
    {
      "cell_type": "markdown",
      "source": [
        "### **data.split()**"
      ],
      "metadata": {
        "id": "JGPdtmu8MFgv"
      }
    },
    {
      "cell_type": "code",
      "source": [
        "w1 = \"Mary is friendly.\"\n",
        "w1.split()"
      ],
      "metadata": {
        "colab": {
          "base_uri": "https://localhost:8080/"
        },
        "id": "xbF1sJB9MIpw",
        "outputId": "b9175d5c-0146-44ee-a8dc-9e11d71cdbd9"
      },
      "execution_count": null,
      "outputs": [
        {
          "output_type": "execute_result",
          "data": {
            "text/plain": [
              "['Mary', 'is', 'friendly.']"
            ]
          },
          "metadata": {},
          "execution_count": 48
        }
      ]
    },
    {
      "cell_type": "code",
      "source": [
        "w2 = \"out-of-date\"\n",
        "w2.split('-')"
      ],
      "metadata": {
        "colab": {
          "base_uri": "https://localhost:8080/"
        },
        "id": "IudKgTjkMVQP",
        "outputId": "fffcbccf-0217-466c-bcc2-d35131bd60c7"
      },
      "execution_count": null,
      "outputs": [
        {
          "output_type": "execute_result",
          "data": {
            "text/plain": [
              "['out', 'of', 'date']"
            ]
          },
          "metadata": {},
          "execution_count": 49
        }
      ]
    },
    {
      "cell_type": "code",
      "source": [
        "w1 = \"Mary\"\n",
        "w2 = \"is\"\n",
        "w3 = \"friendly\""
      ],
      "metadata": {
        "id": "tGBOKKKtLvj7"
      },
      "execution_count": null,
      "outputs": []
    },
    {
      "cell_type": "code",
      "source": [
        "wordlist = [w1, w2, w3]\n",
        "wordlist"
      ],
      "metadata": {
        "colab": {
          "base_uri": "https://localhost:8080/"
        },
        "id": "c11AXGr0V_a4",
        "outputId": "f5a0b40c-c834-4888-c9fa-b243ac79243e"
      },
      "execution_count": null,
      "outputs": [
        {
          "output_type": "execute_result",
          "data": {
            "text/plain": [
              "['Mary', 'is', 'friendly']"
            ]
          },
          "metadata": {},
          "execution_count": 51
        }
      ]
    },
    {
      "cell_type": "markdown",
      "source": [
        "### **' '.join()**"
      ],
      "metadata": {
        "id": "Mb-LFWWPWn08"
      }
    },
    {
      "cell_type": "code",
      "source": [
        "' '.join(wordlist)"
      ],
      "metadata": {
        "colab": {
          "base_uri": "https://localhost:8080/",
          "height": 35
        },
        "id": "tZA7DsPPWGmA",
        "outputId": "90221f13-9bd2-40de-da6a-de32c074fb58"
      },
      "execution_count": null,
      "outputs": [
        {
          "output_type": "execute_result",
          "data": {
            "text/plain": [
              "'Mary is friendly'"
            ],
            "application/vnd.google.colaboratory.intrinsic+json": {
              "type": "string"
            }
          },
          "metadata": {},
          "execution_count": 52
        }
      ]
    },
    {
      "cell_type": "code",
      "source": [
        "'-'.join(wordlist)"
      ],
      "metadata": {
        "colab": {
          "base_uri": "https://localhost:8080/",
          "height": 35
        },
        "id": "EjLtWSL5WdYy",
        "outputId": "4ce99690-92b2-4ac7-b8c2-ee45569c21fe"
      },
      "execution_count": null,
      "outputs": [
        {
          "output_type": "execute_result",
          "data": {
            "text/plain": [
              "'Mary-is-friendly'"
            ],
            "application/vnd.google.colaboratory.intrinsic+json": {
              "type": "string"
            }
          },
          "metadata": {},
          "execution_count": 53
        }
      ]
    },
    {
      "cell_type": "markdown",
      "source": [
        "### **data.lower(), data.upper()**"
      ],
      "metadata": {
        "id": "PgCIMbbcL29X"
      }
    },
    {
      "cell_type": "code",
      "source": [
        "w1.lower()"
      ],
      "metadata": {
        "colab": {
          "base_uri": "https://localhost:8080/",
          "height": 35
        },
        "id": "JGqTVM22MuH0",
        "outputId": "118e59a5-ab1a-4271-98b6-5e38fd509488"
      },
      "execution_count": null,
      "outputs": [
        {
          "output_type": "execute_result",
          "data": {
            "text/plain": [
              "'mary'"
            ],
            "application/vnd.google.colaboratory.intrinsic+json": {
              "type": "string"
            }
          },
          "metadata": {},
          "execution_count": 54
        }
      ]
    },
    {
      "cell_type": "code",
      "source": [
        "w1.upper()"
      ],
      "metadata": {
        "colab": {
          "base_uri": "https://localhost:8080/",
          "height": 35
        },
        "id": "fP2lBss3Myhq",
        "outputId": "7b93479c-d868-4f9d-d120-456ed03398a4"
      },
      "execution_count": null,
      "outputs": [
        {
          "output_type": "execute_result",
          "data": {
            "text/plain": [
              "'MARY'"
            ],
            "application/vnd.google.colaboratory.intrinsic+json": {
              "type": "string"
            }
          },
          "metadata": {},
          "execution_count": 55
        }
      ]
    },
    {
      "cell_type": "markdown",
      "source": [
        "string index"
      ],
      "metadata": {
        "id": "yZJk2NtCM_oz"
      }
    },
    {
      "cell_type": "code",
      "source": [
        "len(w1) #number of string"
      ],
      "metadata": {
        "colab": {
          "base_uri": "https://localhost:8080/"
        },
        "id": "HmuiXLZSNGNa",
        "outputId": "a04863f4-d425-4cca-ae44-b0b8506c2910"
      },
      "execution_count": null,
      "outputs": [
        {
          "output_type": "execute_result",
          "data": {
            "text/plain": [
              "4"
            ]
          },
          "metadata": {},
          "execution_count": 56
        }
      ]
    },
    {
      "cell_type": "code",
      "source": [
        "w1[0] #1st string"
      ],
      "metadata": {
        "colab": {
          "base_uri": "https://localhost:8080/",
          "height": 35
        },
        "id": "xiyozLYxM6xk",
        "outputId": "b87c69f9-889e-4473-b142-33ef06d35790"
      },
      "execution_count": null,
      "outputs": [
        {
          "output_type": "execute_result",
          "data": {
            "text/plain": [
              "'M'"
            ],
            "application/vnd.google.colaboratory.intrinsic+json": {
              "type": "string"
            }
          },
          "metadata": {},
          "execution_count": 57
        }
      ]
    },
    {
      "cell_type": "code",
      "source": [
        "w1[-1]"
      ],
      "metadata": {
        "colab": {
          "base_uri": "https://localhost:8080/",
          "height": 35
        },
        "id": "AY_Ii7FhNeof",
        "outputId": "4cda0399-33ee-42f3-bf12-9f6aa11cd329"
      },
      "execution_count": null,
      "outputs": [
        {
          "output_type": "execute_result",
          "data": {
            "text/plain": [
              "'y'"
            ],
            "application/vnd.google.colaboratory.intrinsic+json": {
              "type": "string"
            }
          },
          "metadata": {},
          "execution_count": 58
        }
      ]
    },
    {
      "cell_type": "code",
      "source": [
        "w1[0:]"
      ],
      "metadata": {
        "id": "vhfF3iXwNijx"
      },
      "execution_count": null,
      "outputs": []
    },
    {
      "cell_type": "code",
      "source": [
        "w1[:]"
      ],
      "metadata": {
        "id": "pW4m0FoyNlf4"
      },
      "execution_count": null,
      "outputs": []
    },
    {
      "cell_type": "code",
      "source": [
        "w1[1:3]"
      ],
      "metadata": {
        "id": "tgp9ozDdNpwd"
      },
      "execution_count": null,
      "outputs": []
    },
    {
      "cell_type": "code",
      "source": [
        "w = \"mary\"\n",
        "w[0:-1]"
      ],
      "metadata": {
        "id": "0Su3TuHfPxwh"
      },
      "execution_count": null,
      "outputs": []
    },
    {
      "cell_type": "markdown",
      "source": [
        "☺️ DIY: Convert a statement to a yes-no question (e.g., Mary is smart. Tom is smiling. Jane is late.)"
      ],
      "metadata": {
        "id": "lGVkVdCLNMz0"
      }
    },
    {
      "cell_type": "code",
      "source": [
        "w1 = \"Mary\"; w2 = \"is\"; w3 = \"friendly.\""
      ],
      "metadata": {
        "id": "nz1VNUviNXaJ"
      },
      "execution_count": null,
      "outputs": []
    }
  ]
}