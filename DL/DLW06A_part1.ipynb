{
  "nbformat": 4,
  "nbformat_minor": 0,
  "metadata": {
    "colab": {
      "provenance": [],
      "include_colab_link": true
    },
    "kernelspec": {
      "name": "python3",
      "display_name": "Python 3"
    },
    "language_info": {
      "name": "python"
    }
  },
  "cells": [
    {
      "cell_type": "markdown",
      "metadata": {
        "id": "view-in-github",
        "colab_type": "text"
      },
      "source": [
        "<a href=\"https://colab.research.google.com/github/seo03/DL23/blob/main/DL/DLW06A_part1.ipynb\" target=\"_parent\"><img src=\"https://colab.research.google.com/assets/colab-badge.svg\" alt=\"Open In Colab\"/></a>"
      ]
    },
    {
      "cell_type": "markdown",
      "source": [
        "# 🌀**DLW06A Part I (4/12)** Coding and Language games"
      ],
      "metadata": {
        "id": "_mbT_YJKGkm-"
      }
    },
    {
      "cell_type": "markdown",
      "source": [
        "# 💕 Goal: Creating an app similar to **_Word Guessing Game from Hints_**\n",
        "\n",
        "We will be spending 2 weeks to get this go."
      ],
      "metadata": {
        "id": "ppmHMRdisMiv"
      }
    },
    {
      "cell_type": "markdown",
      "source": [
        "##💦 **Demo 1: Making a word quiz.**"
      ],
      "metadata": {
        "id": "MWpQZGE5wZgt"
      }
    },
    {
      "cell_type": "code",
      "source": [
        "#@markdown Run this code to see guesiong game\n",
        "import random\n",
        "\n",
        "# Define a dictionary of words and their hints\n",
        "word_hints = {\n",
        "    \"suprasegmental\": [\n",
        "        \"This term is related to the features of speech that go beyond individual sounds.\",\n",
        "        \"It is often associated with intonation, stress, and timing.\",\n",
        "        \"Examples include pitch, tone, and stress patterns.\",\n",
        "        \"The answer begins with 's'.\"\n",
        "    ],\n",
        "    \"geminate\": [\n",
        "        \"This term is related to a specific type of consonant.\",\n",
        "        \"It refers to a consonant that is pronounced for a longer duration than its regular counterpart.\",\n",
        "        \"In some languages, it can be represented by doubling the consonant in writing.\",\n",
        "        \"The answer begins with 'g'.\"\n",
        "    ],\n",
        "    \"syllable\": [\n",
        "        \"This term is related to a unit of speech.\",\n",
        "        \"It is a sequence of speech sounds, typically consisting of a vowel and any surrounding consonants.\",\n",
        "        \"A word can have one or multiple of these units.\",\n",
        "        \"The answer begins with 's'.\"\n",
        "    ]\n",
        "}\n",
        "\n",
        "# Define guessing game\n",
        "\n",
        "def guessing_game(word_hints):\n",
        "    words = list(word_hints.keys())\n",
        "    random.shuffle(words)\n",
        "\n",
        "    for word in words:\n",
        "        print(\"\\nGuess the word based on the following hints:\")\n",
        "        hints = word_hints[word]\n",
        "        attempts = 0\n",
        "\n",
        "        while attempts < len(hints):\n",
        "            print(f\"Hint {attempts + 1}: {hints[attempts]}\")\n",
        "            guess = input(\"Your guess: \").strip().lower()\n",
        "\n",
        "            if guess == word.lower():\n",
        "                print(\"Congratulations! You guessed the correct word!\\n\")\n",
        "                break\n",
        "            else:\n",
        "                print(\"Incorrect. Try again with another hint.\\n\")\n",
        "                attempts += 1\n",
        "\n",
        "        if attempts == len(hints):\n",
        "            print(f\"Sorry, you've run out of hints. The correct word was: {word}\\n\")\n",
        "\n",
        "# Using this conditional structure is a common practice in Python to allow a script to be both executed as a standalone program and imported as a module in other scripts without immediately running the code within the script.\n",
        "if __name__ == \"__main__\":\n",
        "  guessing_game(word_hints)"
      ],
      "metadata": {
        "cellView": "form",
        "id": "68fDLUnZs8KF",
        "outputId": "63242dcb-30d0-4184-d0e3-0a2f256db3c3",
        "colab": {
          "base_uri": "https://localhost:8080/"
        }
      },
      "execution_count": 1,
      "outputs": [
        {
          "output_type": "stream",
          "name": "stdout",
          "text": [
            "\n",
            "Guess the word based on the following hints:\n",
            "Hint 1: This term is related to the features of speech that go beyond individual sounds.\n",
            "Your guess: segment\n",
            "Incorrect. Try again with another hint.\n",
            "\n",
            "Hint 2: It is often associated with intonation, stress, and timing.\n",
            "Your guess: suprasegmental\n",
            "Congratulations! You guessed the correct word!\n",
            "\n",
            "\n",
            "Guess the word based on the following hints:\n",
            "Hint 1: This term is related to a specific type of consonant.\n",
            "Your guess: syllabic consonant\n",
            "Incorrect. Try again with another hint.\n",
            "\n",
            "Hint 2: It refers to a consonant that is pronounced for a longer duration than its regular counterpart.\n",
            "Your guess: \n",
            "Incorrect. Try again with another hint.\n",
            "\n",
            "Hint 3: In some languages, it can be represented by doubling the consonant in writing.\n",
            "Your guess: \n",
            "Incorrect. Try again with another hint.\n",
            "\n",
            "Hint 4: The answer begins with 'g'.\n",
            "Your guess: glide\n",
            "Incorrect. Try again with another hint.\n",
            "\n",
            "Sorry, you've run out of hints. The correct word was: geminate\n",
            "\n",
            "\n",
            "Guess the word based on the following hints:\n",
            "Hint 1: This term is related to a unit of speech.\n",
            "Your guess: \n",
            "Incorrect. Try again with another hint.\n",
            "\n",
            "Hint 2: It is a sequence of speech sounds, typically consisting of a vowel and any surrounding consonants.\n",
            "Your guess: \n",
            "Your guess: \n",
            "Incorrect. Try again with another hint.\n",
            "\n",
            "Hint 3: A word can have one or multiple of these units.\n",
            "Incorrect. Try again with another hint.\n",
            "\n",
            "Hint 4: The answer begins with 's'.\n",
            "Your guess: \n",
            "Incorrect. Try again with another hint.\n",
            "\n",
            "Sorry, you've run out of hints. The correct word was: syllable\n",
            "\n"
          ]
        }
      ]
    },
    {
      "cell_type": "markdown",
      "source": [
        "##💦**Demo 2: Convert a statement to a yes-no question**"
      ],
      "metadata": {
        "id": "DKwjeU8pW-iu"
      }
    },
    {
      "cell_type": "code",
      "source": [
        "#@markdown Install and import libraries\n",
        "%%capture\n",
        "!pip install gtts\n",
        "!pip install IPython\n",
        "from gtts import gTTS\n",
        "from IPython.display import Audio, display\n",
        "\n",
        "#@markdown etts(), ktts()\n",
        "def etts(text):\n",
        "  text_to_say = text\n",
        "\n",
        "  gtts_object = gTTS(text = text_to_say,\n",
        "                     lang = \"en\",\n",
        "                    slow = False)\n",
        "  \n",
        "  gtts_object.save(\"E-audio.mp3\")\n",
        "  return Audio(\"E-audio.mp3\")\n",
        "\n",
        "def ktts(text):\n",
        "  text_to_say = text\n",
        "\n",
        "  gtts_object = gTTS(text = text_to_say,\n",
        "                     lang = \"ko\",\n",
        "                    slow = False)\n",
        "  \n",
        "  gtts_object.save(\"K-audio.mp3\")\n",
        "  return Audio(\"K-audio.mp3\")"
      ],
      "metadata": {
        "cellView": "form",
        "id": "TajMEehr8_7D"
      },
      "execution_count": 2,
      "outputs": []
    },
    {
      "cell_type": "markdown",
      "source": [
        "---\n",
        "### Complete version with some restriction \n",
        "\n",
        "1. The statement you're entering must contain a be-verb.\n",
        "2. If you use a proper noun as a subject, restrict it to one of the followings: \n",
        "\n",
        "> **Male: Tom, Thomas, Bill**\n",
        "\n",
        "> **Female: Mary, Jane, Jessica**\n",
        "\n",
        "2. Must contain a punctuation(.)\n",
        "---"
      ],
      "metadata": {
        "id": "5XYJaX2IDrOu"
      }
    },
    {
      "cell_type": "code",
      "source": [
        "#@markdown Statment to a Yes-No question (Audio autoplay)\n",
        "sentence = input(\"Type a sentence containing a be verb: e.g., I am a students.\\n\")\n",
        "beverbs = [\"is\", \"was\", \"are\", \"were\"]\n",
        "pronouns = [\"I\",\"You\",\"He\",\"She\",\"They\",\"It\"]\n",
        "names = [\"Mary\", \"Jane\", \"Tom\",\"Thomas\",\"Jessica\", \"Bill\"]\n",
        "\n",
        "def check_word(list_A, list_B):\n",
        "    for a in list_A:\n",
        "        for b in list_B:\n",
        "            if b in a:\n",
        "                mword = a\n",
        "                return True, mword\n",
        "    return False, None\n",
        "\n",
        "\n",
        "cat1 = sentence.split()\n",
        "\n",
        "result = check_word(cat1,beverbs)\n",
        "\n",
        "if result[0] == True:\n",
        "  if cat1[0] in pronouns:\n",
        "      b = result[1]\n",
        "      be = \" \"+b+\" \"\n",
        "      ss = sentence.split(be)\n",
        "      subj = ss[0]\n",
        "      nsubj = subj[0].lower()+subj[1:]\n",
        "      pred = ss[1]\n",
        "      w1 = b[0].upper() + b[1:] # Capitalized be verb\n",
        "      newsent = w1 + \" \" + nsubj + \" \" + pred[:-1] + \"?\"\n",
        "      mytext = \"I'll make it to a yes-no question: \" + newsent\n",
        "      print(\"Yes-no question: \", newsent)\n",
        "  elif cat1[0] not in pronouns and cat1[0] in names:\n",
        "        b = result[1]\n",
        "        be = \" \"+b+\" \"\n",
        "        ss = sentence.split(be)\n",
        "        subj = ss[0]\n",
        "        pred = ss[1]\n",
        "        w1 = b[0].upper() + b[1:] # Capitalized be verb\n",
        "        newsent = w1 + \" \" + subj + \" \" + pred[:-1] + \"?\"\n",
        "        mytext = \"I'll make it to a yes-no question: \" + newsent\n",
        "        print(\"Yes-no question: \", newsent)\n",
        "  elif cat1[0] not in pronouns and cat1[0] not in names:\n",
        "        b = result[1]\n",
        "        be = \" \"+b+\" \"\n",
        "        ss = sentence.split(be)\n",
        "        subj = ss[0]\n",
        "        nsubj = subj[0].lower()+subj[1:]\n",
        "        pred = ss[1]\n",
        "        w1 = b[0].upper() + b[1:] # Capitalized be verb\n",
        "        newsent = w1 + \" \" + nsubj + \" \" + pred[:-1] + \"?\"\n",
        "        mytext = \"I'll make it to a yes-no question: \" + newsent\n",
        "        print(\"Yes-no question: \", newsent)\n",
        "\n",
        "else:\n",
        "    mytext = \"The sentence you\\' provided does not contain a 'Be' verb. Try again.\"\n",
        "    print(\"Type a sentence that contains a be verb.\")\n",
        "\n",
        "etts(mytext)\n",
        "Audio(\"E-audio.mp3\",autoplay=True)"
      ],
      "metadata": {
        "cellView": "form",
        "id": "ZjPSWFub-55P",
        "outputId": "00313084-7607-4f49-ffac-bab68f229a66",
        "colab": {
          "base_uri": "https://localhost:8080/",
          "height": 129
        }
      },
      "execution_count": 3,
      "outputs": [
        {
          "output_type": "stream",
          "name": "stdout",
          "text": [
            "Type a sentence containing a be verb: e.g., I am a students.\n",
            "I am a student.\n",
            "Type a sentence that contains a be verb.\n"
          ]
        },
        {
          "output_type": "execute_result",
          "data": {
            "text/plain": [
              "<IPython.lib.display.Audio object>"
            ],
            "text/html": [
              "\n",
              "                <audio  controls=\"controls\" autoplay=\"autoplay\">\n",
              "                    <source src=\"data:audio/mpeg;base64,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\" type=\"audio/mpeg\" />\n",
              "                    Your browser does not support the audio element.\n",
              "                </audio>\n",
              "              "
            ]
          },
          "metadata": {},
          "execution_count": 3
        }
      ]
    },
    {
      "cell_type": "markdown",
      "source": [
        "## 💦**Demo 3: Story game**"
      ],
      "metadata": {
        "id": "UG0_f0gJQl1r"
      }
    },
    {
      "cell_type": "code",
      "source": [
        "#@markdown Adventure game with reading\n",
        "print(\"Welcome to the adventure game!\")\n",
        "print(\"=\"*50)\n",
        "print(\"You are a high school student who has been chosen to embark on a quest to save your town from a mysterious curse.\")\n",
        "print(\"You will face various challenges and choices along the way, and your decisions will determine the outcome of the story.\")\n",
        "print(\"=\"*50)\n",
        "name = input(\"What is your name? \")\n",
        "print(\"=\"*50)\n",
        "print(f\"Nice to meet you, {name}! Are you ready to begin?\")\n",
        "print(\"=\"*50)\n",
        "# Start of the story\n",
        "print(\"You wake up one morning to find that your town is covered in a thick fog.\")\n",
        "print(\"People are starting to get sick, and strange things are happening.\")\n",
        "print(\"You decide to investigate and find out that a curse has been cast upon the town.\")\n",
        "print(\"You meet a wise old sage who tells you that the only way to lift the curse is to find a magical artifact that is hidden in a dangerous dungeon.\")\n",
        "print(\"=\"*50)\n",
        "# First choice\n",
        "print(\"You have two options:\")\n",
        "print(\"Option 1: Search for clues in the town.\")\n",
        "print(\"Option 2: Go straight to the dungeon.\")\n",
        "print(\"=\"*50)\n",
        "choice = input(\"Which option do you choose? (1 or 2) \")\n",
        "print(\"=\"*50)\n",
        "if choice == \"1\":\n",
        "    print(\"You spend the day talking to townspeople and searching for clues.\")\n",
        "    print(\"You find a cryptic message that leads you to a hidden cave.\")\n",
        "elif choice == \"2\":\n",
        "    print(\"You journey to the dungeon and face many dangers along the way.\")\n",
        "    print(\"You eventually reach the entrance to the dungeon.\")\n",
        "print(\"=\"*50)\n",
        "# Second choice\n",
        "print(\"You have two options:\")\n",
        "print(\"Option 1: Enter the cave.\")\n",
        "print(\"Option 2: Enter the dungeon.\")\n",
        "print(\"=\"*50)\n",
        "choice = input(\"Which option do you choose? (1 or 2) \")\n",
        "print(\"=\"*50)\n",
        "if choice == \"1\":\n",
        "    print(\"=\"*50)\n",
        "    print(\"You enter the cave and find the magical artifact!\")\n",
        "    print(\"You bring it back to the town and the curse is lifted.\")\n",
        "    print(\"Congratulations! You have saved the town!\")\n",
        "    print(\"=\"*50)\n",
        "elif choice == \"2\":\n",
        "    print(\"=\"*50)\n",
        "    print(\"You enter the dungeon and face many challenges.\")\n",
        "    print(\"You eventually find the magical artifact, but it is guarded by a powerful monster.\")\n",
        "    print(\"You must defeat the monster to retrieve the artifact.\")\n",
        "    print(\"You engage in a fierce battle!\")\n",
        "    print(\"You lost the battle and the curse remains.\")\n",
        "    print(\"Brave You! Though the curse remains, people appreicate your effort.\")\n",
        "    print(\"=\"*50)\n"
      ],
      "metadata": {
        "cellView": "form",
        "id": "qBAUNW9qP75J",
        "outputId": "e19d40e3-69ec-4fc4-b9ad-6e003a58fcff",
        "colab": {
          "base_uri": "https://localhost:8080/"
        }
      },
      "execution_count": 4,
      "outputs": [
        {
          "output_type": "stream",
          "name": "stdout",
          "text": [
            "Welcome to the adventure game!\n",
            "==================================================\n",
            "You are a high school student who has been chosen to embark on a quest to save your town from a mysterious curse.\n",
            "You will face various challenges and choices along the way, and your decisions will determine the outcome of the story.\n",
            "==================================================\n",
            "What is your name? Daeun Seo\n",
            "==================================================\n",
            "Nice to meet you, Daeun Seo! Are you ready to begin?\n",
            "==================================================\n",
            "You wake up one morning to find that your town is covered in a thick fog.\n",
            "People are starting to get sick, and strange things are happening.\n",
            "You decide to investigate and find out that a curse has been cast upon the town.\n",
            "You meet a wise old sage who tells you that the only way to lift the curse is to find a magical artifact that is hidden in a dangerous dungeon.\n",
            "==================================================\n",
            "You have two options:\n",
            "Option 1: Search for clues in the town.\n",
            "Option 2: Go straight to the dungeon.\n",
            "==================================================\n",
            "Which option do you choose? (1 or 2) 2\n",
            "==================================================\n",
            "You journey to the dungeon and face many dangers along the way.\n",
            "You eventually reach the entrance to the dungeon.\n",
            "==================================================\n",
            "You have two options:\n",
            "Option 1: Enter the cave.\n",
            "Option 2: Enter the dungeon.\n",
            "==================================================\n",
            "Which option do you choose? (1 or 2) 1\n",
            "==================================================\n",
            "==================================================\n",
            "You enter the cave and find the magical artifact!\n",
            "You bring it back to the town and the curse is lifted.\n",
            "Congratulations! You have saved the town!\n",
            "==================================================\n"
          ]
        }
      ]
    },
    {
      "cell_type": "code",
      "source": [
        "#@markdown Story game with listening (audio)\n",
        "from gtts import gTTS\n",
        "import IPython.display as ipd\n",
        "\n",
        "def play_audio(text):\n",
        "    language = 'en'\n",
        "    audio = gTTS(text=text, lang=language, slow=False)\n",
        "    audio.save(\"audio.mp3\")\n",
        "    ipd.display(ipd.Audio(\"audio.mp3\", autoplay=True))\n",
        "\n",
        "# Introduction\n",
        "play_audio(\"Welcome to the story game. You are walking home from school when you hear footsteps behind you. You look back and see a shady figure in the distance. What do you do?\")\n",
        "ipd.clear_output(wait=True)\n",
        "input(\"Press Enter to continue...\")\n",
        "\n",
        "# Stage 1\n",
        "play_audio(\"You decide to run. Do you run towards the park or towards the busy street?\")\n",
        "ipd.clear_output(wait=True)\n",
        "choice = input(\"Enter 1 to run towards the park, or 2 to run towards the busy street: \")\n",
        "if choice == \"1\":\n",
        "    play_audio(\"You run towards the park and manage to lose the shady figure. You continue walking home and make it back safely.\")\n",
        "elif choice == \"2\":\n",
        "    play_audio(\"You run towards the busy street, hoping to find someone to help you. As you get closer, you realize that the figure is a police officer. You stop and explain what happened, and the officer escorts you home safely.\")\n",
        "ipd.clear_output(wait=True)\n",
        "input(\"Press Enter to continue...\")\n",
        "\n",
        "# Stage 2\n",
        "play_audio(\"You arrive home and find that your front door is slightly open. Do you go inside or call the police?\")\n",
        "ipd.clear_output(wait=True)\n",
        "choice = input(\"Enter 1 to go inside, or 2 to call the police: \")\n",
        "if choice == \"1\":\n",
        "    play_audio(\"You cautiously enter your home and find that everything is as you left it. You breathe a sigh of relief and go about your evening.\")\n",
        "elif choice == \"2\":\n",
        "    play_audio(\"You call the police and they arrive shortly after. They search your home and find no one inside. You spend the night at a friend's house and return home the next day.\")\n",
        "ipd.clear_output(wait=True)\n",
        "input(\"Press Enter to continue...\")\n",
        "\n",
        "# Conclusion\n",
        "play_audio(\"Good choice! you have successfully made it home safely. Thanks for playing!\")\n",
        "ipd.clear_output(wait=True)\n"
      ],
      "metadata": {
        "cellView": "form",
        "id": "mx_BDEl-TqLe",
        "outputId": "72fdfbc4-b82d-4aae-f5d5-db00ba064a3d",
        "colab": {
          "base_uri": "https://localhost:8080/",
          "height": 93
        }
      },
      "execution_count": 7,
      "outputs": [
        {
          "name": "stdout",
          "output_type": "stream",
          "text": [
            "Press Enter to continue...\n"
          ]
        },
        {
          "output_type": "display_data",
          "data": {
            "text/plain": [
              "<IPython.lib.display.Audio object>"
            ],
            "text/html": [
              "\n",
              "                <audio  controls=\"controls\" autoplay=\"autoplay\">\n",
              "                    <source src=\"data:audio/mpeg;base64,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\" type=\"audio/mpeg\" />\n",
              "                    Your browser does not support the audio element.\n",
              "                </audio>\n",
              "              "
            ]
          },
          "metadata": {}
        }
      ]
    },
    {
      "cell_type": "markdown",
      "source": [
        "---\n",
        "# 📙Concepts and elements to cover for our goal:\n",
        "\n",
        "0. Importing modules: Explain how to import a module (like random) and use its functions (like random.shuffle()).\n",
        "\n",
        "1. Python basics: Basic data types (strings, integers, lists, dictionaries), variables, and basic input/output functions (like print() and input()).\n",
        "\n",
        "2. String manipulation: Cover string methods like .strip() and .lower().\n",
        "3. Control structures: Introduce for loops, while loops, and conditional statements (if, elif, else).\n",
        "\n",
        "4. Functions: Explain how to define and use functions, including function parameters. \n",
        "\n",
        "5. F-strings: Introduce f-strings (formatted string literals) and how to embed expressions inside string literals using curly braces {}.\n",
        "---"
      ],
      "metadata": {
        "id": "2VMRdKbJwOsk"
      }
    },
    {
      "cell_type": "markdown",
      "source": [
        "# [0] Importing modules\n",
        "\n",
        "1. **function, (class), module, package, and library**\n",
        "\n",
        "> (class) > functions\n",
        "\n",
        "\n",
        "2. Let's use the analogy of a toolbox: \n",
        "\n",
        "+ **a module** is a single tool, (e.g., random) \n",
        "+ **a package** is a toolbox containing multiple tools (e.g., gTTS)\n",
        "+ **a library** is a set of toolboxes designed for a specific purpose. (e.g., nltk - Natural Language Tool Kit) _>> Next time_"
      ],
      "metadata": {
        "id": "wgZEzhkQwzc3"
      }
    },
    {
      "cell_type": "markdown",
      "source": [
        "##A. 'gTTS' package"
      ],
      "metadata": {
        "id": "298wKG9q7-rN"
      }
    },
    {
      "cell_type": "code",
      "source": [
        "!pip install gtts\n",
        "!pip install IPython\n",
        "from gtts import gTTS\n",
        "from IPython.display import Audio, display"
      ],
      "metadata": {
        "id": "YLCRqNbW8E9J",
        "outputId": "b4aecbdd-ff73-4073-925b-fd3d84a8aa15",
        "colab": {
          "base_uri": "https://localhost:8080/"
        }
      },
      "execution_count": 8,
      "outputs": [
        {
          "output_type": "stream",
          "name": "stdout",
          "text": [
            "Looking in indexes: https://pypi.org/simple, https://us-python.pkg.dev/colab-wheels/public/simple/\n",
            "Requirement already satisfied: gtts in /usr/local/lib/python3.9/dist-packages (2.3.1)\n",
            "Requirement already satisfied: click<8.2,>=7.1 in /usr/local/lib/python3.9/dist-packages (from gtts) (8.1.3)\n",
            "Requirement already satisfied: requests<3,>=2.27 in /usr/local/lib/python3.9/dist-packages (from gtts) (2.27.1)\n",
            "Requirement already satisfied: idna<4,>=2.5 in /usr/local/lib/python3.9/dist-packages (from requests<3,>=2.27->gtts) (3.4)\n",
            "Requirement already satisfied: charset-normalizer~=2.0.0 in /usr/local/lib/python3.9/dist-packages (from requests<3,>=2.27->gtts) (2.0.12)\n",
            "Requirement already satisfied: urllib3<1.27,>=1.21.1 in /usr/local/lib/python3.9/dist-packages (from requests<3,>=2.27->gtts) (1.26.15)\n",
            "Requirement already satisfied: certifi>=2017.4.17 in /usr/local/lib/python3.9/dist-packages (from requests<3,>=2.27->gtts) (2022.12.7)\n",
            "Looking in indexes: https://pypi.org/simple, https://us-python.pkg.dev/colab-wheels/public/simple/\n",
            "Requirement already satisfied: IPython in /usr/local/lib/python3.9/dist-packages (7.34.0)\n",
            "Requirement already satisfied: setuptools>=18.5 in /usr/local/lib/python3.9/dist-packages (from IPython) (67.6.1)\n",
            "Requirement already satisfied: traitlets>=4.2 in /usr/local/lib/python3.9/dist-packages (from IPython) (5.7.1)\n",
            "Requirement already satisfied: decorator in /usr/local/lib/python3.9/dist-packages (from IPython) (4.4.2)\n",
            "Requirement already satisfied: pickleshare in /usr/local/lib/python3.9/dist-packages (from IPython) (0.7.5)\n",
            "Requirement already satisfied: backcall in /usr/local/lib/python3.9/dist-packages (from IPython) (0.2.0)\n",
            "Requirement already satisfied: pygments in /usr/local/lib/python3.9/dist-packages (from IPython) (2.14.0)\n",
            "Requirement already satisfied: matplotlib-inline in /usr/local/lib/python3.9/dist-packages (from IPython) (0.1.6)\n",
            "Requirement already satisfied: prompt-toolkit!=3.0.0,!=3.0.1,<3.1.0,>=2.0.0 in /usr/local/lib/python3.9/dist-packages (from IPython) (3.0.38)\n",
            "Requirement already satisfied: jedi>=0.16 in /usr/local/lib/python3.9/dist-packages (from IPython) (0.18.2)\n",
            "Requirement already satisfied: pexpect>4.3 in /usr/local/lib/python3.9/dist-packages (from IPython) (4.8.0)\n",
            "Requirement already satisfied: parso<0.9.0,>=0.8.0 in /usr/local/lib/python3.9/dist-packages (from jedi>=0.16->IPython) (0.8.3)\n",
            "Requirement already satisfied: ptyprocess>=0.5 in /usr/local/lib/python3.9/dist-packages (from pexpect>4.3->IPython) (0.7.0)\n",
            "Requirement already satisfied: wcwidth in /usr/local/lib/python3.9/dist-packages (from prompt-toolkit!=3.0.0,!=3.0.1,<3.1.0,>=2.0.0->IPython) (0.2.6)\n"
          ]
        }
      ]
    },
    {
      "cell_type": "code",
      "source": [
        "#@markdown etts(), ktts()\n",
        "def etts(text):\n",
        "  text_to_say = text\n",
        "\n",
        "  gtts_object = gTTS(text = text_to_say,\n",
        "                     lang = \"en\",\n",
        "                    slow = False)\n",
        "  \n",
        "  gtts_object.save(\"E-audio.mp3\")\n",
        "  return Audio(\"E-audio.mp3\")\n",
        "\n",
        "def ktts(text):\n",
        "  text_to_say = text\n",
        "\n",
        "  gtts_object = gTTS(text = text_to_say,\n",
        "                     lang = \"ko\",\n",
        "                    slow = False)\n",
        "  \n",
        "  gtts_object.save(\"K-audio.mp3\")\n",
        "  return Audio(\"K-audio.mp3\")"
      ],
      "metadata": {
        "cellView": "form",
        "id": "bYDfENzGRUFb"
      },
      "execution_count": 9,
      "outputs": []
    },
    {
      "cell_type": "markdown",
      "source": [
        "## B. 'random' module\n",
        "\n",
        "[Random Picker App using 'random'](https://github.com/MK316/Spring2023/blob/main/RandomPickerS23.ipynb)"
      ],
      "metadata": {
        "id": "vSFe_Umb68o9"
      }
    },
    {
      "cell_type": "code",
      "source": [
        "import random"
      ],
      "metadata": {
        "id": "t8tYICF_1Yx8"
      },
      "execution_count": 10,
      "outputs": []
    },
    {
      "cell_type": "markdown",
      "source": [
        "Return a number between 3 and 9 (both included):"
      ],
      "metadata": {
        "id": "RlWQ5dXark-r"
      }
    },
    {
      "cell_type": "code",
      "source": [
        "random.randint(1, 10) #random.randint(x,y)는 함수이므로 문법대로 사용해야 함."
      ],
      "metadata": {
        "colab": {
          "base_uri": "https://localhost:8080/"
        },
        "id": "sMf1Ow7W11EZ",
        "outputId": "28dbb4db-514d-4f08-99a8-5889eef7b848"
      },
      "execution_count": 11,
      "outputs": [
        {
          "output_type": "execute_result",
          "data": {
            "text/plain": [
              "4"
            ]
          },
          "metadata": {},
          "execution_count": 11
        }
      ]
    },
    {
      "cell_type": "code",
      "source": [
        "a1 = random.randint(1, 10)\n",
        "a1*10  #변수를 이용하면 결과값을 이용한 다른 연산이나 작업이 가능하다."
      ],
      "metadata": {
        "colab": {
          "base_uri": "https://localhost:8080/"
        },
        "id": "WUVN9-Rs825s",
        "outputId": "87626e50-a8fd-44be-ae40-baef352af97a"
      },
      "execution_count": 12,
      "outputs": [
        {
          "output_type": "execute_result",
          "data": {
            "text/plain": [
              "30"
            ]
          },
          "metadata": {},
          "execution_count": 12
        }
      ]
    },
    {
      "cell_type": "markdown",
      "source": [
        "# [1] Python basics: \n",
        "\n",
        "+ Basic data types (strings, integers, lists, dictionaries), \n",
        "+ variables, \n",
        "+ basic input/output functions (like print() and input()).\n",
        "\n"
      ],
      "metadata": {
        "id": "_vTm-kXl8qa_"
      }
    },
    {
      "cell_type": "markdown",
      "source": [
        "## [1-1] Basic data types"
      ],
      "metadata": {
        "id": "qaQ0_hkoENRX"
      }
    },
    {
      "cell_type": "markdown",
      "source": [
        "### A. strings"
      ],
      "metadata": {
        "id": "HB86s1k990Hh"
      }
    },
    {
      "cell_type": "code",
      "source": [
        "a2 = \"Welcome\"\n",
        "a3 = \"2023\""
      ],
      "metadata": {
        "id": "L_OImwSL94Kr"
      },
      "execution_count": 5,
      "outputs": []
    },
    {
      "cell_type": "markdown",
      "source": [
        "☺️ DIY: How to get \"Welcome, 2023!\""
      ],
      "metadata": {
        "id": "wkYUBwu1-IvG"
      }
    },
    {
      "cell_type": "code",
      "source": [
        "a2 + \",\" + a3 + \"!\""
      ],
      "metadata": {
        "id": "XZ2LHJcl9_u4",
        "outputId": "522618cb-4ea0-4e32-cc44-1acb00654e16",
        "colab": {
          "base_uri": "https://localhost:8080/",
          "height": 35
        }
      },
      "execution_count": 13,
      "outputs": [
        {
          "output_type": "execute_result",
          "data": {
            "text/plain": [
              "'Welcome,2023!'"
            ],
            "application/vnd.google.colaboratory.intrinsic+json": {
              "type": "string"
            }
          },
          "metadata": {},
          "execution_count": 13
        }
      ]
    },
    {
      "cell_type": "markdown",
      "source": [
        "☺️ DIY: Let a4 = \"화이팅\", and get '화이팅화이팅화이팅화이팅화이팅화이팅화이팅화이팅화이팅화이팅'(10번)"
      ],
      "metadata": {
        "id": "WNaHBznU-yEd"
      }
    },
    {
      "cell_type": "code",
      "source": [
        "a4 = \"화이팅\"\n",
        "a4*10"
      ],
      "metadata": {
        "id": "0vfPcih3-xg4",
        "outputId": "beb4fc82-32fa-45dc-9ab8-de80078181a3",
        "colab": {
          "base_uri": "https://localhost:8080/",
          "height": 35
        }
      },
      "execution_count": 19,
      "outputs": [
        {
          "output_type": "execute_result",
          "data": {
            "text/plain": [
              "'화이팅화이팅화이팅화이팅화이팅화이팅화이팅화이팅화이팅화이팅'"
            ],
            "application/vnd.google.colaboratory.intrinsic+json": {
              "type": "string"
            }
          },
          "metadata": {},
          "execution_count": 19
        }
      ]
    },
    {
      "cell_type": "code",
      "source": [
        "type(a2) # data type of the variable a2"
      ],
      "metadata": {
        "colab": {
          "base_uri": "https://localhost:8080/"
        },
        "id": "1XroWNyGADZU",
        "outputId": "61218c0c-da08-4de9-83a4-878ccf70392d"
      },
      "execution_count": 26,
      "outputs": [
        {
          "output_type": "execute_result",
          "data": {
            "text/plain": [
              "str"
            ]
          },
          "metadata": {},
          "execution_count": 26
        }
      ]
    },
    {
      "cell_type": "markdown",
      "source": [
        "###B. Integers, float"
      ],
      "metadata": {
        "id": "kpNXrqZ2_9I2"
      }
    },
    {
      "cell_type": "code",
      "source": [
        "x1 = 45; y1 = 0.5\n",
        "x1 * y1"
      ],
      "metadata": {
        "colab": {
          "base_uri": "https://localhost:8080/"
        },
        "id": "CEs2BHNbAB1Q",
        "outputId": "9d441650-a5f2-402d-8bfe-ec7227ecec13"
      },
      "execution_count": 28,
      "outputs": [
        {
          "output_type": "execute_result",
          "data": {
            "text/plain": [
              "22.5"
            ]
          },
          "metadata": {},
          "execution_count": 28
        }
      ]
    },
    {
      "cell_type": "code",
      "source": [
        "type(x1*y1)"
      ],
      "metadata": {
        "id": "2WarI3IQsRJX",
        "outputId": "0d5ddc02-699a-4532-9c22-f4367caa52a4",
        "colab": {
          "base_uri": "https://localhost:8080/"
        }
      },
      "execution_count": 29,
      "outputs": [
        {
          "output_type": "execute_result",
          "data": {
            "text/plain": [
              "float"
            ]
          },
          "metadata": {},
          "execution_count": 29
        }
      ]
    },
    {
      "cell_type": "markdown",
      "source": [
        "### C. List datatype"
      ],
      "metadata": {
        "id": "S7PJcJFkBO46"
      }
    },
    {
      "cell_type": "code",
      "source": [
        "x2 = [1,2,3]\n",
        "x2"
      ],
      "metadata": {
        "colab": {
          "base_uri": "https://localhost:8080/"
        },
        "id": "LjSEH6lABR98",
        "outputId": "bf57a4f3-7d3d-4968-cc93-201586195b35"
      },
      "execution_count": 30,
      "outputs": [
        {
          "output_type": "execute_result",
          "data": {
            "text/plain": [
              "[1, 2, 3]"
            ]
          },
          "metadata": {},
          "execution_count": 30
        }
      ]
    },
    {
      "cell_type": "markdown",
      "source": [
        "x2[index]: Python index starts from 0"
      ],
      "metadata": {
        "id": "xcPyj0Fesdiu"
      }
    },
    {
      "cell_type": "code",
      "source": [
        "x2[0]"
      ],
      "metadata": {
        "id": "VGWl1av6BYGu",
        "outputId": "71842968-72ba-4534-d104-4966c62e1596",
        "colab": {
          "base_uri": "https://localhost:8080/"
        }
      },
      "execution_count": 35,
      "outputs": [
        {
          "output_type": "execute_result",
          "data": {
            "text/plain": [
              "1"
            ]
          },
          "metadata": {},
          "execution_count": 35
        }
      ]
    },
    {
      "cell_type": "code",
      "source": [
        "# range(x,y)\n",
        "x3 = range(1,10)\n",
        "list(x3)  #list(), range(1,10)"
      ],
      "metadata": {
        "colab": {
          "base_uri": "https://localhost:8080/"
        },
        "id": "WNmjoCQ1ANr4",
        "outputId": "a7ffcd68-9761-48d3-aa73-a0f097b9edfc"
      },
      "execution_count": 32,
      "outputs": [
        {
          "output_type": "execute_result",
          "data": {
            "text/plain": [
              "[1, 2, 3, 4, 5, 6, 7, 8, 9]"
            ]
          },
          "metadata": {},
          "execution_count": 32
        }
      ]
    },
    {
      "cell_type": "code",
      "source": [
        "x4 = \"John\"\n",
        "list(x4)"
      ],
      "metadata": {
        "colab": {
          "base_uri": "https://localhost:8080/"
        },
        "id": "amRP-ytuBlO6",
        "outputId": "9208871c-bb4c-479d-a720-14ead0303542"
      },
      "execution_count": 33,
      "outputs": [
        {
          "output_type": "execute_result",
          "data": {
            "text/plain": [
              "['J', 'o', 'h', 'n']"
            ]
          },
          "metadata": {},
          "execution_count": 33
        }
      ]
    },
    {
      "cell_type": "code",
      "source": [
        "fruit = [\"banana\",\"apple\",\"orange\"]\n",
        "list(fruit)"
      ],
      "metadata": {
        "id": "Rl_xJLyOWhbF",
        "outputId": "868dcfa4-9348-4feb-ced8-ed76ca1505a7",
        "colab": {
          "base_uri": "https://localhost:8080/"
        }
      },
      "execution_count": 39,
      "outputs": [
        {
          "output_type": "execute_result",
          "data": {
            "text/plain": [
              "['banana', 'apple', 'orange']"
            ]
          },
          "metadata": {},
          "execution_count": 39
        }
      ]
    },
    {
      "cell_type": "code",
      "source": [],
      "metadata": {
        "id": "hvPSYmCGW1BS"
      },
      "execution_count": 39,
      "outputs": []
    },
    {
      "cell_type": "markdown",
      "source": [
        "###D. Dictionary datatype: {'key':'value'}\n",
        "\n",
        "In Python, a dictionary is a built-in data type that represents a collection of key-value pairs. Each key-value pair in a dictionary is separated by a colon (:), and each pair is separated by a comma. "
      ],
      "metadata": {
        "id": "ZoyOSN_QCCdO"
      }
    },
    {
      "cell_type": "code",
      "source": [
        "mydict = {\"API\":\"Application Programming Interface\", \"GPT\":\"Generative Pretrained Transformer\"}\n",
        "mydict['GPT']"
      ],
      "metadata": {
        "colab": {
          "base_uri": "https://localhost:8080/",
          "height": 35
        },
        "id": "PdRkfL3JBMWK",
        "outputId": "192e7354-0d1e-4f72-e434-640f01f91bd3"
      },
      "execution_count": 41,
      "outputs": [
        {
          "output_type": "execute_result",
          "data": {
            "text/plain": [
              "'Generative Pretrained Transformer'"
            ],
            "application/vnd.google.colaboratory.intrinsic+json": {
              "type": "string"
            }
          },
          "metadata": {},
          "execution_count": 41
        }
      ]
    },
    {
      "cell_type": "code",
      "source": [
        "mydict['GPT']"
      ],
      "metadata": {
        "id": "muVfPouBs47b",
        "outputId": "143e577e-280b-4276-b27f-698ad20d2421",
        "colab": {
          "base_uri": "https://localhost:8080/",
          "height": 35
        }
      },
      "execution_count": 42,
      "outputs": [
        {
          "output_type": "execute_result",
          "data": {
            "text/plain": [
              "'Generative Pretrained Transformer'"
            ],
            "application/vnd.google.colaboratory.intrinsic+json": {
              "type": "string"
            }
          },
          "metadata": {},
          "execution_count": 42
        }
      ]
    },
    {
      "cell_type": "code",
      "source": [
        "class_size = {\"Class A\": 25, \"Class B\": 30, \"Class C\": 32}\n",
        "class_size['Class C']"
      ],
      "metadata": {
        "colab": {
          "base_uri": "https://localhost:8080/"
        },
        "id": "WBs-NrEJDQRC",
        "outputId": "d6dc4b01-92d7-43fa-bc2f-ebcb60b7247e"
      },
      "execution_count": 43,
      "outputs": [
        {
          "output_type": "execute_result",
          "data": {
            "text/plain": [
              "32"
            ]
          },
          "metadata": {},
          "execution_count": 43
        }
      ]
    },
    {
      "cell_type": "code",
      "source": [
        "print(\"The size of the class is: \" , CZ['Class B']) "
      ],
      "metadata": {
        "id": "ebmpesHvYPSE",
        "outputId": "b3dd8a1f-56b6-4429-acb8-d152ef8c4518",
        "colab": {
          "base_uri": "https://localhost:8080/",
          "height": 174
        }
      },
      "execution_count": 52,
      "outputs": [
        {
          "output_type": "error",
          "ename": "NameError",
          "evalue": "ignored",
          "traceback": [
            "\u001b[0;31m---------------------------------------------------------------------------\u001b[0m",
            "\u001b[0;31mNameError\u001b[0m                                 Traceback (most recent call last)",
            "\u001b[0;32m<ipython-input-52-11e5180d6965>\u001b[0m in \u001b[0;36m<cell line: 1>\u001b[0;34m()\u001b[0m\n\u001b[0;32m----> 1\u001b[0;31m \u001b[0mprint\u001b[0m\u001b[0;34m(\u001b[0m\u001b[0;34m\"The size of the class is: \"\u001b[0m \u001b[0;34m,\u001b[0m \u001b[0mCZ\u001b[0m\u001b[0;34m[\u001b[0m\u001b[0;34m'Class B'\u001b[0m\u001b[0;34m]\u001b[0m\u001b[0;34m)\u001b[0m\u001b[0;34m\u001b[0m\u001b[0;34m\u001b[0m\u001b[0m\n\u001b[0m",
            "\u001b[0;31mNameError\u001b[0m: name 'CZ' is not defined"
          ]
        }
      ]
    },
    {
      "cell_type": "markdown",
      "source": [
        "## [1-2] Variables"
      ],
      "metadata": {
        "id": "0m_ux_SoEUos"
      }
    },
    {
      "cell_type": "markdown",
      "source": [
        "## [1-3] input/output functions"
      ],
      "metadata": {
        "id": "YUasz63dEYAX"
      }
    },
    {
      "cell_type": "code",
      "source": [
        "mynumber = 2\n",
        "mynumber"
      ],
      "metadata": {
        "colab": {
          "base_uri": "https://localhost:8080/"
        },
        "id": "BSp7TWkeEfmz",
        "outputId": "34294d43-17c1-4996-88d8-7406e15dd436"
      },
      "execution_count": 53,
      "outputs": [
        {
          "output_type": "execute_result",
          "data": {
            "text/plain": [
              "2"
            ]
          },
          "metadata": {},
          "execution_count": 53
        }
      ]
    },
    {
      "cell_type": "code",
      "source": [
        "yournumber = input()  # In Python, input() is a built-in function that allows you to get user input from the keyboard. \n",
        "yournumber"
      ],
      "metadata": {
        "colab": {
          "base_uri": "https://localhost:8080/",
          "height": 54
        },
        "id": "6LZudH_0En_w",
        "outputId": "7a6c7fa1-79a2-4497-eaf2-082d49998449"
      },
      "execution_count": 54,
      "outputs": [
        {
          "name": "stdout",
          "output_type": "stream",
          "text": [
            "2345\n"
          ]
        },
        {
          "output_type": "execute_result",
          "data": {
            "text/plain": [
              "'2345'"
            ],
            "application/vnd.google.colaboratory.intrinsic+json": {
              "type": "string"
            }
          },
          "metadata": {},
          "execution_count": 54
        }
      ]
    },
    {
      "cell_type": "markdown",
      "source": [
        "☺️ After running the code below, can you tell what the resulting output means?"
      ],
      "metadata": {
        "id": "-Z1mQqzlH4k5"
      }
    },
    {
      "cell_type": "code",
      "source": [
        "yournumber*5"
      ],
      "metadata": {
        "colab": {
          "base_uri": "https://localhost:8080/",
          "height": 35
        },
        "id": "5cGgSs3qHxG_",
        "outputId": "1af6d3ae-e671-4868-c978-2946fe4b04ca"
      },
      "execution_count": 56,
      "outputs": [
        {
          "output_type": "execute_result",
          "data": {
            "text/plain": [
              "'23452345234523452345'"
            ],
            "application/vnd.google.colaboratory.intrinsic+json": {
              "type": "string"
            }
          },
          "metadata": {},
          "execution_count": 56
        }
      ]
    },
    {
      "cell_type": "code",
      "source": [
        "type(yournumber)"
      ],
      "metadata": {
        "colab": {
          "base_uri": "https://localhost:8080/"
        },
        "id": "664rKEalISSY",
        "outputId": "121b2d57-edf3-458d-84ff-4a19be932809"
      },
      "execution_count": 57,
      "outputs": [
        {
          "output_type": "execute_result",
          "data": {
            "text/plain": [
              "str"
            ]
          },
          "metadata": {},
          "execution_count": 57
        }
      ]
    },
    {
      "cell_type": "code",
      "source": [
        "yournumber = int(yournumber) # changing the type of the value to integer\n",
        "type(yournumber)"
      ],
      "metadata": {
        "colab": {
          "base_uri": "https://localhost:8080/"
        },
        "id": "u_ocEyoAIVC4",
        "outputId": "dc2244d5-1003-4efa-e919-9ddb23cd1cd1"
      },
      "execution_count": 58,
      "outputs": [
        {
          "output_type": "execute_result",
          "data": {
            "text/plain": [
              "int"
            ]
          },
          "metadata": {},
          "execution_count": 58
        }
      ]
    },
    {
      "cell_type": "code",
      "source": [
        "yournumber*5"
      ],
      "metadata": {
        "id": "mbNUYAeSZ4Hq",
        "outputId": "80c1a323-a769-4920-adff-a1d549cd2016",
        "colab": {
          "base_uri": "https://localhost:8080/"
        }
      },
      "execution_count": 59,
      "outputs": [
        {
          "output_type": "execute_result",
          "data": {
            "text/plain": [
              "11725"
            ]
          },
          "metadata": {},
          "execution_count": 59
        }
      ]
    },
    {
      "cell_type": "markdown",
      "source": [
        "Getting output:"
      ],
      "metadata": {
        "id": "Z9Kzd8ZW7Bri"
      }
    },
    {
      "cell_type": "code",
      "source": [
        "# print() 함수 배우기\n",
        "print(\"대한민국\")\n",
        "\n",
        "a2 = \"화이팅!\"  # a1: variable(변수)\n",
        "print(a2)\n",
        "print(a2*10)\n",
        "print(\"화이팅 10번 합시다: \", a2*10)\n",
        "a2"
      ],
      "metadata": {
        "id": "aQXDo7u-4-18",
        "outputId": "513793c0-8f80-4b07-c9de-3ae61af84154",
        "colab": {
          "base_uri": "https://localhost:8080/",
          "height": 109
        }
      },
      "execution_count": 60,
      "outputs": [
        {
          "output_type": "stream",
          "name": "stdout",
          "text": [
            "대한민국\n",
            "화이팅!\n",
            "화이팅!화이팅!화이팅!화이팅!화이팅!화이팅!화이팅!화이팅!화이팅!화이팅!\n",
            "화이팅 10번 합시다:  화이팅!화이팅!화이팅!화이팅!화이팅!화이팅!화이팅!화이팅!화이팅!화이팅!\n"
          ]
        },
        {
          "output_type": "execute_result",
          "data": {
            "text/plain": [
              "'화이팅!'"
            ],
            "application/vnd.google.colaboratory.intrinsic+json": {
              "type": "string"
            }
          },
          "metadata": {},
          "execution_count": 60
        }
      ]
    },
    {
      "cell_type": "code",
      "source": [
        "print(a2)\n",
        "print(\"*\"*30)\n",
        "a1=random.randint(1,10)\n",
        "print(\"Random integer between 1 and 10:\", a1)"
      ],
      "metadata": {
        "colab": {
          "base_uri": "https://localhost:8080/"
        },
        "id": "0jdQu65F2ZWw",
        "outputId": "57fec834-648f-46ce-9032-cc7bfada135e"
      },
      "execution_count": 64,
      "outputs": [
        {
          "output_type": "stream",
          "name": "stdout",
          "text": [
            "화이팅!\n",
            "******************************\n",
            "Random integer between 1 and 10: 5\n"
          ]
        }
      ]
    },
    {
      "cell_type": "markdown",
      "source": [
        "☺️DIY: \n",
        "**Q: John and Mary have been together for many days. Ask Mary how many days it has been since she met John. Then you tell Mary how many hours it has been since she met John.**\n",
        "\n",
        "1. Set the variable 'day' to 24\n",
        "2. Set the variable 'num_day' for the input from the user. Get a number (number of days) from the user using input() function\n",
        "2. Calculate days to hours: set the variable 'hours' to the final result."
      ],
      "metadata": {
        "id": "cvkWAvetFtSP"
      }
    },
    {
      "cell_type": "code",
      "source": [
        "day = input()\n",
        "num_day = int(day) \n",
        "hours = 24\n",
        "print(\"The total hours passed since Mary met John are: \", hours*num_day, \"hours.\")"
      ],
      "metadata": {
        "id": "Fdezo9WD1zju",
        "outputId": "8796497c-7f28-4679-e234-647d51dbcae5",
        "colab": {
          "base_uri": "https://localhost:8080/"
        }
      },
      "execution_count": 66,
      "outputs": [
        {
          "output_type": "stream",
          "name": "stdout",
          "text": [
            "1000\n",
            "The total hours passed since Mary met John are:  24000 hours.\n"
          ]
        }
      ]
    },
    {
      "cell_type": "markdown",
      "source": [
        "#[2] String manipulation: strip() and .lower().\n",
        "\n"
      ],
      "metadata": {
        "id": "zzkVAfU61HDk"
      }
    },
    {
      "cell_type": "markdown",
      "source": [
        "### **data.strip()**\n",
        "\n",
        "+ In Python, strip() is a built-in string method that returns a copy of the string with leading and trailing characters removed. \n",
        "+ By default, strip() removes whitespace characters such as spaces, tabs, and newlines from the beginning and end of the string."
      ],
      "metadata": {
        "id": "sSi_PvE5LTeC"
      }
    },
    {
      "cell_type": "code",
      "source": [
        "w1 = \" Mary is friendly. \"\n",
        "w1"
      ],
      "metadata": {
        "colab": {
          "base_uri": "https://localhost:8080/",
          "height": 35
        },
        "id": "IUtU-qG81XIt",
        "outputId": "e220311b-615a-4482-fcf3-989e2bcf0a26"
      },
      "execution_count": null,
      "outputs": [
        {
          "output_type": "execute_result",
          "data": {
            "text/plain": [
              "' Mary is friendly. '"
            ],
            "application/vnd.google.colaboratory.intrinsic+json": {
              "type": "string"
            }
          },
          "metadata": {},
          "execution_count": 46
        }
      ]
    },
    {
      "cell_type": "code",
      "source": [
        "w1.strip()"
      ],
      "metadata": {
        "colab": {
          "base_uri": "https://localhost:8080/",
          "height": 35
        },
        "id": "ZAhdPbqVKr6e",
        "outputId": "cd233fa9-fd66-4f89-da29-02e5f8e8ddf7"
      },
      "execution_count": null,
      "outputs": [
        {
          "output_type": "execute_result",
          "data": {
            "text/plain": [
              "'Mary is friendly.'"
            ],
            "application/vnd.google.colaboratory.intrinsic+json": {
              "type": "string"
            }
          },
          "metadata": {},
          "execution_count": 47
        }
      ]
    },
    {
      "cell_type": "markdown",
      "source": [
        "### **data.split()**"
      ],
      "metadata": {
        "id": "JGPdtmu8MFgv"
      }
    },
    {
      "cell_type": "code",
      "source": [
        "w1 = \"Mary is friendly.\"\n",
        "w1.split()"
      ],
      "metadata": {
        "colab": {
          "base_uri": "https://localhost:8080/"
        },
        "id": "xbF1sJB9MIpw",
        "outputId": "b9175d5c-0146-44ee-a8dc-9e11d71cdbd9"
      },
      "execution_count": null,
      "outputs": [
        {
          "output_type": "execute_result",
          "data": {
            "text/plain": [
              "['Mary', 'is', 'friendly.']"
            ]
          },
          "metadata": {},
          "execution_count": 48
        }
      ]
    },
    {
      "cell_type": "code",
      "source": [
        "w2 = \"out-of-date\"\n",
        "w2.split('-')"
      ],
      "metadata": {
        "colab": {
          "base_uri": "https://localhost:8080/"
        },
        "id": "IudKgTjkMVQP",
        "outputId": "fffcbccf-0217-466c-bcc2-d35131bd60c7"
      },
      "execution_count": null,
      "outputs": [
        {
          "output_type": "execute_result",
          "data": {
            "text/plain": [
              "['out', 'of', 'date']"
            ]
          },
          "metadata": {},
          "execution_count": 49
        }
      ]
    },
    {
      "cell_type": "code",
      "source": [
        "w1 = \"Mary\"\n",
        "w2 = \"is\"\n",
        "w3 = \"friendly\""
      ],
      "metadata": {
        "id": "tGBOKKKtLvj7"
      },
      "execution_count": null,
      "outputs": []
    },
    {
      "cell_type": "code",
      "source": [
        "wordlist = [w1, w2, w3]\n",
        "wordlist"
      ],
      "metadata": {
        "colab": {
          "base_uri": "https://localhost:8080/"
        },
        "id": "c11AXGr0V_a4",
        "outputId": "f5a0b40c-c834-4888-c9fa-b243ac79243e"
      },
      "execution_count": null,
      "outputs": [
        {
          "output_type": "execute_result",
          "data": {
            "text/plain": [
              "['Mary', 'is', 'friendly']"
            ]
          },
          "metadata": {},
          "execution_count": 51
        }
      ]
    },
    {
      "cell_type": "markdown",
      "source": [
        "### **' '.join()**"
      ],
      "metadata": {
        "id": "Mb-LFWWPWn08"
      }
    },
    {
      "cell_type": "code",
      "source": [
        "' '.join(wordlist)"
      ],
      "metadata": {
        "colab": {
          "base_uri": "https://localhost:8080/",
          "height": 35
        },
        "id": "tZA7DsPPWGmA",
        "outputId": "90221f13-9bd2-40de-da6a-de32c074fb58"
      },
      "execution_count": null,
      "outputs": [
        {
          "output_type": "execute_result",
          "data": {
            "text/plain": [
              "'Mary is friendly'"
            ],
            "application/vnd.google.colaboratory.intrinsic+json": {
              "type": "string"
            }
          },
          "metadata": {},
          "execution_count": 52
        }
      ]
    },
    {
      "cell_type": "code",
      "source": [
        "'-'.join(wordlist)"
      ],
      "metadata": {
        "colab": {
          "base_uri": "https://localhost:8080/",
          "height": 35
        },
        "id": "EjLtWSL5WdYy",
        "outputId": "4ce99690-92b2-4ac7-b8c2-ee45569c21fe"
      },
      "execution_count": null,
      "outputs": [
        {
          "output_type": "execute_result",
          "data": {
            "text/plain": [
              "'Mary-is-friendly'"
            ],
            "application/vnd.google.colaboratory.intrinsic+json": {
              "type": "string"
            }
          },
          "metadata": {},
          "execution_count": 53
        }
      ]
    },
    {
      "cell_type": "markdown",
      "source": [
        "### **data.lower(), data.upper()**"
      ],
      "metadata": {
        "id": "PgCIMbbcL29X"
      }
    },
    {
      "cell_type": "code",
      "source": [
        "w1.lower()"
      ],
      "metadata": {
        "colab": {
          "base_uri": "https://localhost:8080/",
          "height": 35
        },
        "id": "JGqTVM22MuH0",
        "outputId": "118e59a5-ab1a-4271-98b6-5e38fd509488"
      },
      "execution_count": null,
      "outputs": [
        {
          "output_type": "execute_result",
          "data": {
            "text/plain": [
              "'mary'"
            ],
            "application/vnd.google.colaboratory.intrinsic+json": {
              "type": "string"
            }
          },
          "metadata": {},
          "execution_count": 54
        }
      ]
    },
    {
      "cell_type": "code",
      "source": [
        "w1.upper()"
      ],
      "metadata": {
        "colab": {
          "base_uri": "https://localhost:8080/",
          "height": 35
        },
        "id": "fP2lBss3Myhq",
        "outputId": "7b93479c-d868-4f9d-d120-456ed03398a4"
      },
      "execution_count": null,
      "outputs": [
        {
          "output_type": "execute_result",
          "data": {
            "text/plain": [
              "'MARY'"
            ],
            "application/vnd.google.colaboratory.intrinsic+json": {
              "type": "string"
            }
          },
          "metadata": {},
          "execution_count": 55
        }
      ]
    },
    {
      "cell_type": "markdown",
      "source": [
        "string index"
      ],
      "metadata": {
        "id": "yZJk2NtCM_oz"
      }
    },
    {
      "cell_type": "code",
      "source": [
        "len(w1) #number of string"
      ],
      "metadata": {
        "colab": {
          "base_uri": "https://localhost:8080/"
        },
        "id": "HmuiXLZSNGNa",
        "outputId": "a04863f4-d425-4cca-ae44-b0b8506c2910"
      },
      "execution_count": null,
      "outputs": [
        {
          "output_type": "execute_result",
          "data": {
            "text/plain": [
              "4"
            ]
          },
          "metadata": {},
          "execution_count": 56
        }
      ]
    },
    {
      "cell_type": "code",
      "source": [
        "w1[0] #1st string"
      ],
      "metadata": {
        "colab": {
          "base_uri": "https://localhost:8080/",
          "height": 35
        },
        "id": "xiyozLYxM6xk",
        "outputId": "b87c69f9-889e-4473-b142-33ef06d35790"
      },
      "execution_count": null,
      "outputs": [
        {
          "output_type": "execute_result",
          "data": {
            "text/plain": [
              "'M'"
            ],
            "application/vnd.google.colaboratory.intrinsic+json": {
              "type": "string"
            }
          },
          "metadata": {},
          "execution_count": 57
        }
      ]
    },
    {
      "cell_type": "code",
      "source": [
        "w1[-1]"
      ],
      "metadata": {
        "colab": {
          "base_uri": "https://localhost:8080/",
          "height": 35
        },
        "id": "AY_Ii7FhNeof",
        "outputId": "4cda0399-33ee-42f3-bf12-9f6aa11cd329"
      },
      "execution_count": null,
      "outputs": [
        {
          "output_type": "execute_result",
          "data": {
            "text/plain": [
              "'y'"
            ],
            "application/vnd.google.colaboratory.intrinsic+json": {
              "type": "string"
            }
          },
          "metadata": {},
          "execution_count": 58
        }
      ]
    },
    {
      "cell_type": "code",
      "source": [
        "w1[0:]"
      ],
      "metadata": {
        "id": "vhfF3iXwNijx"
      },
      "execution_count": null,
      "outputs": []
    },
    {
      "cell_type": "code",
      "source": [
        "w1[:]"
      ],
      "metadata": {
        "id": "pW4m0FoyNlf4"
      },
      "execution_count": null,
      "outputs": []
    },
    {
      "cell_type": "code",
      "source": [
        "w1[1:3]"
      ],
      "metadata": {
        "id": "tgp9ozDdNpwd"
      },
      "execution_count": null,
      "outputs": []
    },
    {
      "cell_type": "code",
      "source": [
        "w = \"mary\"\n",
        "w[0:-1]"
      ],
      "metadata": {
        "id": "0Su3TuHfPxwh"
      },
      "execution_count": null,
      "outputs": []
    },
    {
      "cell_type": "markdown",
      "source": [
        "☺️ DIY: Convert a statement to a yes-no question (e.g., Mary is smart. Tom is smiling. Jane is late.)"
      ],
      "metadata": {
        "id": "lGVkVdCLNMz0"
      }
    },
    {
      "cell_type": "code",
      "source": [
        "w1 = \"Mary\"; w2 = \"is\"; w3 = \"friendly.\""
      ],
      "metadata": {
        "id": "nz1VNUviNXaJ"
      },
      "execution_count": null,
      "outputs": []
    }
  ]
}