{
  "nbformat": 4,
  "nbformat_minor": 0,
  "metadata": {
    "colab": {
      "provenance": [],
      "include_colab_link": true
    },
    "kernelspec": {
      "name": "python3",
      "display_name": "Python 3"
    },
    "language_info": {
      "name": "python"
    }
  },
  "cells": [
    {
      "cell_type": "markdown",
      "metadata": {
        "id": "view-in-github",
        "colab_type": "text"
      },
      "source": [
        "<a href=\"https://colab.research.google.com/github/seo03/DL23/blob/main/DL/DLW02d.ipynb\" target=\"_parent\"><img src=\"https://colab.research.google.com/assets/colab-badge.svg\" alt=\"Open In Colab\"/></a>"
      ]
    },
    {
      "cell_type": "markdown",
      "source": [
        "---\n",
        "# 📗 Topic [2]: Coding basic #2\n",
        "---\n",
        "Keywords:\n",
        "\n",
        "+ variables\n",
        "+ **operators**\n",
        "+ **data types: list and dictionary**"
      ],
      "metadata": {
        "id": "k4A5_MYHpcNQ"
      }
    },
    {
      "cell_type": "markdown",
      "source": [
        "Your github IDs [here](https://docs.google.com/spreadsheets/d/17SX51lCqOdtvC7cAGoX5tP9fKwVdGY5sRzMg2pXh9uk/edit#gid=0) - revised 0327"
      ],
      "metadata": {
        "id": "mUVgzk50XMkt"
      }
    },
    {
      "cell_type": "markdown",
      "source": [
        "## [1] Variables"
      ],
      "metadata": {
        "id": "93gQaEo1RX63"
      }
    },
    {
      "cell_type": "markdown",
      "source": [
        "+ **A variable** is a named storage location that holds a value.\n",
        "+ Variables can be used **to store values** such as numbers, strings, lists, or other data types. \n",
        "+ The value of a variable can change throughout the execution of a program. \n",
        "+ To declare a variable in Python, you need to assign a value to it using the **equal (=) sign.**"
      ],
      "metadata": {
        "id": "jJT4hD1teuJr"
      }
    },
    {
      "cell_type": "code",
      "source": [
        "x = 10\n",
        "y = \"Hello, class!\"\n",
        "z = [1, 2, 3]"
      ],
      "metadata": {
        "id": "Xes87bY2X45M"
      },
      "execution_count": 1,
      "outputs": []
    },
    {
      "cell_type": "markdown",
      "source": [
        "↗️ In the above example, 'x' is assigned the value of 10, 'y' is assigned the value of \"Hello, World!\", and 'z' is assigned the value of [1, 2, 3]."
      ],
      "metadata": {
        "id": "ulw6QsP5ZiKp"
      }
    },
    {
      "cell_type": "code",
      "source": [
        "# We can assign a link or a function\n",
        "import pandas as pd\n",
        "url = \"https://github.com/MK316/Spring2023/raw/main/data/att_sample.csv\"\n",
        "data = pd.read_csv(url)\n",
        "data"
      ],
      "metadata": {
        "id": "_7bvpJt2aQmg",
        "outputId": "5698951d-02cd-410d-ddb1-28b5b9d099f8",
        "colab": {
          "base_uri": "https://localhost:8080/",
          "height": 488
        }
      },
      "execution_count": 2,
      "outputs": [
        {
          "output_type": "execute_result",
          "data": {
            "text/plain": [
              "      Names\n",
              "0      Mary\n",
              "1      John\n",
              "2       Tim\n",
              "3       Bob\n",
              "4     Sarah\n",
              "5      Kate\n",
              "6     Marie\n",
              "7   Johnson\n",
              "8      Mike\n",
              "9     Harry\n",
              "10      Jin\n",
              "11      Sam\n",
              "12     Paul\n",
              "13  Natalie"
            ],
            "text/html": [
              "\n",
              "  <div id=\"df-0c93ac5e-38b7-42da-9105-c512906ac3eb\">\n",
              "    <div class=\"colab-df-container\">\n",
              "      <div>\n",
              "<style scoped>\n",
              "    .dataframe tbody tr th:only-of-type {\n",
              "        vertical-align: middle;\n",
              "    }\n",
              "\n",
              "    .dataframe tbody tr th {\n",
              "        vertical-align: top;\n",
              "    }\n",
              "\n",
              "    .dataframe thead th {\n",
              "        text-align: right;\n",
              "    }\n",
              "</style>\n",
              "<table border=\"1\" class=\"dataframe\">\n",
              "  <thead>\n",
              "    <tr style=\"text-align: right;\">\n",
              "      <th></th>\n",
              "      <th>Names</th>\n",
              "    </tr>\n",
              "  </thead>\n",
              "  <tbody>\n",
              "    <tr>\n",
              "      <th>0</th>\n",
              "      <td>Mary</td>\n",
              "    </tr>\n",
              "    <tr>\n",
              "      <th>1</th>\n",
              "      <td>John</td>\n",
              "    </tr>\n",
              "    <tr>\n",
              "      <th>2</th>\n",
              "      <td>Tim</td>\n",
              "    </tr>\n",
              "    <tr>\n",
              "      <th>3</th>\n",
              "      <td>Bob</td>\n",
              "    </tr>\n",
              "    <tr>\n",
              "      <th>4</th>\n",
              "      <td>Sarah</td>\n",
              "    </tr>\n",
              "    <tr>\n",
              "      <th>5</th>\n",
              "      <td>Kate</td>\n",
              "    </tr>\n",
              "    <tr>\n",
              "      <th>6</th>\n",
              "      <td>Marie</td>\n",
              "    </tr>\n",
              "    <tr>\n",
              "      <th>7</th>\n",
              "      <td>Johnson</td>\n",
              "    </tr>\n",
              "    <tr>\n",
              "      <th>8</th>\n",
              "      <td>Mike</td>\n",
              "    </tr>\n",
              "    <tr>\n",
              "      <th>9</th>\n",
              "      <td>Harry</td>\n",
              "    </tr>\n",
              "    <tr>\n",
              "      <th>10</th>\n",
              "      <td>Jin</td>\n",
              "    </tr>\n",
              "    <tr>\n",
              "      <th>11</th>\n",
              "      <td>Sam</td>\n",
              "    </tr>\n",
              "    <tr>\n",
              "      <th>12</th>\n",
              "      <td>Paul</td>\n",
              "    </tr>\n",
              "    <tr>\n",
              "      <th>13</th>\n",
              "      <td>Natalie</td>\n",
              "    </tr>\n",
              "  </tbody>\n",
              "</table>\n",
              "</div>\n",
              "      <button class=\"colab-df-convert\" onclick=\"convertToInteractive('df-0c93ac5e-38b7-42da-9105-c512906ac3eb')\"\n",
              "              title=\"Convert this dataframe to an interactive table.\"\n",
              "              style=\"display:none;\">\n",
              "        \n",
              "  <svg xmlns=\"http://www.w3.org/2000/svg\" height=\"24px\"viewBox=\"0 0 24 24\"\n",
              "       width=\"24px\">\n",
              "    <path d=\"M0 0h24v24H0V0z\" fill=\"none\"/>\n",
              "    <path d=\"M18.56 5.44l.94 2.06.94-2.06 2.06-.94-2.06-.94-.94-2.06-.94 2.06-2.06.94zm-11 1L8.5 8.5l.94-2.06 2.06-.94-2.06-.94L8.5 2.5l-.94 2.06-2.06.94zm10 10l.94 2.06.94-2.06 2.06-.94-2.06-.94-.94-2.06-.94 2.06-2.06.94z\"/><path d=\"M17.41 7.96l-1.37-1.37c-.4-.4-.92-.59-1.43-.59-.52 0-1.04.2-1.43.59L10.3 9.45l-7.72 7.72c-.78.78-.78 2.05 0 2.83L4 21.41c.39.39.9.59 1.41.59.51 0 1.02-.2 1.41-.59l7.78-7.78 2.81-2.81c.8-.78.8-2.07 0-2.86zM5.41 20L4 18.59l7.72-7.72 1.47 1.35L5.41 20z\"/>\n",
              "  </svg>\n",
              "      </button>\n",
              "      \n",
              "  <style>\n",
              "    .colab-df-container {\n",
              "      display:flex;\n",
              "      flex-wrap:wrap;\n",
              "      gap: 12px;\n",
              "    }\n",
              "\n",
              "    .colab-df-convert {\n",
              "      background-color: #E8F0FE;\n",
              "      border: none;\n",
              "      border-radius: 50%;\n",
              "      cursor: pointer;\n",
              "      display: none;\n",
              "      fill: #1967D2;\n",
              "      height: 32px;\n",
              "      padding: 0 0 0 0;\n",
              "      width: 32px;\n",
              "    }\n",
              "\n",
              "    .colab-df-convert:hover {\n",
              "      background-color: #E2EBFA;\n",
              "      box-shadow: 0px 1px 2px rgba(60, 64, 67, 0.3), 0px 1px 3px 1px rgba(60, 64, 67, 0.15);\n",
              "      fill: #174EA6;\n",
              "    }\n",
              "\n",
              "    [theme=dark] .colab-df-convert {\n",
              "      background-color: #3B4455;\n",
              "      fill: #D2E3FC;\n",
              "    }\n",
              "\n",
              "    [theme=dark] .colab-df-convert:hover {\n",
              "      background-color: #434B5C;\n",
              "      box-shadow: 0px 1px 3px 1px rgba(0, 0, 0, 0.15);\n",
              "      filter: drop-shadow(0px 1px 2px rgba(0, 0, 0, 0.3));\n",
              "      fill: #FFFFFF;\n",
              "    }\n",
              "  </style>\n",
              "\n",
              "      <script>\n",
              "        const buttonEl =\n",
              "          document.querySelector('#df-0c93ac5e-38b7-42da-9105-c512906ac3eb button.colab-df-convert');\n",
              "        buttonEl.style.display =\n",
              "          google.colab.kernel.accessAllowed ? 'block' : 'none';\n",
              "\n",
              "        async function convertToInteractive(key) {\n",
              "          const element = document.querySelector('#df-0c93ac5e-38b7-42da-9105-c512906ac3eb');\n",
              "          const dataTable =\n",
              "            await google.colab.kernel.invokeFunction('convertToInteractive',\n",
              "                                                     [key], {});\n",
              "          if (!dataTable) return;\n",
              "\n",
              "          const docLinkHtml = 'Like what you see? Visit the ' +\n",
              "            '<a target=\"_blank\" href=https://colab.research.google.com/notebooks/data_table.ipynb>data table notebook</a>'\n",
              "            + ' to learn more about interactive tables.';\n",
              "          element.innerHTML = '';\n",
              "          dataTable['output_type'] = 'display_data';\n",
              "          await google.colab.output.renderOutput(dataTable, element);\n",
              "          const docLink = document.createElement('div');\n",
              "          docLink.innerHTML = docLinkHtml;\n",
              "          element.appendChild(docLink);\n",
              "        }\n",
              "      </script>\n",
              "    </div>\n",
              "  </div>\n",
              "  "
            ]
          },
          "metadata": {},
          "execution_count": 2
        }
      ]
    },
    {
      "cell_type": "markdown",
      "source": [
        "## Commenting '#'\n",
        "\n",
        "- In Python, the # symbol is used to indicate comment lines. A comment is a line of text in a code that is ignored by the Python interpreter and is used to provide explanations or notes for the reader of the code.\n",
        "\n",
        "## Uncommenting shortcut: \n",
        "* \"Ctrl + /\" (Place the cursor on the code line and press the Control + / key.)"
      ],
      "metadata": {
        "id": "xZv9R8I8ZWvt"
      }
    },
    {
      "cell_type": "code",
      "source": [
        "# This is a comment in Python\n",
        "x = 10 # this is also a comment"
      ],
      "metadata": {
        "id": "7UJmbmmTaFx9"
      },
      "execution_count": 3,
      "outputs": []
    },
    {
      "cell_type": "code",
      "source": [
        "x1 = x * 10\n",
        "x2 = x + 5\n",
        "\n",
        "#print(x1) # Print the value of x1\n",
        "print(x1, x2) # Print the values of x1 and x2"
      ],
      "metadata": {
        "id": "Ivc72tB0X_TS",
        "outputId": "bc03aa97-dd98-41ff-ea18-08c0d0faafae",
        "colab": {
          "base_uri": "https://localhost:8080/"
        }
      },
      "execution_count": 10,
      "outputs": [
        {
          "output_type": "stream",
          "name": "stdout",
          "text": [
            "10 6\n"
          ]
        }
      ]
    },
    {
      "cell_type": "code",
      "source": [
        "print(y)\n",
        "# y1 = y + \"Welcome to the class.\"\n",
        "z1 = x1 \n",
        "\n",
        "x = \"John\"\n",
        "y = \"came in\"\n",
        "z1 = x + \"\" + y\n",
        "print(z1)"
      ],
      "metadata": {
        "id": "cxePqv-52RU0",
        "outputId": "8d9b0de4-1da6-47c3-ff14-9413fb14548c",
        "colab": {
          "base_uri": "https://localhost:8080/"
        }
      },
      "execution_count": 77,
      "outputs": [
        {
          "output_type": "stream",
          "name": "stdout",
          "text": [
            "came in\n",
            "Johncame in\n"
          ]
        }
      ]
    },
    {
      "cell_type": "markdown",
      "source": [
        "Input types:\n",
        "\n",
        "* integer: e.g., -3, 1, 0, 234, etc.\n",
        "* float: e.g., -3.0, 1.2, 0, 3.141592653589793238, etc.\n",
        "* string: (characters) \"1\", '0', \"3.29\", \"Mary\", \"euphoria\", 'My name is Jane.'\n",
        "\n",
        "_Note:_ double or single quotation marks denote **string** data. (Open and close should match.)"
      ],
      "metadata": {
        "id": "4zDbyBHbeQsq"
      }
    },
    {
      "cell_type": "code",
      "source": [
        "# DIY\n",
        "x = 1\n",
        "y = 3\n",
        "z = x + y\n",
        "print(z)\n",
        "\n",
        "x1 = \"1\"\n",
        "y1 = \"3\"\n",
        "z1 = x1 + y1\n",
        "print(z1)"
      ],
      "metadata": {
        "colab": {
          "base_uri": "https://localhost:8080/"
        },
        "id": "yzZuC29QfP3T",
        "outputId": "0b5bb552-9fe6-4fc3-94fb-12af7b3dbd92"
      },
      "execution_count": 18,
      "outputs": [
        {
          "output_type": "stream",
          "name": "stdout",
          "text": [
            "4\n",
            "13\n"
          ]
        }
      ]
    },
    {
      "cell_type": "code",
      "source": [
        "type(z)"
      ],
      "metadata": {
        "colab": {
          "base_uri": "https://localhost:8080/"
        },
        "id": "qwDb8cf5fkKi",
        "outputId": "c4280c77-739e-4073-f5f5-3d3d751e5416"
      },
      "execution_count": 7,
      "outputs": [
        {
          "output_type": "execute_result",
          "data": {
            "text/plain": [
              "int"
            ]
          },
          "metadata": {},
          "execution_count": 7
        }
      ]
    },
    {
      "cell_type": "code",
      "source": [
        "type(z1)"
      ],
      "metadata": {
        "colab": {
          "base_uri": "https://localhost:8080/"
        },
        "id": "L7sxvSaOfsOt",
        "outputId": "09c03fac-236a-4df3-941b-db543b52cd31"
      },
      "execution_count": 19,
      "outputs": [
        {
          "output_type": "execute_result",
          "data": {
            "text/plain": [
              "str"
            ]
          },
          "metadata": {},
          "execution_count": 19
        }
      ]
    },
    {
      "cell_type": "code",
      "source": [
        "print(type(z), type(z1))"
      ],
      "metadata": {
        "colab": {
          "base_uri": "https://localhost:8080/"
        },
        "id": "bbFaL_GWfwMH",
        "outputId": "5b66067f-3e16-4a26-a481-49458c1fc893"
      },
      "execution_count": 9,
      "outputs": [
        {
          "output_type": "stream",
          "name": "stdout",
          "text": [
            "<class 'int'> <class 'str'>\n"
          ]
        }
      ]
    },
    {
      "cell_type": "markdown",
      "source": [
        "## [2] Operators\n",
        "\n",
        "* Symbols that perform operations on values and variables. \n",
        "* They are used to perform arithmetic and logical operations, and they can also be used to manipulate and compare values. "
      ],
      "metadata": {
        "id": "5JgA2T2dRft5"
      }
    },
    {
      "cell_type": "markdown",
      "source": [
        "1. Arithmetic Operators: +, -, *, /, %, ** (for exponentiation)\n",
        "2. semicolon ';' - separate multiple statements (code lines) on a single line."
      ],
      "metadata": {
        "id": "NJBgu_O4bczL"
      }
    },
    {
      "cell_type": "code",
      "source": [
        "x = 2; y = 5\n",
        "\n",
        "a1 = x + y\n",
        "a2 = x - y\n",
        "a3 = x * y\n",
        "a4 = x / y\n",
        "a5 = x ** y"
      ],
      "metadata": {
        "id": "dXT3pIzobUHU"
      },
      "execution_count": 22,
      "outputs": []
    },
    {
      "cell_type": "code",
      "source": [
        "print(a1, a2, a3, a4, a5)"
      ],
      "metadata": {
        "colab": {
          "base_uri": "https://localhost:8080/"
        },
        "id": "_m3JBsOKd6Uv",
        "outputId": "6f31ccdc-5dba-4196-971d-6f556a372b79"
      },
      "execution_count": 23,
      "outputs": [
        {
          "output_type": "stream",
          "name": "stdout",
          "text": [
            "7 -3 10 0.4 32\n"
          ]
        }
      ]
    },
    {
      "cell_type": "code",
      "source": [
        "print(\"The value of a1:\", a1)"
      ],
      "metadata": {
        "colab": {
          "base_uri": "https://localhost:8080/"
        },
        "id": "5kq7I3nMd0Xi",
        "outputId": "cc831896-a63c-4f07-ce8b-0d98b6c300f2"
      },
      "execution_count": 24,
      "outputs": [
        {
          "output_type": "stream",
          "name": "stdout",
          "text": [
            "The value of a1: 7\n"
          ]
        }
      ]
    },
    {
      "cell_type": "markdown",
      "source": [
        "# 🌱 Define a function\n",
        "\n",
        "Demo 🔢 Calculator"
      ],
      "metadata": {
        "id": "Cx1NyWUAybc8"
      }
    },
    {
      "cell_type": "code",
      "source": [
        "# This function adds two numbers\n",
        "def add(x, y):\n",
        "    return x + y\n",
        "\n",
        "# This function subtracts two numbers\n",
        "def subtract(x, y):\n",
        "    return x - y\n",
        "\n",
        "# This function multiplies two numbers\n",
        "def multiply(x, y):\n",
        "    return x * y\n",
        "\n",
        "# This function divides two numbers\n",
        "def divide(x, y):\n",
        "    return x / y\n"
      ],
      "metadata": {
        "id": "Dod3_zgYdsWe"
      },
      "execution_count": 48,
      "outputs": []
    },
    {
      "cell_type": "code",
      "source": [
        "# DIY: define a function names switch(x, y), where the input x, y changes its position in the output.\n",
        "\n",
        "def switch(x,y):\n",
        "  return print(y,x)"
      ],
      "metadata": {
        "id": "W9CuAaqXgwb5"
      },
      "execution_count": 51,
      "outputs": []
    },
    {
      "cell_type": "code",
      "source": [
        "switch(\"It\", \"is\")"
      ],
      "metadata": {
        "id": "E2hVkO5oaS-o",
        "outputId": "d4e91c51-3a9a-4a83-9b5e-0c94179183c0",
        "colab": {
          "base_uri": "https://localhost:8080/"
        }
      },
      "execution_count": 52,
      "outputs": [
        {
          "output_type": "stream",
          "name": "stdout",
          "text": [
            "is It\n"
          ]
        }
      ]
    },
    {
      "cell_type": "code",
      "source": [
        "add(1200,34)"
      ],
      "metadata": {
        "id": "br8NXBwtMpMI",
        "outputId": "3cbbe9b2-7cf7-4952-d935-f874938d050b",
        "colab": {
          "base_uri": "https://localhost:8080/"
        }
      },
      "execution_count": 34,
      "outputs": [
        {
          "output_type": "execute_result",
          "data": {
            "text/plain": [
              "1234"
            ]
          },
          "metadata": {},
          "execution_count": 34
        }
      ]
    },
    {
      "cell_type": "code",
      "source": [
        "# Test\n",
        "\n",
        "add(2,3)\n",
        "subtract(3,2)\n",
        "multiply(2,3)\n",
        "divide(3,2)"
      ],
      "metadata": {
        "id": "IoHh-U2GBsqH",
        "outputId": "d8ff4fc1-69cf-4d5a-d7e0-6275a3509dc7",
        "colab": {
          "base_uri": "https://localhost:8080/"
        }
      },
      "execution_count": 35,
      "outputs": [
        {
          "output_type": "execute_result",
          "data": {
            "text/plain": [
              "1.5"
            ]
          },
          "metadata": {},
          "execution_count": 35
        }
      ]
    },
    {
      "cell_type": "markdown",
      "source": [
        "## Using dropbox format"
      ],
      "metadata": {
        "id": "eOluPoNqCCE1"
      }
    },
    {
      "cell_type": "code",
      "source": [
        "#@markdown 🔄 Making functions: tts('text')\n",
        "%%capture\n",
        "!pip install gTTS\n",
        "from gtts import gTTS\n",
        "from IPython.display import Audio\n",
        "\n",
        "def tts(text):\n",
        "  text_to_say = text\n",
        "\n",
        "  gtts_object = gTTS(text = text_to_say,\n",
        "                     lang = \"en\", tld = \"us\",\n",
        "                    slow = True)\n",
        "  \n",
        "  gtts_object.save(\"E-audio.mp3\")\n",
        "  return Audio(\"E-audio.mp3\")"
      ],
      "metadata": {
        "id": "nRtyN0p6NoKA"
      },
      "execution_count": 53,
      "outputs": []
    },
    {
      "cell_type": "code",
      "source": [
        "func = \"multiply\" #@param = [\"add\",\"subtract\",\"multiply\",\"divide\"]\n",
        "digits = input(\"Type two numbers: (e.g., 3,4)\")\n",
        "digitsplit = digits.split(',')\n",
        "d1 = int(digitsplit[0])\n",
        "d2 = int(digitsplit[1])\n",
        "\n",
        "if func == \"add\":\n",
        "  result = add(d1,d2)\n",
        "  text = \"The addition of %d and %d equals %d.\"%(d1,d2,result)\n",
        "elif func == \"subtract\":\n",
        "  result = subtract(d1,d2)\n",
        "  text = \"If you subtract %d from %d, you get %d.\"%(d2,d1,result)\n",
        "elif func == \"divide\":\n",
        "  result = divide(d1,d2)\n",
        "  text = \"When you divide %d by %d, you get %d.\"%(d1,d2,result)\n",
        "elif func == \"multiply\":\n",
        "  result = multiply(d1,d2)\n",
        "  text = \"%d multiplied by %d is %d.\"%(d1,d2,result)\n",
        "\n",
        "print(text)\n",
        "tts(text)\n",
        "Audio(\"E-audio.mp3\", autoplay = True)"
      ],
      "metadata": {
        "cellView": "form",
        "id": "FT47bY6qBo3k",
        "outputId": "6f600677-2fe0-46cd-b3d0-116c00555174",
        "colab": {
          "base_uri": "https://localhost:8080/",
          "height": 111
        }
      },
      "execution_count": 60,
      "outputs": [
        {
          "output_type": "stream",
          "name": "stdout",
          "text": [
            "Type two numbers: (e.g., 3,4)60,24\n",
            "60 multiplied by 24 is 1440.\n"
          ]
        },
        {
          "output_type": "execute_result",
          "data": {
            "text/plain": [
              "<IPython.lib.display.Audio object>"
            ],
            "text/html": [
              "\n",
              "                <audio  controls=\"controls\" autoplay=\"autoplay\">\n",
              "                    <source src=\"data:audio/mpeg;base64,//NExAAAAANIAUAAAMWWT4K0SWbouOXl83Ikc4ph9H/3dT/znoRjG/f4hY6iH8/4cadTv/9vzu4ckAcWP//v/1MLiBJDuQgn////29xQPiYuP7sOGuoKQcz0dloyRPum//NExFMSGypoAZIoAJrqQW9lILqtk9TvYyq+/4onqtPMieKZtZb2fX7HKqup1Pe++Kuv39/D2OWvc2FSYrdcw9fqGSzdnDZY4iVPK2IJqGl0mqXGiRyCWbqcon0Cs9sq//NExF0hsyJ4Ac1YAIkAPCMbjvzMgCstH+EyALJBPBIAPVHeak8gi0wHQTxsNQQyHIMlEwmIMgSJ/5vrSsfGO//N/kF7MP9n/lGyL2Zm8zPzeZmd+Z2s92N3r+5O7mTe//NExCkZkyKMADhYvNu8vpf1mP9atqXx6KG/zGz2sRdVh+vb246urnE87UvhG+PbZe1l8riGc3G5gdnywsrjtwZFQ9SNUMxkoYhqBT/9n+bXnf//80cGKlBUX/0///+P//NExBUXax6UAChWvJrnv5iermZezczp8976+kalS2W/iFH1ayp9U3lBt8pW97rOtcaJEk0JDiSmeH/o+kTzMgUTVQnk8hqNQNhgmRGHx2h/N0ZHYaUf////m+X/+/5///NExAoTwx6gAAhQvK/7JV//z//zP///71L78dV3fNPP3uNtERE0Y1uH5v77fcgsoYrux98vQdipB4Tg2MBs2Hg0ORBEIIRIDQTArBIOgbjhRAf9a/LKf//+eGXf//zP//NExA4VqyKgAAhWvB/+f///6+///rr2zvfP9//W7o0s6Y60zL1XNTqlKYu46gYstLauU5PldYrMB3k5xkQD1iQPjD54vpcwHwlglmw2gnCcfSQSjtID////7///7Lyn//NExAoU4yKoABBWvPv/iP/6n////iuGRP/M/Vcx13VcM5e2ptirfbuYfe+XRcS7XOVR72nqeflyBLSLEy0nrnHONx3mKDCcQctIMhCcP46ATYMhSIWKxT/CIFsJYrFH//NExAkTUwK0AHhEuX7UWxGZ/ICGPxg//9mNAKAjYplf6NzmORnbp72/7+8t2Y5HVv/5lau2pZikU17y1tpWolMKVyy1KGFKQ6KM4CgVgaHu6qmu/jhA4+CBcKSAnKQl//NExA4Usca0AMLQlAswfP3C0o79xEN14+VDc5P6rDSmdAJByHZyXIwXFz7pSmRK2JsOA/PQgRxRPuef/uK///59+YKNPUEGT4tD8n////rZol+5dBKxP50vbCzg8u2s//NExA4VKcq8AJNSlJEbRzvqMiSOm76lmpTTT50zS6iFQJAuAgFk786xdZBP+MdUYYgWeeFe1Lfv35l172q//n8zPOEarI6qBHLSgOg2NR////9dt2NwycFxkVNXdZYB//NExAwSEc64AJtWlbwy/pF4df5s3dEumXzEukx/qjtMSQBYDFXLUVCUPnMQeMRBkxjra1tV/7af/81f/tbbIrVOwbv5XVfIrtVh9/2wGWA8AAIuKNjQH5uDqbnL6t86//NExBYSOdKgAU84AM1x5prdnHRq3Y5WfaNgfCkSR6Iw+RHQellYbKPDwLQlR/O+tH//5pqbmmjpFv/////8OgMWFBa3GwjSx+RFlHkIQMbqlUx5OFTlfTQrVMaOYZbI//NExCAZKk5cAZpAAGvLVEXcDps222D65XkXPl8kbAhAqH8T2p75/SmTU1jav14rp3VflVUZ//1789WiER/////f/+ZihkIjz7+rZez8MhghTTcxASEy6INC31h7XQWm//NExA4UgmagAYhoAGZdMvmZuPMvDCiGHZ95DHownYVADYA2w5n5ot6ckTUwRQS/p/ZT6S1///t67pf/79BkOs4ZJmhgbni61v+n+KPIhdYSEPLqTUwqAQUuraTexrR6//NExA8TIx6wAcMQAK9SzbsIElRgQEeo5u6p+/7f6/9Ebp/87yKwvvez8hX151crOx9TEo385GkShjiwghTnF1HnIzQOADC3iA51IX///z/6/y0HOpSec8v81r///9zV//NExBUVSyKoAAhQvEf/e31d9Vz1f9TqsfDuz7vKtjIuoKPZRnL3LwrvKJsaWcPFjg8CgeDQ7DssVD8RBFMDkOhwNwDOLk6AvDRIfE2qD///////9L/////////9Goqr//NExBIRyyKwAAhOvHOTTsvVLKepmk3MMRHQoamaY6kTjR4oYqFzkQoKwdRIDwfBGFxriWJALAOBaJZo64kDokDj1S////////////Px8Tf/3G81FzEXzcpM/M7SjIxp//NExB0QKx6wAAgQvCrtd4yWhhghjFQOxQcMYHQ6aiyR1C1ByaMHGGiAHwdig8eLKgDHf///////////h////////+//4vqLhrX1pYhmlYtflef2lRVVg5ka5Fatmpmh//NExC8SUxqYAChQvZsoWNoOg+sORFFmJ2FhaQUhDYtcWHINRxTCqgVQwTrp97dX/////ruzL+u/z+t/v9m/sXs9aVbd31R7olHOkinM6PmbKVil7mfYyZk6FCsilJIY//NExDgQUxJsAU0QAMZjzOFUSYyAQqoCGAVhzQyNQ6+Im/i4ri+v2fS+hX/6yr7NWqp1w+7af3vPkCT3nLQ7r+HGjHJNobz47C4byWaTsp7372vVzQ8hCpomfIcnlQZC//NExEkheyqEAYhYAJnr5d3FV7FDhxNM4fk6orZDrAOyIsaGJWCYkTAT42T1N/z/pqtqETRQ/KcZd5PUPGI/k9pKQBEHYCWCGP84eVMBLBdBOxKygmTC4Ym//////9Ue//NExBYRgO6wAc0QAdDtGf/+gBmFNn02+/39qzq6EBWrmaU0pvIaOXR1fb9BvNv+z8F3fV837Beu/rN+xf5jqZKgR4ErucprMVuLHS4l3EAz4Dv6v9f3/mL/kRzYFnxD//NExCMPwbqoAMlQlAAbR40R1lVHArDZtcIsX8v/7tP/dMqWImmn/5TLuNaUtSBad+sdUrljpWHbzo4gGPHyn0+Y/2+i/+NNrgwFASBEPgUQRTrYgOBBEKIl0f5e6v/S//NExDcSObqoANHQlP3SSmj4MNiHD3/zZP/+tP6K1MOc7eEM4HKhvlSdEZ4ZlCrzwHAFugFbkb7/X1v/9upFyq0DsAGEwKTdiBjJYww8dcW9rX/r981+moqS44ertv/k//NExEEReb6sAMlQlL///ppT3zKy1sQNyYPVqt3YuMRwqpGtxjXfQRbQLi2+z//xt3sT//sMxA0OE+XkWG2XMIgIlJeKJEtktR5/gBICe1utrv////+S5ndmCVCZmsh3//NExE4RQT6oANTMcIlQrNNtwOW4OUCM50TKGXVM7t+z/4VH6sX7j6S3ZZNMjLiTTiWNBRKmY6AYdZdy5FPJeevxLv/0Lc/+GoAfqGV5AAZnSgyRCUmA6SQMKRpcXpvJ//NExFwRQR6YANZMcPdEYBSqm3Yi4xfaCdaE5iHeRRLYmplkW302t9kCrPpRWOTXURPXEYmvYJMrIqgxH/mXlGgRW3Uco5cBaxIB0gjASONZg594hdFAsH2LbnRXB3bk//NExGoSgSaEAOPScGkLSQAj4slrC/Ii7KIAVrUSrXGAvCx+4RBmaYVaqgrZP/9Wqouqf/Wqemcvx0wEtE91p7CS6ZiFwaWAOzJIwSihiM/bAUDJrEgJjd8NwD5NvVMG//NExHMSCYKAAOSKlAud/1d/+kP+oDtxB9AEFuIrlCZM7/9+qSKgKiTe/9PPD5WQCTjBU+mmlrzJGOt0kESpRCMggOIjEEoETRHV/TxxN8DXjkrkwVScxrjll1w2z6/O//NExH0SOYKEANvKlKWVlGxaQaXAspKOn+XPwfiB0EIg7jlMiNlOGjnboWyZVKco6abzUIbpX3NxB+M6xUJA2UjtRoE0gwBv+4uIv/L/gvf/qhz//Fugu2pOrdG7OmEk//NExIcSAKKgANZwTDuogyVRrGFGaNDg5wOfp866iFHH/2QRi/YhJxUw1jHKIlT7mxqtYS7GiK9xmJnOhzc1dHBQOit/LGmZlY79Wx3/+5n/qz9erevt0Po5VoKKepUP//NExJIUcY6sAM5KlDO2UKC5U77fqHoVpP3kOFWEsz8WX0HlpscxEU4EYpjXSNOxUD+TTWjJqBVkKohCAGHNphutN09/9VidNT//2iIyCBEzWphkRGnmOhvt0KmV7384//NExJMSkY60AMZElGRcF+LkuYUZ8gsJXtSkZIHmIEvR5IYb2g2XSlmAxyGES7OU2bPfxyl3P/7n//7J1b///+VKzBXSJjND4cznLFwu31pVlPdXWwEcmrSedeGTA8Qy//NExJsRIKa0AMYyTM3SqPGTCApo+FAvsxik4qAhCimnrRnTAk2tTU+cKgpLAfM7//2GRKIyZsWwibC5BHoGIbZYKMMmVZj95TIgvlcH2ZS3Q2RgjyP1JXFQBqCoKLN///NExKkRkV6sAM5ElFRYQThBb30sRf1/b//urYwr8VrM/+u8SA4PUUkIlAQbaq7iRps1YNFAoqmfcY8IrTkUeWfyqmAApwAOiPnUjyHEhmnRIKZpUKHSJdz/N1aWfeoA//NExLUR0IqkAMayTFLNr///50KwaJuBo8gGh5C3Cq4dcxLf///01YIhzPixjAZzsJyIREr6qBhQBizxjwDtzEBqap6loXy3lZZEoNB4HE8k8qp8ke96//9R7/DQaLHq//NExMAQ6JKkAM5yTM6Crqj12R/s//IqMUATArsWRxHJhh0YMfmxBYWBRJlQ5iQK+IOWV5NNmIRZAVDyNzFylGU0jy8wXHe4ZNw+mqVTEWWqcNy5GU2sNDjlDzNhgfg0//NExM8QyIKYAM7wSKiEWunedqXs4QVtRsGh2LTNYY9V606KiVtc913ErrIudTTWJp+y3TV/Z3hEubq/UrM1HUmbPhI2cqjXw2XVNVLXMz/3CDpZdulx4hUsaMavV/fV//NExN4QmIKEAVowAHH3S756j/PNcYGSF/ZsauPEOQZ4qn/a48i5FxQcOd/5si50xZvky2fzzulCJZE8m8Js+/v97Ieyns65Nz7lly////+2VbKtjbqZPk0B2Bsmj+aB//NExO4k2yJMAZtYAeDqhR/////xUxLVGtuZifD+ZggEtzLYZOJhDvN1Yykf2zAQbKWhmu3T9S9ev/cMwUEjsrZTkzL+vcKnm17jf/r/ft222vLN/9XVZP/M/+QT3M32//NExK0doyqQAYxYAKQuM9u26zypTbgWtCuTXFGKL07BM45npi0oySP5siaJcKiz16EJl8JWZpZBcWkKaK5JPmQs4w1OT1DaHBhV1b3XY0amJQP3UWDMIy+cvs06Gn6C//NExIkc8w6kAcNIARhHFbh+lTCcO03Bgdyccd/XERH901tv+8GgYVIbt7/m0ZnQCmcMatazGMq3o5RJVARJYShoGg4KHoK8q7qLIYGtZ0eFA6rmWrzWjqJajQu4Aczr//NExGgWmh6kAMIEmHErmJrYBTGpxeUIJy/aastjrhtnabGXYYY1F3pVGDkN03j/nNkWs8F0wRH94d763fO7apTWNaxvO738tvSHs+8eYQp0m0LwyDqV+QMNRaTe75Jm//NExGAWqS6gAM4ecFsacACON0p93rCo4FqSCh6vcHgaez5hyagUJueMCMYCteviQCeBGi5M1HOpEWPIeoLrBkwJHgEGjwbkqt9tH/0qxvSlF85KBFUvsBQy/DCFBwoW//NExFgRWK6oAMZeTATm/PR9WCH+taZk06Ux5+hsj8bqrVqlC9JLAjuI+lYteE+Aq3rOz25DSp0seI/+or/ytQxPBgSFxIYVTlmEHCgYFhAoYyTIWz6HIwkCR1CAGs9K//NExGURGKaIANZeTMWelOVfCmylNLYJIOR2mtL/6J1FvrF5K6v/er////+n9KoPKSuOApXp9AtCXnNNq2ZBUDD0l+9bstonSQLiBJHBNUFY5DSaFYfyXGStlp0UzSss//NExHMQSJ5MAVtYACgaDYMItLUzL1RMBgEzY0LPZVC6FNiTRMBh1mhd7VKqOprTdNNzMkSWJVMpHTImHvtq7zd0K96iYkZHDNzM/Lx1L//1rppp2pumptE0OmhsYWMT//NExIQiGypQAZloAAKi8bI1EAZf5LIPNolHxWQN4lGdIL+ziTkiUOLv6CLCfM5mhRDiEZcCJebuLrB+PUonbYUAYfbCK6z7kFDOhUorJxPf7F/buoAFSgiippjLqwOV//NExE4RgPqEAckYAKCl7ZkNkgkKeIF5xzcXi3IHAdohBMY8ClBMs8pbxOB0uLkwVf25Bq99ZwtjGpEIXyrRSoWbvXT6enIa1SExMEzgMEZZlhHQKAJNxWEhZf2JuJvf//NExFsQ0J6YAEGGTIM7ckrautgZga5HI30YjCDnilOrIPSqK6SQ9EFyq2KCOSGngEy7qpZW4VA6skmSvw/4iLhocFBZUYBkEbEKUERjkhtkiRL3lJxtJoK2AYY5B8Ce//NExGoRQM6YAEmEcADoGKWjDrPF9nmjJO1v/////+yBTqJM/zn6k+xZjuVY/0rlmnBgBSnk0gycgwhaCZBtSp7gw0QkoUKGSBLUcMwRBvJei4oDEYYU8biA6DiOREox//NExHgRqVKMANNElHqevYAYPlDhR19//lHFA3Yj/hi/6Zqd0OIJlaxEIUoIYl5V2Dk3qQksgNfluJ3uvyVXUbnmrMYJvOrIGyrDPLlMPJh+fO/hv/w5325+nTRtG74Q//NExIQRgJaUAM6wTKEjNtvfYsekM+Y3CRka+uKFu54JQZ/HEpXslsOiZEdoIDQs+UDA0KlsrCo6SMVlax5N2YkPP/v/Ux9CPro3Xtp+hHxil2XL3D+LKGgAzZcpuZ4I//NExJERuU6oAMYElCZVlu4WCZYvQnXaxeooFAVlY43WxaEfXJpL5cf9MJXpZ4tmjv+2J5P5Pd+7Z/wSYTn4vQbRqmWYZttX16fr05OLZstt1rGVCMpgX6BQ297ppBX7//NExJ0RsUqwAMZElIpQzamgslujTGEJ6T0n6wlOqlzZGy2xHhYTzDKDXHCTYfGZrKBdU7H8w1L3bT0z62QMwWDNn/X1w6r+L0W/u+hA+d6JkTp+u6KtfzCl1S3SkcpF//NExKkR+bqsAMYElHBzLSb2aCKpjLYVqtbKCRWJUSTiAhWHj4lwwmW6R7fnmRvoZkkDYMTt/p9fCVTN2pXedAIWNpnHQhE5cfFPO3VJBuvbbIFEPlk0lxr1dnraVN3u//NExLQSqR6wAMYgcP4qfocuZocrH8DtBcOSoeTdY5d2/2hvLVHLK6auj9Zxn+iz9VnqqbN+yIQow9vAY85WwAxJyaHBrWfyFP+PMpNshvcoWA2O6l2HGleSyo5kkzUq//NExLwRkRqsAMYacIAxwugB1Xzx7TNVzMD/43ksuvxs3ND2vp+0t/R+tbNybGJWt0lGJYPLQkgwkTCICGfsZhyDRk6uZ3J7Kt6ZfqzhJcbP4/JFby4RzDMZDKMUkIPC//NExMgSMSKsAMYYcAZVQIfCe1dsxqulZUM3r6d1DqPVbSqPXpUGADzbS1NweEJAOkIFAHm5pIYQdU0UYLdNRDteVQuHguN+w+oKH9LXA2koYjmgRBZYciZ2K7hu6Xhs//NExNISYSaoAMYYcLgPrnUI++1cdUPHkBgkYDWGFmI6BmECZQgCiCZOhGipxpJgLDriOEpk0GXUrSXl3S1rVxrTpy+LY3Be7/1WDWz6urS1tdsFuWGbwoz3W4NrW3q7//NExNsSmSKgAM4ScAvfCnYXtSSytS3bankhKQ8SqiUKH3cKD5giADQQ5AXMXSgEVGClrkGIAAUASYUa+UCDJgwYdQ0thenAEg2G1edJZvZuDg0Hcds47zdd7349Fh0n//NExOMRaTacAMvQcETxuNz9E9+WmxmOw2M//83thPcwnpDqPmA/EObf/FVa7Cfebvp4/GaRcZrl5sb////zN81fx73G72JttOdf/o6BPzs+4JUaFHvLiIOapEgkNEPE//NExPAWyTZ4AVt4AAGDHxn1BlRg4JRwHirDUw30frFARRKSicibQwtBJKCtOR4H3bCRBjvcHkwLicSULuZ83OYioqQTj0tSjnqDVyaxqYGpqaoNNYf//2xtKDtUPOYe//NExOchqnZ0AZtYAG6Kjuv+P4g9ut0udEc37fn4////3P3xLn3NyxfahdYlMEBUKAgCiQZnx2c2rYBgNMWEExGKGDhYBGCQkECJWaG4CV9UmYNfV/YzGeSqXCTCSQES//NExLMgAqqEAZpYAK0FokklVa+SbM+jqOBRsz/VHS5rioNPCgVEwNQMLg1kV7tT8pX0m1bq0V93u9mlJTurGYIAxmlnHCTUFwSCAAKQEihGhq3EW01VV1S7aqzaEoKE//NExIYYcQJMAdwwAMLiA+0Dw0QAq86tyFsuWTSxKQ+LU31BmxCGC6NM+3sd66m0LfepTUsp9z82pTVRjZlWBtDgZ1VpIDn33hax3hz+/+Hf/d4xNRABT5GWOmlyhcko//NExHcUIFpAAOYeJLB4mtaGVbkPpcHdYlAuhVin7qH/TpsF9FD9ctn+pUupaChiATNRo6KmoNsHVjOKSBCO/yIThs6qUDe6DwMQSBZABiwNb0Fm5PgbEqF0ws2RD6Ro//NExHkQ4GpAAVoQAFxFMXMQVIS8c79N2oXGUIGNMvo/2TdPYcJscIMTjGH/ZdO7ZioqmSh0DrHMM//+pkPzBNA4UyZK5FDly9//+2mpkFu/oGZ1BSyeNTxKl4rAKq9L//NExIghWyJoAZugAaHCFvvzDpKOj4qVdpVXMUha0QT0FyCZJfJhug5qUNqztzaZaQAPBJFiOUsABQKWZwRwh0Zx81JIl8U1n4/zj7zDvJb7fPcx9g+lv/UfVTaoJZRM//NExFUT6RakAdl4AEGkprJkCBrPvZLze1+nZNWR58hgEEDU/cepGCvzEvrNK4/h1kUqY44STxqMc99uGPh/v2rbXf38usao/y4+rf/en/+SNcI4VGhFRMzFAnCsGxQi//NExFgSQRasAJYecKXTy52hBMNDUsSWUnle6mVlZrPg+eMkxdwYiSJNPM/MZ/g9FBTEC3w3a+prY7dT4XWviBV1dXJ/SXUqmu7JYQLjkVEpZclrdg9eUrEgkxrV5AVG//NExGISSSKsAJZecG3g6TH/rR6Z7yVSe+VR+kRryTYP4kPi0lhMBgn0qT6kTqbElaToqfDgeW823N7y9r/y9YJwxJXCR9bKqQcSIOI1kKhyLmhAiHIykIJOjQdSRAn0//NExGsSmRaoAMYScHfdP9qu/yXtCS14jJNvIRPJkh3xSb9KqZCTcFsou+lN33//////qW0mowOEgWCoocJS5uErgr6BI4D+wUZIplg6qQ0q5SNtT///tLildmmFAhwT//NExHMRsTKkAMUScAr8K23YaogqqDt/+JTrjq+7/6pb//96BUIgVUrGCiMg4dAVmaAphjGhGhAgKRqLrC3klbm17Co+u9xvWPn7/3+0t9KlKgkZQFHG5eVDZRIpUYFV//NExH8RoS6UANTGcPRciVEpU6RaqHU1f2c7//9SMZ2GWG4S6XceZ0Zqci0/Zwzz/Vyk5vLDDaV3938ipxELDuZ72P7uaJ7u83eclc57uHcTh+CBmkuD5tQJ0y7q7ou///NExIsSKSZkAMvKcP0VAaFYTlTB6bW5lSZAnCM6q4Mq/oku0ZWKpCrk5zQurETSJffPMgkjNm4saQMbDGI2IBglJy9uD5OwwQwXnPamZZSiolJBQFHUIZD3jVbl3za5//NExJUQ2VZcAVgYAEYPEZd6AgLEZGTzR1X/////7EJ19nOGZNtqDjyVS/+f/P7//3/+/7rIfd3+/8jVVP+e9gOVCMXOezGny9lJN/2V7n/38/NOhRYTzyukQngL+Q+w//NExKQhUyJ4AY9IAQJubv4cpZLQ7NAhgufB6HniMVPGhhooo+hdhdQt/747pb7Ry59CAQWkj+KKEMxDMnLNjN0Zx6+7+nhRBhhZWw+pRmK3uQPXFIMWdmWyxCD4oGxQ//NExHEQ6XaUAccYAARgNlh4jGDQ4pDRAZLkBPq9Qgfd/08ujiqLjhToCIxr+YiCDBzQ5f55ziBBgN+Yhw5slqRRk8jsMjH1q3vJSQFQSNiQ6Hhq3A0F3DmPPDNLWNeZ//NExIASgSaoAEBMcLXRj1Yrp/7PcvRqNKeNjTESWO0u5IqFy1MjebupsMJGDB8uJQJcsh0tjp2Slb8rxuOeAiUNl1YsU1KN5XQVCoVi9ZAcbSEx5s09eGvnrb1af+x3//NExIkRePqsAEDMcHtSl3eZqhyUNuqTxEwVHTq/5PyYrzlc4bJAOgRKQblwcWB54RR6FiHXJ6ykk8ZONm8qcqpZ9Z8b6ck1ZkXOyRUtAzSzIVrchPqQ4t0f/9v3etW///NExJYSgU6gADpGlAbL6zEDJzP+0aOcyUqnKgg0EAhTPoQas7tDkXHbjcabhMy6gn9Un51aLAkF7sK1V+MoZiLRRB29a+un3Pxv//////9K1Z3+UKsxh5PGFQU7MVbI//NExJ8SkSqQAEsMcCManASUYzADQp6MgnOJc2ivtGioDMCELju1ZpnRadq1l8bvf/9nP//qd/5xXhH6CP/X1fyeQiqsGPqVoMuZRk242c0tyJDAp/bL9gbDAqtkb7qw//NExKcRUNKEAM4GcIsvSQ6kDSElNetDaAcuWrHKLIkRiLCYP0MvKLvx99Fb/oTjQOL4Qx/wiMlLX7W7/4RMEIkw9jPspMO2f/eShpiNI539ig0SKDOM9HAkwVMoHhNM//NExLQSEYaIAOaElN2X47EUw4zB5K+uclnOoP1ERf1fxTw+2pUTlI/UUPER/bv3VOpV/mqsSAjCLVWtTJoHJA817PSqhmHIt6zelC3DH/fGE63/ticqW8x7B6RL8Se9//NExL4RYUagAM5KcXVV54gYoXEpeVF3Ug/Qn0NDPoW8cvqS5D+nFalvCfdQ2/AFIme2jODPSEzF6x2gjh/BvKhm1DJ6eNv8p1U/43Bp/ZcobNt7CkZ1aJUBAQEvICP+//NExMsSkXqwAM4KlMb7D/Z1XKAS1uUsNevUkFJm3BW0A+ZhgWt8ZAQEGAwaNBHQHgOQnCoE8A/N7PPIeDx48eM8e97+L/QmeJgRg/Fz3c8XBuAoAIFBFl4ma/S7/Qfc//NExNMSAXqwAM4OlCIQgPg+H66YPggGAfB8Pe/ydNXUozjimZjiwPCajqaw6aHFExp5QTAUajUIcSeTrjK7i1rlnfb+IFa698W+94y93bFsxavYL6Gytaou3MbeLAw5//NExN4ReUqkAMvGlGJxpqePHUuaQG+SHq1os/1WsPFrWktn+8bcHNocKE9rWb1UHbk7VBlh7//Z67RR64//zSNhyAcmhSZwMcB7Zh1Ws0gHazVFHUgjrTPo6av+ySv///NExOsVyUaQANvQcP/9VCrNIrAgKFQaDMWMaRSbSVWe9d7OeEsqvHbvx26uTlqEYha6j/HlXf///nB6mMaBjJmUokhh5pIgLHBzAp1JZQyhxxDqALq/QS9XbRjdv/////NExOYcAcaYANvelKqplksBiiMWJRdLFzhQs0RxOLElrSlc1U/EVyk3OaiG3/9Riz/+//UgpVWaq0zKAFWL9p0pDJqgygTaBbHyA2xBllAtI1k2qszUjUyX3UfCP9f///NExMkUaaagANNSlP/9Q+TkumRmi4eiGATMiIiixRDtRka1oVASRehRpiioa/Kf///u/6Wra4IFg4hgCJiAQdNoHCqDACkGaNFEYT7TNTumasmsyf/a9fxlZ4PQcy2T//NExMoTmaacANCQlBppaKkUSJrZlUQCyLAQ8ty2fljYlDX//////6V0rVQLmEhS+UOsoC/bk3goDCKtbbKdZlmLHPwrDAm2W6J9XSHm0ULk6EIy/bZVM8PZ9Fy6wuaE//NExM4T8T6UANyScAJQ4pzCy1wyMMwTcoy4+QPlK1JpcuGOPYXfW01XIWaFARi4O/NRjhFrJlE8yigNHisS8DNTPEsxJhg0svQyhOmGLNVh3zX/Sv+jKGrf9zt+N6i2//NExNERsR6QANQMcJf+3+xjT3n//8cMyWN5f+s0dG2YdfIH1+vV4HvX/dTv5zpSNKGXOPHDGewN9dq5FhLmZZYOWI5cp42JZc6MOsFjRyl6TR4OGDAdWhyXOY87V8y6//NExN0VoTaUAMFMcOVKmmMNHhIqRFVMkSIJQazPbd1PZG8y8s2fuZl/kTUEHSI1KM1ZTZXcMFBX22jB0ljhBbAsWdRPWfwjegnRr43dUeEX8cunw5F9DpZLyyHlPPn5//NExNkSQOKUAEBGcR/fQ8yN86ZpmSoij/RdVNR1Foaevde/39KOZ3ep2M6qirJnR0nJRSBhymc6lkfWC3czUFHYvPMAmhNu5Uyjvi0zIufCvSnMk6fXy81Mr3zfKeff//NExOMSeUqIAEDGlLnl05OoStDczfdGf2YzHC6ISgVGfemq/V+dLEYp3IIRDgYvoqbyDZujnR1hXf3P/RCQ7HS7OVOER9aaEZbvw8EhR+NCI9saOADqgw961DUIccsn//NExOwVmv58ADjGuROI3AZZEWSK3oqQ0mc2Fxm14YuSUqXi7TCNPuG3Lh/LcolK740BhyAqTgQx4MLImpGgGFCgMvYfUGoNDlRYVkD5oOrzzVPbpdYsRJwnbtgqiL/r//NExOgU2wKAADlGuZLLbNEWUPuDlFV+JPLpeFBM2BMXreWFYkBfE2klZqw1/E3jLg1XOitswA88IsSHqXP02MiAskl0qppK5Fju603P5f2rb7+sv/Q+Gr/TT2cIDDgQ//NExOcSocKQAFCGlDEAYsylETXQrEDgYcQBhEzrgKPFgeBIFGG/////b+tS7Sb7OmEpKu2Sy52jBEE5cHDAek1PElAYQ0/JVE1twowPAU9R9muz/fxqzuf/9zPv/vDP//NExO8UiJKUAMYSTP6N6f83QMKHACZmvtu5UPOGCymeKGkgeqtFng/4QOgZ3byRQ0Qh5xQcNM8Un4wmkb9yHBJJDaSpiDJ1hi9K+XbuW//Kaz3+u67//vD+gv9/n9BR//NExO8aKYaIAN6GlIaBWDov5X7GbKxiRQ4nPxbFsO/////+XoqM41JscADEFoDJzqXoSBRM2GmIkN+4CVRNFk5jBJmCIivgtwEjjzFC9RbdzqLLcrl9BPfnXt67+ee6//NExNkSoXqYAN5ElN3PLkbt2O5MJuRaox/+ytqV3cogbjagCTYGX0f////yWmq7jhKxgQChckYW/RUGGWsmgFtcaWFQZu5mwCvW03AoABSSgzvjIprvhE0DRdwF2RHn//NExOEU4YqUAN6KlCvT1cO5538f/efESTVUKYQECKo0Bx4oPYjIqGNf/+tbqrp/UyoPMaLH1ZDldboYB0JEobjLUjDZjXgnPFAhnGR6pwOpOCsAYsmY0QhtPKLopGiE//NExOAW0ZKUAN5KlJkRijKHAaODwtnNrEnDkxQKDqzUF5JqQi+OefdjCpZsgSQqyHgL6vlzoNgdzOpU5SqUYXZ49jjkbTIOWDsHJnRmIBk6IGqxgElzJhkVtI7hxMDG//NExNcWicqcANZKlVQV3nJMqLNKsBz4CBkIU1oDADI5ELKdW4fPTHFzjcEEBITpCDpYNlqlkRkTzv/6QrXd66Mjh4WVGFFhLqlXOFTz6sAcalitgRVVtlwUCGaAwyyE//NExM8WWQaYANaScLVkoYFDs1zoMGBCAYUh4WdDKNMyzfRuYeYzllXuT9XqJ0hKsRiOYXF0+D4VMs//6EqI86l6UIpbKBVg7VKoYaqUPSgVJYGZYLIknBRcU6ttICzS//NExMgUmPacAMaYcCigYV5bAWAHGQlNTC6WDRTFsMVuSl6J63H3go+NwVK/P26Xnbp5X//6X93qJGKDNzQgsmdYtGO9WQDojr9kU6QAKdSOLEDhYVNcQ6v7dupzWMJI//NExMgUqOqcAM6ecItPNTlGKw5VQcAv8QA71zKwjhZZjsUMD6jaQ9f////1Uf////9Vr4xwdTIGV9gYgi3k+pjZCmlxzglU/DQqASvf43dvqm1FbWVt1IXfbwxV2cx1//NExMgT8OqcANYwcAC8sPlyTBDIR1HHHqW6DnwNgg97P//2gD/llbGVlEsiA2nhMWCcaaEQo4A1bsiFUztLfa4ybvIpje62bXKSHqb1YzS3W1C6SBIx+p0qBnMzxCS///NExMsSqN6gAMYecBzMQ9CrzA9KNkyG///V/xjPCDRRjE+vADpL8XARICALXJgtyebyAFdjMSHNlvPHGT23+7zpd23ZJIVuGgoTEVIMaVnXEakUkBLhkFoTANFwkB5I//NExNMR0N6cANYecMEQaGM59T307ba9zaFkQwijLoy0tPWpInDd/OJGEGJ5SmBwdbtzBLOd2MwFMLZZUFVuoj4+llEfWrr4nL9F65mMAfCORTPSjPMt3VyrxZFtx9Jn//NExN4R+PakANYecI1iQfU4ryJK4Fp4NlnWkC7G+pLC3UP9qSSCBoBA2WHgWZShs7wQupnmAQ+jqcOitjWX2ZSoj0D4FKxRVvqyX/To6BjGdFu7//+iN3ffLJ0z+57U//NExOkXKd6cANPOmFqp+rMd3qdHqd8775zoQW6EIQhCEJQlAjGD+h9i2eoAFNRXK9ldKUelGyMU9fV++7lJJ/7bIlkU717dnTruQ6Qpq/yZ6b7OTnzMzn9P+3Sbf/ZS//NExN8S+TqgANNScGW9/cyu7Vp6s8dxn7TCyKurKXc6CFMy1RtYueUMHu1Qymduo1wnGpbPhOP0MtLT8oAmMwtA+jcZH9EeEAoFMCb1gQJbeQfMETG1KtLf/rLL7/oB//NExOYW+vaUAMFEuSJffy//PerTP/uefj/d/VP6jiGy1k1ti7r9SWRonipE7SMo+ogxh8d5qdPuWbZqrT3njdjKGg0NR2FSBkoQQ7klysfyWquIoJ4RBwDBSoIw2AiA//NExN0fexqQAHiYvZ58zIubBQPRMbEVH/6f//////fn//5L////////Nf6fXzO/xN1pN80v8zbjEqHqlqZQbTnULoOMSLOOprHqYSWeHdkCQc4oH4cCOgNxlhcUQOGG//NExLIaWxacABBWuYsSaNWf/X3/yl//z////Sm7////+qEEzu+nkaQggKCY8gcHC7nIIOpkETT9zKIkEhkw0xjjlDzVIdhIGMMUcsWQ4kARnKKkFmUFgOQVC/9wQrKe//NExJsS4xqwABBQvV0GaDP/zMiEcnmL0/ddA7kFOi//2+kxWoxhRkuZ+hDAQMwYwYdWKVBSnSwdhrxjREWX8rZOqLRh2eASGfi4Qr/hWEl5dahEQSYeR5Mf0rVKH1V///NExKISEv60AAhKuOfy9+68vRK876Nn2Pn/AqsKErWuiwFer0N9ejTKvZKuAuoeQgKir/d5f/nREfZr0jh6s61c+hSGA0AWgGo0HBeLmFPYbNCJoFceg6VQJSU6KDQm//NExKwQKhasABBEmKOqrKSx7b/hXGRExQqEgZBpQXKmUwG8iiv27/h1mv7vfZmV6km5dSnIhmhs28RnPHjLiK4fOKdd3vD1PvzlveKeg+bcnH627v95///xsXOdwOH6//NExL4O8eaUAAhGmCM+YEhW4gQknv9B7LTf1VMvj+gRBEzyczDiwMRYI9zdN1SxBHCnuHAxDh2EE90GkAEPJwNw8poR5cQk/J6xAHu5xzlJ4uWn7z3Mru7+R/6FlwuX//NExNUQ+OJ8ADhGcOI/EJMGYg6xb7gAQogRUvVT/VxdecYBnL6rdwcwmFf7n1cKYeniw36bRLq1uOydATQoK5UFWNsqetFYwRo94zpezE29etzlO9crPVhmixn8Lesb//NExOQQ6QpsAGhEcZWqPJrW9N0+e2QqQ5ptffrbwIUXMSFD1mPBxSPm0+8f7/pGrvW7Z3aWNvGa68X41/8Yz///8Yvu8+q7+Y3hx/8fEaCGmmXt9kMqgExAklVDEZsS//NExPMXGw54AU0YAdTFJ/hgzyLDCo4NcP8zkJzZciMwBEwOCC3IsKBwADQlAIPA3VGYAwNwKFxQwAkAKPx7IQsJuRMn1GheIofKtlspmXWpmdBNNa1m60FrQPqRW5KK//NExOkjGsaAAZh4AEDyFSzcu01sZug6Tolkp3Q6GYVqmaLTrHgKOf///0Rb4wLFfaQOAGpyb70l/TAhnBAgQWRvTjHQ8d+EQGPJgoDq0jIAMUh9H+AJ13zJ6UMnBCJu//NExK8g0caEAZygALQ2ny54I67gXH+/JIgGXq1/Ffyyvhts5QOdqFn6Bc/+K/3z8TO1Ad5u/ayLva99tQe0pYc////8uaSBlLVXdinpHfAASeQRGGABCLIVCpofuykU//NExH4aObaEAdxYAIjQG3kDgQXM7B0R7QwAmEDJwhyk22aHnWBR8Y2AsgjM25Ku4fy3TQJUw3S3qfvcrVJY5qvKIft9nlztPjckicPyiajUaFxTdF5lvpdzGMRWIDBy//NExGghiwKEAN7KuZMr1MU5yodJqlH50////////e2cyMezuoskShza0ipyaP5WiAZ3KaBqWriEIBMhMk4QmBokNu2BNszzE44ttXdWgZFwdcOou2zO0wQLINbTNmXQ//NExDQekeaIAOaKmD6zOUEC6HE1TQ0+r91Ma0SfuN27mT8afRxGrM2ewKAIBgCF2OWqNSnX///Fh7Cw4TO6Hj3Po6KZhEaGRv//9JJl+/tYHgfqvd3ceswBPDi+N4SN//NExAwUaN6cAN4ecFhC86o22eQ00fHNQ/ZrTwoEm6rurGmZKbOEk0/dO+JUEnGIWxwjIo52d/hhWUu4XTxpMbBOfDrv//9jTWiyoMp/////q1Xl/85gZQwwin9dmgvO//NExA0RyOKcANwwcIWgOgiahnwMkXTMBfAMR9DOkYS71fbCDUJdsVl2HBQaScPznzKDMMd33GS23yP//qTiLV+7/////4qqudysFgAZ7aNBJfCoqFwxzOJHFeknsVIH//NExBgRMOKMANYecLtrDdyfs4a3+u5fnbaxXZbog6y4qFMK08U+LaXGJpC1QrYpUCiLWj+uy3/+VgM+L5m5WYC1HZ9xuYoCRIoEyqCgYEMXDDB0oyvZjRfJg1LFfqS7//NExCYSEOJgAN4YcDpbPNZ5Zfr5grka1MjWsFYmj0JQlGZqCRLEVd4dBVyFXPpqLuAqDaQA3Y7gNbFCn0gVpMMONTzta1Kc+YctdBA0JXKCahYcI2Wh1AXaKWxiR8Bi//NExDARoGJIAVgYAHC73qmzCMQr0usUm30bOp239/6DCa6qXTDItC+ia21uzPxCPutrN/IpL7svnkJAghl44F3xQQA/INl5tCDDxdxjCGYIE9RyDcXH2iA8HwLhUP/q//NExDwgGxJkAZhAAbTQXBuI83Af4IAqBADg6Gc/HHDKLvdJAfiRQEAkDwWBwFALOP7//Pmvn3ea4w4GCo23tv/////nv3eeoe/3Kq5HMd1rtR6G1x2VNhBr72f7Puxd//NExA4VswqoAYMoAX/912Rn9zJacUHoZWNZaoNKQqpESlOhXlRWdRWQqQ+pzFJEQ4Ug076d/ExeWxztdUGiQ0GIIoRcl+SjU+dka9XdZNFNUXQIW20//X6//////0VU//NExAoQciq0AcEoAFIYcdKMfxokKAHIr7rIW10qWRxbtEySKQpGGkVCDp2d9zlOILUXQMSuKAEvdvUsg9IWNz9aw+ulS/7//v//+vhkf9O6+z6l/HvUpwEwGJe3dvj+//NExBsR6i60AAhMmGfefubReSnB05Vzfht4pMrqI8suk6ham2K/ScVeMcgg5zgYVmdoulqVPknrQt9tiA8T03KWbV/7///l+ycpPZ8yAzM5ZayHQ5A8hyNVL9KXKrKr//NExCYRafKoAEhKmBHh10M6OKlKYRSoqJPKtBQG22PuQCql5YDXC88qjr9N7DleQhWor6Xkpu1UcTOcmEQqncAMdlGM2KO1hd/9ft///+XMdwgV2GkSuFBKHFiqyJ2I//NExDMSIaKYAMlGlFlX/c0KoIPKT1BB5UJy+9////1scNWbnZpRsyZkMU0zPUxzcdgU6kUNuWpyJU4QZp0NkDsx0KX////9Wo0tHPEcWJBU2WQOUG5AqYmI4trdN0/S//NExD0ReZqcANCQlOjdF2gw+M+WNKmOUYEtDa9xDAJxBNzMdAl8p5hcCAIk2M30LJUV2Wp38/////7r7dbHpkUic2ANSTSAnSQEg7tNmolw882sm5jzok+qlOUyh2Mm//NExEoQ8VagANKSlE5i6zAQZlqv1GRCbkN6UDe5QGh93xmZlBryDr///lvShqxiZAE5M8GgExdBQHkhXoB7HSxU65YFih4EaQ6XBp7vbyCqmLU6Fx52wTzQWODhhyhE//NExFkSYU6gANKWlO23IBmpfZRMDuoCeCdrM1aidRmYbrLE5tQt+8f/Ucw1EmlB8KryKw2LCsKUDYfY5v0QakpxaWWhX6Lhor4UeH/MKYsWAigjtFs5W61rSqjx2K8f//NExGIQsTaYANTQcMv3UpeZvvQWooEM1RzQRN9NDQqwQWo0XHHQ47l0aEQQhYgmapbcj4UiwjHhxnwEhgcpPS7QXUCQK/Rys2qgpomcozf6v/54ZuwJdqFrxj8Q/Ejp//NExHIQkTqIANYQcLKrcSvFC1rpXjzIYeEkV/9P/013ZW4YAfQ+DuoFGE2Q8CPQtYHEZOx76JO6RTspERbFjcNWO8ilPugi+UWhsi0M0pPsw7v870XjkcMK9K9O7kUl//NExIIQaS6EANvQcI05f/z3////+t1afiAVgjUIj4mFquAYc8YMHpH46Pdl6n4YlapKN9oXYUBqw9Is6G3NNy03KECBwyw0HGBJ41l1Y539P+z+JxZnpgAA4VSNYnxP//NExJMSqR58AN4McJQnsQpLOEI1GKnVfWuJKJXJ1n4f0zrm1orGM4uA10CCRw4VjI4XX9Ed3SMAKMiXfPKdTyOnkgjrkkIE4IuKHEGkr3ECAXeFy58IuyCFiB1IxTb8//NExJsPQJ6AANYMTB+sIk4M0HWe0aaxklNufHymgP25BjExB1ZHACc2jCiJrBQG8BA0REVmsMyikDDyY6GM9YOMcxeID12O1W5nAyRnJiSpkZzlhWRXZ8/uZZNnyeeW//NExLEYccaAAHmGlHnfnZDLbYZC5kjJlDcMEGA7lPUUDX21dP0nAX7ZaoISgOqYlSOi3Ud/MfafhFdxRTyzhvRzpCFG8AyFEjj75Gv+nW5i/fh23xxvOKfutH23m/6n//NExKIYWw6EAFjGufF/uhfpYzpLc8Na8nBCAo5Prm83+lw6VsY3QievLp4MjnGtBHVUdhC9fUM16pG4TQLTNsl/4Zkfc/y10VkI+xfdTLnH+Wc7enZzyJsv+9Ovr5ZZ//NExJMTaT6IAFhGcW8LSkLj+bICLUI91TfyTwKXmSgBILbMQGEWyRAm59d0dLccjJyI8qyP5shV5/ARTe61McTphQtgxsR0d/7+3K5Ob+A77LfVzH++7Zr1C729liE8//NExJgUCvqEACjGuXVVfVub4uZhBqD9Rw/wgAgA+0e1oWbiEKWIDwBz9MOxAfNHxR4SFTJUQxZiQVK2CY8CgGkgbCU9AXUOUp6RpHTI3X1epX879ipXmnpVpmWw63E1//NExJoSEWaMAAhGlRIPOfEvCOAnwwCzMxBEWOmBMC0guUpssGIzxtCyhZalXAhEhBCn1l2UI7jhYD05LyT7Ul32WhK2mvRLhkuet3Q+Zz262IsYFHoDRkIAJ8dARwcO//NExKQSkHaYAHvSSEjAgWeFKiZCygIkgMXNBQkSBuIoDgJQrKIyGopGndug3fqTsfg24kWsGKbUjd+pOQO7Sn6N2nhVu7FNuYEZYJGl1jSEwgjyZpl8MKymDHoNix1l//NExKwRuIqQAM6wTCEIgH1gBj5dKJPA1CBzHUai0lfUX/RfUm3J5/fmXDwU2pTN01Y/K+4eAhJnf+iY0VgKjW88CRETTdypKAU7j1iEYyoVXi0z9TcQEew9fN2bAosG//NExLgSub6QANUElUrT7ErXOuPDfwHP//1O///z/lG0Ec5RuI4RkqFgfZqHevr9+rcVKZn7YpkKk3fyJVRNorQQkyAOIZAe2UToA9YdesUwJmHh5faiQBgEt0RqWOt1//NExMAS2caYAN0KlTtJV/U4JSdbpTH/zMB50+wFDlDgcLsupjIPw1W7/VyIsH5HM6CxKqXv3CB0NZaaJJsAHqJsYOhiImPolZiM2pEIDAk+yzkrGDTgHHhmBC84l4Ej//NExMcTIYKYANZOlE0xhkOkWJJOS/jna3K3bd37k21p5bWFNUgYDicOq+j/6hLXkUlLD5Bn///3fXXLuVEBQg8tlT7wyBPK+XklwoEBZViMxgzMBImnW82jlpnuq6go//NExM0TYPKUANZYcAQlzJFLCqAxVImw65RiA16d00hSx5rNeSLLabO/SUuSweev//+z/Ye/////0JzWDMwLDRpzlxmGB55xMXzpRWASFf6AW5lta87nG29t7pIIazFa//NExNIWWOKQANawcLK4W6s1gztDoEKn2IQKPDVBD6Xi/GdN9K2Hvs/Mroq/DYqeQ///qn8xvDJphlNXnEEh9wJIqWuEBcnoq/ZdGWsw1fwiMZs7nH+pbl2ant0jPYNW//NExMsUeN6YANawcO23KpInCSI0VafRfkOj4RL1ytBMHQp/6Fiw3D4ggTCC0SAC2pgqEhEsOlQIQMJCF6hq4OpXbcIU+Y+2aeaRmtbMbzp5m6mhZOkstaJssMoSVK68//NExMwTMOaUANZwcFnZkQD2OKGWBiFgiB0f/TVRprkZMjeTIDRMEGhZstSdCRmakeJkJ6UNQOFJ8uA8GdYOQxUeqIKslfoYrXJwxEvE79q1ElfTYw4TxZ1JDiK9OIWu//NExNIRAOaUAM4ecMyzAJpGTkGSNPIyp5KuZyRELSCpV0z9OYdNjbCbYUDapWo9rxJJoMdsVzhtkZ3ksKG9jTTsk7xvkbNWrJkqHUtSTalt2rFlN2/sYsP261V21ZmY//NExOESmP5wANvScBO4UAYYBgMdIZA0DdsAlo0uNzZYDAYTIqCUVhAKUK4bM9GTXBTbtWWzr5m0tdrz0jabqsS6M8vxhiTptyfMbZAhRXzeuFKzMy/Alq80+tWms6vu//NExOkkQe50ANvemNXWM0rLGq5MeRwSHUnSzRXd36f//7rSLkrVdyvdFFm/mCRg4gXzYwagLelQJ4MDWfdjiKlGr0+/X/+ujtHjjipGJggHGOLMeOJNGzlAVAB0TDwv//NExKscUaKEANpelCRBQqFQZAf//////cOVg/bMDGJfxopp7iRr3iKIo6lw5ASc0TK3sUai7mb6X//1///8xXa8ByoYDoO5Ec0kpaeGdDmMPEFEk66Z4Ou9X////9jx//NExIwRkTacAMtOcMl8asLJr0niQC2snd8UgDS6IjrBSPqJjMzWo/tq/66f/roaaaPIOhODBcOMNTRFMUoVLQoZCRk2NfahSDJr/////+VmKmCRIqh0lK70nHFOFSAl//NExJgRgUKUAMtQcKNc0qinnoUBLQW492o30+n//8/tsorg+FSQwMkP1ggkc7HOLwowSXsYdIBwE2f/////5FZRCoXuBB/B+FUz0RV8z4krKFYHiZWHXDC3QWylEVbX//NExKURAT6QANQOcP///9D5yB4Ahw4Eh0VZAZRERKcVlPZSz7LZdGkDrEP1af///35FQOhhBoyihmUsCNefh5rBiay5GYggSbIE2jxqwW3M8RDM+nb///+k5c0upYFx//NExLQQ2UqQANHQlEGoWHypxEmopNKORREdVRL6U97D3//////pEoqug6HEOoNyfnECsiTDvukU+vJLlf9OGAHDCTFbvf////q85qD5cQihQsOIYHiQXCUwgPEWH3Js//NExMMSMaaMAMiKlFklnAqc/dZ/K//7vW9DwqoFBapz4Q8R+evG84gtS5Z0osAo1uT7XZ8wwBVOHsjpsv/+n/0uyKooHXDyAYYA5g+JIYQDxA4fQ13VNXqzbxcRKOvr//NExM0Q8aKIANFOlEde/vNC//6OzqaCAPvWindomtHHlK+lQ4fjNIret6J1JNIhVAMGh0QDruZ01oj16/9f/1V8w1lFQgfA+IgWEQQi0DIdEsWZLR1KtPA1F55lWSRY//NExNwSEUqEAMiOlGwYjyj/bT73f+v/VAQ0kDRYjU9n7HQzwvJhYZAgrqQlOVerYYTDtOIiikUlwlQuUOLmWvZzUmqi6/2/b///yzuj5ScFj0ClDiNgFF9mTtlqrO6P//NExOYToaaAAMlKlP/L1CyqFkCyfZCX////IyQP4dYQUCeEHEwEaE1KJGEKRZ4l+RYRFRc0FShMVciTdHJXkrzxWm5q829j//6LZjBSDgIYgoKQUFIKCqxlT+ZWflBH//NExOoVaa58ANFQlBjKwYEcGmt/6sDSktVbQKARlz3Uij/RRhQFWcpNSYNeBjLOLdrmbf/X9ZXOpLd/2qZJGqnESKMkQaqWRbQWbMiR3y0dz9f9rd/gVlsZ1D/kWSZv//NExOcUOaZwAMnMlG+X939Hu2m/d90c07QQO2kkQC+0mWGmzcFSQuWJMR2WXqulMnwhbycVePxTDU/Doh9iQvMNLQzDxVW56qqlBSiVRsRJcDTxiWsfPEtTKH6BZZJx//NExOkT6bo4AHpElbWqWw6SzrB2liyJ4wL1OCtkjBKyNORQCNVQKgo6FQCpyiYKqrRIIVVUEBQUaiQwqqwUSCFaqGWM1Ew8WEpGE3UMyyJ08ssWt+VyK1jDwaERYedD//NExOwUuU4AADDMlaTKjHtJf8iSUFHhoRCVTEFNRTMuMTAwVVVVVVVVVVVVVVVVVVVVVVVVVVVVVVVVVVVVVVVVVVVVVVVVVVVVVVVVVVVVVVVVVVVVVVVVTEFNRTMu//NExOwU2W30ADGGlDEwMFVVVVVVVVVVVVVVVVVVVVVVVVVVVVVVVVVVVVVVVVVVVVVVVVVVVVVVVVVVVVVVVVVVVVVVVVVVVVVVVVVVVVVVVVVVVVVVVVVVTEFNRTMu//NExOsUsRnUADDGcDEwMFVVVVVVVVVVVVVVVVVVVVVVVVVVVVVVVVVVVVVVVVVVVVVVVVVVVVVVVVVVVVVVVVVVVVVVVVVVVVVVVVVVVVVVVVVVVVVVVVVVTEFNRTMu//NExKwAAANIAAAAADEwMFVVVVVVVVVVVVVVVVVVVVVVVVVVVVVVVVVVVVVVVVVVVVVVVVVVVVVVVVVVVVVVVVVVVVVVVVVVVVVVVVVVVVVVVVVVVVVVVVVVTEFNRTMu//NExKwAAANIAAAAADEwMFVVVVVVVVVVVVVVVVVVVVVVVVVVVVVVVVVVVVVVVVVVVVVVVVVVVVVVVVVVVVVVVVVVVVVVVVVVVVVVVVVVVVVVVVVVVVVVVVVVTEFNRTMu//NExKwAAANIAAAAADEwMFVVVVVVVVVVVVVVVVVVVVVVVVVVVVVVVVVVVVVVVVVVVVVVVVVVVVVVVVVVVVVVVVVVVVVVVVVVVVVVVVVVVVVVVVVVVVVVVVVVTEFNRTMu//NExKwAAANIAAAAADEwMFVVVVVVVVVVVVVVVVVVVVVVVVVVVVVVVVVVVVVVVVVVVVVVVVVVVVVVVVVVVVVVVVVVVVVVVVVVVVVVVVVVVVVVVVVVVVVVVVVVTEFNRTMu//NExKwAAANIAAAAADEwMFVVVVVVVVVVVVVVVVVVVVVVVVVVVVVVVVVVVVVVVVVVVVVVVVVVVVVVVVVVVVVVVVVVVVVVVVVVVVVVVVVVVVVVVVVVVVVVVVVVTEFNRTMu//NExKwAAANIAAAAADEwMFVVVVVVVVVVVVVVVVVVVVVVVVVVVVVVVVVVVVVVVVVVVVVVVVVVVVVVVVVVVVVVVVVVVVVVVVVVVVVVVVVVVVVVVVVVVVVVVVVVTEFNRTMu//NExKwAAANIAAAAADEwMFVVVVVVVVVVVVVVVVVVVVVVVVVVVVVVVVVVVVVVVVVVVVVVVVVVVVVVVVVVVVVVVVVVVVVVVVVVVVVVVVVVVVVVVVVVVVVVVVVVTEFNRTMu//NExKwAAANIAAAAADEwMFVVVVVVVVVVVVVVVVVVVVVVVVVVVVVVVVVVVVVVVVVVVVVVVVVVVVVVVVVVVVVVVVVVVVVVVVVVVVVVVVVVVVVVVVVVVVVVVVVVTEFNRTMu//NExKwAAANIAAAAADEwMFVVVVVVVVVVVVVVVVVVVVVVVVVVVVVVVVVVVVVVVVVVVVVVVVVVVVVVVVVVVVVVVVVVVVVVVVVVVVVVVVVVVVVVVVVVVVVVVVVVTEFNRTMu//NExKwAAANIAAAAADEwMFVVVVVVVVVVVVVVVVVVVVVVVVVVVVVVVVVVVVVVVVVVVVVVVVVVVVVVVVVVVVVVVVVVVVVVVVVVVVVVVVVVVVVVVVVVVVVVVVVVTEFNRTMu//NExKwAAANIAAAAADEwMFVVVVVVVVVVVVVVVVVVVVVVVVVVVVVVVVVVVVVVVVVVVVVVVVVVVVVVVVVVVVVVVVVVVVVVVVVVVVVVVVVVVVVVVVVVVVVVVVVVTEFNRTMu//NExKwAAANIAAAAADEwMFVVVVVVVVVVVVVVVVVVVVVVVVVVVVVVVVVVVVVVVVVVVVVVVVVVVVVVVVVVVVVVVVVVVVVVVVVVVVVVVVVVVVVVVVVVVVVVVVVVTEFNRTMu//NExKwAAANIAAAAADEwMFVVVVVVVVVVVVVVVVVVVVVVVVVVVVVVVVVVVVVVVVVVVVVVVVVVVVVVVVVVVVVVVVVVVVVVVVVVVVVVVVVVVVVVVVVVVVVVVVVVTEFNRTMu//NExKwAAANIAAAAADEwMFVVVVVVVVVVVVVVVVVVVVVVVVVVVVVVVVVVVVVVVVVVVVVVVVVVVVVVVVVVVVVVVVVVVVVVVVVVVVVVVVVVVVVVVVVVVVVVVVVVTEFNRTMu//NExKwAAANIAAAAADEwMFVVVVVVVVVVVVVVVVVVVVVVVVVVVVVVVVVVVVVVVVVVVVVVVVVVVVVVVVVVVVVVVVVVVVVVVVVVVVVVVVVVVVVVVVVVVVVVVVVVTEFNRTMu//NExKwAAANIAAAAADEwMFVVVVVVVVVVVVVVVVVVVVVVVVVVVVVVVVVVVVVVVVVVVVVVVVVVVVVVVVVVVVVVVVVVVVVVVVVVVVVVVVVVVVVVVVVVVVVVVVVVTEFNRTMu//NExKwAAANIAAAAADEwMFVVVVVVVVVVVVVVVVVVVVVVVVVVVVVVVVVVVVVVVVVVVVVVVVVVVVVVVVVVVVVVVVVVVVVVVVVVVVVVVVVVVVVVVVVVVVVVVVVVVVVVVVVV//NExKwAAANIAAAAAFVVVVVVVVVVVVVVVVVVVVVVVVVVVVVVVVVVVVVVVVVVVVVVVVVVVVVVVVVVVVVVVVVVVVVVVVVVVVVVVVVVVVVVVVVVVVVVVVVVVVVVVVVVVVVV//NExKwAAANIAAAAAFVVVVVVVVVVVVVVVVVVVVVVVVVVVVVVVVVVVVVVVVVVVVVVVVVVVVVVVVVVVVVVVVVVVVVVVVVVVVVVVVVVVVVVVVVVVVVVVVVVVVVVVVVVVVVV\" type=\"audio/mpeg\" />\n",
              "                    Your browser does not support the audio element.\n",
              "                </audio>\n",
              "              "
            ]
          },
          "metadata": {},
          "execution_count": 60
        }
      ]
    },
    {
      "cell_type": "markdown",
      "source": [
        "More operators: <br>\n",
        "* Comparison Operators: ==, !=, <, >, <=, >= <br>\n",
        "* Assignment Operators: =, +=, -=, *=, /=, %= <br>\n",
        "* Logical Operators: and, or, not <br>\n",
        "* Identity Operators: is, is not <br>\n",
        "* Membership Operators: in, not in "
      ],
      "metadata": {
        "id": "sfubu24UbqjH"
      }
    },
    {
      "cell_type": "markdown",
      "source": [
        "# 📗Topic [3] Data types: number, string, list and dictionary\n"
      ],
      "metadata": {
        "id": "3eSrUoglRh6-"
      }
    },
    {
      "cell_type": "markdown",
      "source": [
        "\n",
        "|Data type| |\n",
        "|:--:|:--:|\n",
        "|number|int, float|\n",
        "|string|charcter|\n",
        "|list|[1, 2,4], ['Mary','Tom','Jane'|\n",
        "|dictionary|(key: value), [('English': 80), ('Korean':90)]|\n",
        "|tuple|('zero', 0)|\n"
      ],
      "metadata": {
        "id": "ZVFb5JmJrPXu"
      }
    },
    {
      "cell_type": "code",
      "source": [
        "a1 = 3   # a1 is integer\n",
        "a2 = 3.0 # a2 is float\n",
        "a3 = \"3\" # a3 is string\n",
        "\n",
        "type(a1); type(a2); type(a3)\n",
        "print(type(a1), type(a2), type(a3))"
      ],
      "metadata": {
        "colab": {
          "base_uri": "https://localhost:8080/"
        },
        "id": "g-kvldqENA1e",
        "outputId": "8dad1b93-12db-4eb5-ca99-826ecc4104d9"
      },
      "execution_count": 69,
      "outputs": [
        {
          "output_type": "stream",
          "name": "stdout",
          "text": [
            "<class 'int'> <class 'float'> <class 'str'>\n"
          ]
        }
      ]
    },
    {
      "cell_type": "markdown",
      "source": [
        "list and index (0, 1, 2,...)"
      ],
      "metadata": {
        "id": "HC_wMsPnNbzs"
      }
    },
    {
      "cell_type": "code",
      "source": [
        "a = [1, \"Mary\", 4, \"John\"]  # This is a list.\n",
        "print(type(a))\n",
        "\n",
        "a+a"
      ],
      "metadata": {
        "colab": {
          "base_uri": "https://localhost:8080/"
        },
        "id": "LyTw7phONZHE",
        "outputId": "67bef94b-4d25-49e0-d59c-277dda958466"
      },
      "execution_count": 71,
      "outputs": [
        {
          "output_type": "stream",
          "name": "stdout",
          "text": [
            "<class 'list'>\n"
          ]
        },
        {
          "output_type": "execute_result",
          "data": {
            "text/plain": [
              "[1, 'Mary', 4, 'John', 1, 'Mary', 4, 'John']"
            ]
          },
          "metadata": {},
          "execution_count": 71
        }
      ]
    },
    {
      "cell_type": "markdown",
      "source": [
        "* index: Python index starts from '0'\n",
        "\n",
        "e.g., a = [1, 2, 3, 4]"
      ],
      "metadata": {
        "id": "-fL-pJvj7NW8"
      }
    },
    {
      "cell_type": "code",
      "source": [
        "a[0]\n",
        "type(a[0])\n",
        "type(a[1])\n",
        "a[0] + a[2]\n",
        "a[0] + a[1] # int + str = error"
      ],
      "metadata": {
        "id": "9Z5zLDGc7X13",
        "outputId": "075d36b3-418f-4246-f1d2-e5f62a0be532",
        "colab": {
          "base_uri": "https://localhost:8080/",
          "height": 211
        }
      },
      "execution_count": 73,
      "outputs": [
        {
          "output_type": "error",
          "ename": "TypeError",
          "evalue": "ignored",
          "traceback": [
            "\u001b[0;31m---------------------------------------------------------------------------\u001b[0m",
            "\u001b[0;31mTypeError\u001b[0m                                 Traceback (most recent call last)",
            "\u001b[0;32m<ipython-input-73-6b699a7a71e2>\u001b[0m in \u001b[0;36m<module>\u001b[0;34m\u001b[0m\n\u001b[1;32m      3\u001b[0m \u001b[0mtype\u001b[0m\u001b[0;34m(\u001b[0m\u001b[0ma\u001b[0m\u001b[0;34m[\u001b[0m\u001b[0;36m1\u001b[0m\u001b[0;34m]\u001b[0m\u001b[0;34m)\u001b[0m\u001b[0;34m\u001b[0m\u001b[0;34m\u001b[0m\u001b[0m\n\u001b[1;32m      4\u001b[0m \u001b[0ma\u001b[0m\u001b[0;34m[\u001b[0m\u001b[0;36m0\u001b[0m\u001b[0;34m]\u001b[0m \u001b[0;34m+\u001b[0m \u001b[0ma\u001b[0m\u001b[0;34m[\u001b[0m\u001b[0;36m2\u001b[0m\u001b[0;34m]\u001b[0m\u001b[0;34m\u001b[0m\u001b[0;34m\u001b[0m\u001b[0m\n\u001b[0;32m----> 5\u001b[0;31m \u001b[0ma\u001b[0m\u001b[0;34m[\u001b[0m\u001b[0;36m0\u001b[0m\u001b[0;34m]\u001b[0m \u001b[0;34m+\u001b[0m \u001b[0ma\u001b[0m\u001b[0;34m[\u001b[0m\u001b[0;36m1\u001b[0m\u001b[0;34m]\u001b[0m \u001b[0;31m# int + str = error\u001b[0m\u001b[0;34m\u001b[0m\u001b[0;34m\u001b[0m\u001b[0m\n\u001b[0m",
            "\u001b[0;31mTypeError\u001b[0m: unsupported operand type(s) for +: 'int' and 'str'"
          ]
        }
      ]
    },
    {
      "cell_type": "markdown",
      "source": [
        "[Github accounts](https://raw.githubusercontent.com/MK316/Spring2023/main/DL/files/DL_github.csv)"
      ],
      "metadata": {
        "id": "S-KG49Zaim0S"
      }
    },
    {
      "cell_type": "markdown",
      "source": [
        "\n",
        "\n",
        "---\n",
        "# The End\n"
      ],
      "metadata": {
        "id": "3cZjH9xIiN4_"
      }
    }
  ]
}