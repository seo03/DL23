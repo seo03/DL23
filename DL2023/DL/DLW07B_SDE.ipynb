{
  "nbformat": 4,
  "nbformat_minor": 0,
  "metadata": {
    "colab": {
      "provenance": [],
      "authorship_tag": "ABX9TyM3K0C8+SOiNPUSEhOAk6MQ",
      "include_colab_link": true
    },
    "kernelspec": {
      "name": "python3",
      "display_name": "Python 3"
    },
    "language_info": {
      "name": "python"
    }
  },
  "cells": [
    {
      "cell_type": "markdown",
      "metadata": {
        "id": "view-in-github",
        "colab_type": "text"
      },
      "source": [
        "<a href=\"https://colab.research.google.com/github/seo03/DL23/blob/main/DL2023/DL/DLW07B_SDE.ipynb\" target=\"_parent\"><img src=\"https://colab.research.google.com/assets/colab-badge.svg\" alt=\"Open In Colab\"/></a>"
      ]
    },
    {
      "cell_type": "markdown",
      "source": [
        "Strings: A string is a sequence of characters enclosed in single or double quotes. Examples: \"Hello, world!\" or 'Python is great!'\n",
        "Integers: Integers are whole numbers, positive or negative, without any decimal points. Examples: 42, -5, 0"
      ],
      "metadata": {
        "id": "u5eLD996fUya"
      }
    },
    {
      "cell_type": "code",
      "source": [
        "greeting = \"Hello, students!\"\n",
        "year = 2023"
      ],
      "metadata": {
        "id": "FK8qy8nlfcBQ"
      },
      "execution_count": 1,
      "outputs": []
    },
    {
      "cell_type": "code",
      "source": [
        "print(greeting)\n",
        "print(year)"
      ],
      "metadata": {
        "colab": {
          "base_uri": "https://localhost:8080/"
        },
        "id": "Vx93PU7ZgxQh",
        "outputId": "3b9277b8-179b-4cb6-eea2-4809ca94fc46"
      },
      "execution_count": 2,
      "outputs": [
        {
          "output_type": "stream",
          "name": "stdout",
          "text": [
            "Hello, students!\n",
            "2023\n"
          ]
        }
      ]
    },
    {
      "cell_type": "code",
      "source": [
        "message = greeting + \" \" + str(year)\n",
        "print(message)"
      ],
      "metadata": {
        "colab": {
          "base_uri": "https://localhost:8080/"
        },
        "id": "5Ahkm2x0hJdq",
        "outputId": "fe081380-7aa5-4943-a648-c6627a494079"
      },
      "execution_count": 3,
      "outputs": [
        {
          "output_type": "stream",
          "name": "stdout",
          "text": [
            "Hello, students! 2023\n"
          ]
        }
      ]
    },
    {
      "cell_type": "code",
      "source": [
        "num1 = 10\n",
        "num2 = 3\n",
        "\n",
        "# Addition\n",
        "print(num1 + num2)  # Output: 13\n",
        "\n",
        "# Subtraction\n",
        "print(num1 - num2)  # Output: 7\n",
        "\n",
        "# Multiplication\n",
        "print(num1 * num2)  # Output: 30\n",
        "\n",
        "# Division\n",
        "print(num1 / num2)  # Output: 3.3333333333333335"
      ],
      "metadata": {
        "colab": {
          "base_uri": "https://localhost:8080/"
        },
        "id": "6c5_zRj7hdDs",
        "outputId": "e7d8f43d-09c0-45e4-ee15-d66114893218"
      },
      "execution_count": 4,
      "outputs": [
        {
          "output_type": "stream",
          "name": "stdout",
          "text": [
            "13\n",
            "7\n",
            "30\n",
            "3.3333333333333335\n"
          ]
        }
      ]
    },
    {
      "cell_type": "code",
      "source": [
        "# Prompt user for input\n",
        "user_string = input(\"Please enter a string: \")\n",
        "user_number = int(input(\"Please enter a number: \"))\n",
        "\n",
        "# Print string repeated user_number times\n",
        "print(user_string * user_number)"
      ],
      "metadata": {
        "colab": {
          "base_uri": "https://localhost:8080/"
        },
        "id": "P9-SRzzfh0Vb",
        "outputId": "3f76e856-70fb-44bb-8946-ddfece754c1c"
      },
      "execution_count": 6,
      "outputs": [
        {
          "output_type": "stream",
          "name": "stdout",
          "text": [
            "Please enter a string: 서다은\n",
            "Please enter a number: 2\n",
            "서다은서다은\n"
          ]
        }
      ]
    },
    {
      "cell_type": "code",
      "source": [
        "# Define the string\n",
        "sentence = \"Coding is fun and easy to learn!\"\n",
        "\n",
        "# Split the string into words and store them in a list\n",
        "word_list = sentence.split()\n",
        "\n",
        "# Print the list of words\n",
        "print(word_list)"
      ],
      "metadata": {
        "colab": {
          "base_uri": "https://localhost:8080/"
        },
        "id": "--_JTdkDjHjq",
        "outputId": "4ffa5b87-d646-4b6f-cab9-5b497cc03b8d"
      },
      "execution_count": 10,
      "outputs": [
        {
          "output_type": "stream",
          "name": "stdout",
          "text": [
            "['Coding', 'is', 'fun', 'and', 'easy', 'to', 'learn!']\n"
          ]
        }
      ]
    },
    {
      "cell_type": "code",
      "source": [
        "# Define the string\n",
        "text = \"Coding is Exciting!\"\n",
        "\n",
        "# Convert to uppercase and store in a variable\n",
        "uppercase_text = text.upper()\n",
        "\n",
        "# Convert to lowercase and store in a variable\n",
        "lowercase_text = text.lower()\n",
        "\n",
        "# Print both versions of the string\n",
        "print(uppercase_text)\n",
        "print(lowercase_text)"
      ],
      "metadata": {
        "colab": {
          "base_uri": "https://localhost:8080/"
        },
        "id": "8nyw6Zt7jn4-",
        "outputId": "2f17a4fd-6f68-46e2-f8d8-bc004c87a9ae"
      },
      "execution_count": 11,
      "outputs": [
        {
          "output_type": "stream",
          "name": "stdout",
          "text": [
            "CODING IS EXCITING!\n",
            "coding is exciting!\n"
          ]
        }
      ]
    },
    {
      "cell_type": "code",
      "source": [
        "# Define the string\n",
        "quote = \"To be or not to be, that is the question.\"\n",
        "\n",
        "# Print the first character of the string\n",
        "print(quote[0])\n",
        "\n",
        "# Print the last character of the string\n",
        "print(quote[-1])\n",
        "\n",
        "# Print the first 5 characters of the string\n",
        "print(quote[:5])\n",
        "\n",
        "# Print the characters from position 5 to the end of the string\n",
        "print(quote[5:])\n",
        "\n",
        "# Print the entire string in reverse order\n",
        "print(quote[::-1])"
      ],
      "metadata": {
        "colab": {
          "base_uri": "https://localhost:8080/"
        },
        "id": "G1z-sXKckGMs",
        "outputId": "28df3efc-07cf-42a8-c0a2-cc8a70cb05d9"
      },
      "execution_count": 13,
      "outputs": [
        {
          "output_type": "stream",
          "name": "stdout",
          "text": [
            "T\n",
            ".\n",
            "To be\n",
            " or not to be, that is the question.\n",
            ".noitseuq eht si taht ,eb ot ton ro eb oT\n"
          ]
        }
      ]
    },
    {
      "cell_type": "markdown",
      "source": [],
      "metadata": {
        "id": "weXYvhL-fS-l"
      }
    }
  ]
}